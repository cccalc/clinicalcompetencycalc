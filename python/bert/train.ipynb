{
 "cells": [
  {
   "cell_type": "code",
   "execution_count": 1,
   "id": "c241111d",
   "metadata": {
    "execution": {
     "iopub.execute_input": "2025-03-18T20:04:48.646555Z",
     "iopub.status.busy": "2025-03-18T20:04:48.646184Z",
     "iopub.status.idle": "2025-03-18T20:06:10.487504Z",
     "shell.execute_reply": "2025-03-18T20:06:10.486522Z"
    },
    "papermill": {
     "duration": 81.847569,
     "end_time": "2025-03-18T20:06:10.489795",
     "exception": false,
     "start_time": "2025-03-18T20:04:48.642226",
     "status": "completed"
    },
    "tags": []
   },
   "outputs": [],
   "source": [
    "%%capture\n",
    "\n",
    "%pip install \"tensorflow==2.15.*\"\n",
    "%pip install \"tensorflow-text==2.15.*\"\n",
    "%pip install \"tf-models-official==2.15.*\"\n",
    "%pip install \"tf-keras==2.15.*\""
   ]
  },
  {
   "cell_type": "code",
   "execution_count": 2,
   "id": "9222aa87",
   "metadata": {
    "execution": {
     "iopub.execute_input": "2025-03-18T20:06:10.495897Z",
     "iopub.status.busy": "2025-03-18T20:06:10.495657Z",
     "iopub.status.idle": "2025-03-18T20:06:17.263849Z",
     "shell.execute_reply": "2025-03-18T20:06:17.262904Z"
    },
    "papermill": {
     "duration": 6.77281,
     "end_time": "2025-03-18T20:06:17.265515",
     "exception": false,
     "start_time": "2025-03-18T20:06:10.492705",
     "status": "completed"
    },
    "tags": []
   },
   "outputs": [],
   "source": [
    "import os\n",
    "\n",
    "import tensorflow as tf\n",
    "import tensorflow_hub as hub\n",
    "import tensorflow_text as text\n",
    "from official.nlp import optimization  # to create AdamW optimizer\n",
    "from tensorflow.keras.callbacks import EarlyStopping\n",
    "\n",
    "import matplotlib.pyplot as plt"
   ]
  },
  {
   "cell_type": "code",
   "execution_count": 3,
   "id": "754048b8",
   "metadata": {
    "_cell_guid": "b1076dfc-b9ad-4769-8c92-a6c4dae69d19",
    "_uuid": "8f2839f25d086af736a60e9eeb907d3b93b6e0e5",
    "execution": {
     "iopub.execute_input": "2025-03-18T20:06:17.271117Z",
     "iopub.status.busy": "2025-03-18T20:06:17.270663Z",
     "iopub.status.idle": "2025-03-18T20:06:19.989208Z",
     "shell.execute_reply": "2025-03-18T20:06:19.988305Z"
    },
    "papermill": {
     "duration": 2.722744,
     "end_time": "2025-03-18T20:06:19.990724",
     "exception": false,
     "start_time": "2025-03-18T20:06:17.267980",
     "status": "completed"
    },
    "tags": []
   },
   "outputs": [
    {
     "name": "stdout",
     "output_type": "stream",
     "text": [
      "Found 649 files belonging to 4 classes.\n",
      "Using 520 files for training.\n",
      "Found 649 files belonging to 4 classes.\n",
      "Using 129 files for validation.\n",
      "Found 164 files belonging to 4 classes.\n"
     ]
    }
   ],
   "source": [
    "# Load datasets\n",
    "\n",
    "dataset_name = 'ccc-bert-250318'\n",
    "\n",
    "autotune = tf.data.AUTOTUNE\n",
    "batch_size = 32\n",
    "seed = 42\n",
    "\n",
    "ds_dir = os.path.join('/kaggle/input', dataset_name)\n",
    "\n",
    "raw_train_ds = tf.keras.utils.text_dataset_from_directory(\n",
    "    os.path.join(ds_dir, 'train'),\n",
    "    batch_size=batch_size,\n",
    "    validation_split=0.2,\n",
    "    subset='training',\n",
    "    seed=seed)\n",
    "\n",
    "def oneHotLabels(x, y): return x, tf.one_hot(y, depth=len(raw_train_ds.class_names))\n",
    "\n",
    "train_ds = raw_train_ds.map(oneHotLabels).cache().prefetch(buffer_size=autotune)\n",
    "\n",
    "raw_val_ds = tf.keras.utils.text_dataset_from_directory(\n",
    "    os.path.join(ds_dir, 'train'),\n",
    "    batch_size=batch_size,\n",
    "    validation_split=0.2,\n",
    "    subset='validation',\n",
    "    seed=seed)\n",
    "\n",
    "val_ds = raw_val_ds.map(oneHotLabels).cache().prefetch(buffer_size=autotune)\n",
    "\n",
    "raw_test_ds = tf.keras.utils.text_dataset_from_directory(\n",
    "    os.path.join(ds_dir, 'test'),\n",
    "    batch_size=batch_size)\n",
    "\n",
    "test_ds = raw_test_ds.map(oneHotLabels).cache().prefetch(buffer_size=autotune)"
   ]
  },
  {
   "cell_type": "code",
   "execution_count": 4,
   "id": "deef4aa2",
   "metadata": {
    "execution": {
     "iopub.execute_input": "2025-03-18T20:06:19.996731Z",
     "iopub.status.busy": "2025-03-18T20:06:19.996501Z",
     "iopub.status.idle": "2025-03-18T20:06:33.395006Z",
     "shell.execute_reply": "2025-03-18T20:06:33.394335Z"
    },
    "papermill": {
     "duration": 13.403101,
     "end_time": "2025-03-18T20:06:33.396545",
     "exception": false,
     "start_time": "2025-03-18T20:06:19.993444",
     "status": "completed"
    },
    "tags": []
   },
   "outputs": [],
   "source": [
    "# Build BERT neural net\n",
    "\n",
    "tfhub_handle_encoder = 'https://tfhub.dev/google/experts/bert/pubmed/2'\n",
    "tfhub_handle_preprocess = 'https://tfhub.dev/tensorflow/bert_en_uncased_preprocess/3'\n",
    "\n",
    "text_input = tf.keras.layers.Input(shape=(), dtype=tf.string, name='text')\n",
    "preprocessing_layer = hub.KerasLayer(tfhub_handle_preprocess, name='preprocessing')\n",
    "encoder_inputs = preprocessing_layer(text_input)\n",
    "encoder = hub.KerasLayer(tfhub_handle_encoder, trainable=True, name='BERT_encoder')\n",
    "outputs = encoder(encoder_inputs)\n",
    "net = outputs['pooled_output']\n",
    "net = tf.keras.layers.Dropout(0.1)(net)\n",
    "net = tf.keras.layers.Dense(4, activation='sigmoid', name='classifier')(net)"
   ]
  },
  {
   "cell_type": "code",
   "execution_count": 5,
   "id": "5bac0d90",
   "metadata": {
    "execution": {
     "iopub.execute_input": "2025-03-18T20:06:33.402613Z",
     "iopub.status.busy": "2025-03-18T20:06:33.402385Z",
     "iopub.status.idle": "2025-03-18T20:06:33.412950Z",
     "shell.execute_reply": "2025-03-18T20:06:33.412356Z"
    },
    "papermill": {
     "duration": 0.015062,
     "end_time": "2025-03-18T20:06:33.414399",
     "exception": false,
     "start_time": "2025-03-18T20:06:33.399337",
     "status": "completed"
    },
    "tags": []
   },
   "outputs": [],
   "source": [
    "# Set up model training parameters\n",
    "\n",
    "epochs = 20\n",
    "init_lr = 3e-5\n",
    "\n",
    "loss = tf.keras.losses.CategoricalCrossentropy()\n",
    "metrics = tf.metrics.CategoricalAccuracy()\n",
    "\n",
    "early_stopping = EarlyStopping(\n",
    "    monitor='val_categorical_accuracy', \n",
    "    patience=3, # Number of epochs with no improvement before stopping\n",
    "    mode='max',  # We want to maximize accuracy\n",
    "    verbose=1,\n",
    "    restore_best_weights=True, # Restore the best weights once training stops\n",
    "    min_delta=0.001)  # Minimum change to qualify as an improvement\n",
    "\n",
    "steps_per_epoch = tf.data.experimental.cardinality(train_ds).numpy()\n",
    "num_train_steps = steps_per_epoch * epochs\n",
    "num_warmup_steps = int(0.1*num_train_steps)\n",
    "\n",
    "optimizer = optimization.create_optimizer(\n",
    "    init_lr=init_lr,\n",
    "    num_train_steps=num_train_steps,\n",
    "    num_warmup_steps=num_warmup_steps,\n",
    "    optimizer_type='adamw')"
   ]
  },
  {
   "cell_type": "code",
   "execution_count": 6,
   "id": "cc258501",
   "metadata": {
    "execution": {
     "iopub.execute_input": "2025-03-18T20:06:33.420048Z",
     "iopub.status.busy": "2025-03-18T20:06:33.419840Z",
     "iopub.status.idle": "2025-03-18T20:09:03.063923Z",
     "shell.execute_reply": "2025-03-18T20:09:03.063138Z"
    },
    "papermill": {
     "duration": 149.64828,
     "end_time": "2025-03-18T20:09:03.065139",
     "exception": false,
     "start_time": "2025-03-18T20:06:33.416859",
     "status": "completed"
    },
    "tags": []
   },
   "outputs": [
    {
     "name": "stdout",
     "output_type": "stream",
     "text": [
      "Epoch 1/20\n",
      "17/17 [==============================] - 33s 983ms/step - loss: 1.5307 - categorical_accuracy: 0.3212 - val_loss: 1.4012 - val_categorical_accuracy: 0.3566\n",
      "Epoch 2/20\n",
      "17/17 [==============================] - 15s 906ms/step - loss: 1.2875 - categorical_accuracy: 0.4346 - val_loss: 1.1771 - val_categorical_accuracy: 0.4574\n",
      "Epoch 3/20\n",
      "17/17 [==============================] - 16s 924ms/step - loss: 0.9928 - categorical_accuracy: 0.5615 - val_loss: 1.0829 - val_categorical_accuracy: 0.5116\n",
      "Epoch 4/20\n",
      "17/17 [==============================] - 16s 954ms/step - loss: 0.7323 - categorical_accuracy: 0.7269 - val_loss: 0.9858 - val_categorical_accuracy: 0.5426\n",
      "Epoch 5/20\n",
      "17/17 [==============================] - 17s 982ms/step - loss: 0.5210 - categorical_accuracy: 0.8000 - val_loss: 1.0389 - val_categorical_accuracy: 0.5504\n",
      "Epoch 6/20\n",
      "17/17 [==============================] - 17s 1s/step - loss: 0.4424 - categorical_accuracy: 0.8250 - val_loss: 1.1829 - val_categorical_accuracy: 0.5504\n",
      "Epoch 7/20\n",
      "17/17 [==============================] - 18s 1s/step - loss: 0.3893 - categorical_accuracy: 0.8577 - val_loss: 1.3393 - val_categorical_accuracy: 0.5039\n",
      "Epoch 8/20\n",
      "17/17 [==============================] - ETA: 0s - loss: 0.3611 - categorical_accuracy: 0.8615Restoring model weights from the end of the best epoch: 5.\n",
      "17/17 [==============================] - 18s 1s/step - loss: 0.3611 - categorical_accuracy: 0.8615 - val_loss: 1.3159 - val_categorical_accuracy: 0.4961\n",
      "Epoch 8: early stopping\n"
     ]
    }
   ],
   "source": [
    "# Train model\n",
    "\n",
    "# instantiating the model in the strategy scope creates the model on the TPU\n",
    "\n",
    "classifier_model = tf.keras.Model(text_input, net)\n",
    "classifier_model.compile(optimizer=optimizer, loss=loss, metrics=metrics)\n",
    "\n",
    "training_history = classifier_model.fit(\n",
    "    x=train_ds,\n",
    "    validation_data=val_ds,\n",
    "    epochs=epochs,\n",
    "    callbacks=[early_stopping])"
   ]
  },
  {
   "cell_type": "code",
   "execution_count": 7,
   "id": "6653dcc5",
   "metadata": {
    "execution": {
     "iopub.execute_input": "2025-03-18T20:09:03.085043Z",
     "iopub.status.busy": "2025-03-18T20:09:03.084799Z",
     "iopub.status.idle": "2025-03-18T20:09:05.064255Z",
     "shell.execute_reply": "2025-03-18T20:09:05.063213Z"
    },
    "papermill": {
     "duration": 1.990709,
     "end_time": "2025-03-18T20:09:05.065618",
     "exception": false,
     "start_time": "2025-03-18T20:09:03.074909",
     "status": "completed"
    },
    "tags": []
   },
   "outputs": [
    {
     "name": "stdout",
     "output_type": "stream",
     "text": [
      "6/6 [==============================] - 2s 295ms/step - loss: 0.8586 - categorical_accuracy: 0.6707\n",
      "Loss: 0.8586220145225525\n",
      "Accuracy: 0.6707317233085632\n"
     ]
    }
   ],
   "source": [
    "loss, accuracy = classifier_model.evaluate(test_ds)\n",
    "\n",
    "print(f'Loss: {loss}')\n",
    "print(f'Accuracy: {accuracy}')"
   ]
  },
  {
   "cell_type": "code",
   "execution_count": 8,
   "id": "f2948901",
   "metadata": {
    "execution": {
     "iopub.execute_input": "2025-03-18T20:09:05.086124Z",
     "iopub.status.busy": "2025-03-18T20:09:05.085836Z",
     "iopub.status.idle": "2025-03-18T20:09:05.508667Z",
     "shell.execute_reply": "2025-03-18T20:09:05.507859Z"
    },
    "papermill": {
     "duration": 0.434248,
     "end_time": "2025-03-18T20:09:05.510177",
     "exception": false,
     "start_time": "2025-03-18T20:09:05.075929",
     "status": "completed"
    },
    "tags": []
   },
   "outputs": [
    {
     "data": {
      "image/png": "[encoded data removed]",
      "text/plain": [
       "<Figure size 1000x600 with 2 Axes>"
      ]
     },
     "metadata": {},
     "output_type": "display_data"
    }
   ],
   "source": [
    "history_dict = training_history.history\n",
    "\n",
    "acc = history_dict['categorical_accuracy']\n",
    "val_acc = history_dict['val_categorical_accuracy']\n",
    "loss = history_dict['loss']\n",
    "val_loss = history_dict['val_loss']\n",
    "\n",
    "epochs = range(1, len(acc) + 1)\n",
    "fig = plt.figure(figsize=(10, 6))\n",
    "fig.tight_layout()\n",
    "\n",
    "plt.subplot(2, 1, 1)\n",
    "# r is for \"solid red line\"\n",
    "plt.plot(epochs, loss, 'r', label='Training loss')\n",
    "# b is for \"solid blue line\"\n",
    "plt.plot(epochs, val_loss, 'b', label='Validation loss')\n",
    "plt.title('Training and validation loss')\n",
    "# plt.xlabel('Epochs')\n",
    "plt.ylabel('Loss')\n",
    "plt.legend()\n",
    "\n",
    "plt.subplot(2, 1, 2)\n",
    "plt.plot(epochs, acc, 'r', label='Training acc')\n",
    "plt.plot(epochs, val_acc, 'b', label='Validation acc')\n",
    "plt.title('Training and validation accuracy')\n",
    "plt.xlabel('Epochs')\n",
    "plt.ylabel('Accuracy')\n",
    "plt.legend(loc='lower right')\n",
    "plt.show()"
   ]
  },
  {
   "cell_type": "code",
   "execution_count": 9,
   "id": "a6601e84",
   "metadata": {
    "execution": {
     "iopub.execute_input": "2025-03-18T20:09:05.532114Z",
     "iopub.status.busy": "2025-03-18T20:09:05.531844Z",
     "iopub.status.idle": "2025-03-18T20:09:23.660211Z",
     "shell.execute_reply": "2025-03-18T20:09:23.659457Z"
    },
    "papermill": {
     "duration": 18.141085,
     "end_time": "2025-03-18T20:09:23.661844",
     "exception": false,
     "start_time": "2025-03-18T20:09:05.520759",
     "status": "completed"
    },
    "tags": []
   },
   "outputs": [],
   "source": [
    "# Export model for inference\n",
    "\n",
    "saved_model_path = '/kaggle/working/{}_model'.format(dataset_name.replace('/', '_'))\n",
    "classifier_model.save(saved_model_path, include_optimizer=False)\n",
    "\n",
    "saved_model_path = '/kaggle/output/{}_model'.format(dataset_name.replace('/', '_'))\n",
    "classifier_model.save(saved_model_path, include_optimizer=False)"
   ]
  }
 ],
 "metadata": {
  "kaggle": {
   "accelerator": "nvidiaTeslaT4",
   "dataSources": [
    {
     "datasetId": 6856026,
     "sourceId": 11011783,
     "sourceType": "datasetVersion"
    },
    {
     "datasetId": 6903943,
     "sourceId": 11077322,
     "sourceType": "datasetVersion"
    },
    {
     "datasetId": 6904966,
     "sourceId": 11078677,
     "sourceType": "datasetVersion"
    }
   ],
   "dockerImageVersionId": 30918,
   "isGpuEnabled": true,
   "isInternetEnabled": true,
   "language": "python",
   "sourceType": "notebook"
  },
  "kernelspec": {
   "display_name": "Python 3",
   "language": "python",
   "name": "python3"
  },
  "language_info": {
   "codemirror_mode": {
    "name": "ipython",
    "version": 3
   },
   "file_extension": ".py",
   "mimetype": "text/x-python",
   "name": "python",
   "nbconvert_exporter": "python",
   "pygments_lexer": "ipython3",
   "version": "3.10.12"
  },
  "papermill": {
   "default_parameters": {},
   "duration": 280.887205,
   "end_time": "2025-03-18T20:09:26.944358",
   "environment_variables": {},
   "exception": null,
   "input_path": "__notebook__.ipynb",
   "output_path": "__notebook__.ipynb",
   "parameters": {},
   "start_time": "2025-03-18T20:04:46.057153",
   "version": "2.6.0"
  }
 },
 "nbformat": 4,
 "nbformat_minor": 5
}
