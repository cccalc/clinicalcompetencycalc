{
 "cells": [
  {
   "cell_type": "code",
   "execution_count": 1,
   "id": "7ccc70e4",
   "metadata": {
    "execution": {
     "iopub.execute_input": "2025-03-13T03:30:22.332489Z",
     "iopub.status.busy": "2025-03-13T03:30:22.332213Z",
     "iopub.status.idle": "2025-03-13T03:31:45.358326Z",
     "shell.execute_reply": "2025-03-13T03:31:45.357239Z"
    },
    "papermill": {
     "duration": 83.031329,
     "end_time": "2025-03-13T03:31:45.360102",
     "exception": false,
     "start_time": "2025-03-13T03:30:22.328773",
     "status": "completed"
    },
    "tags": []
   },
   "outputs": [],
   "source": [
    "%%capture\n",
    "\n",
    "!pip install \"tensorflow==2.15.*\"\n",
    "!pip install \"tensorflow-text==2.15.*\"\n",
    "!pip install \"tf-models-official==2.15.*\"\n",
    "!pip install \"tf-keras==2.15.*\""
   ]
  },
  {
   "cell_type": "code",
   "execution_count": 2,
   "id": "4d09a493",
   "metadata": {
    "execution": {
     "iopub.execute_input": "2025-03-13T03:31:45.365727Z",
     "iopub.status.busy": "2025-03-13T03:31:45.365469Z",
     "iopub.status.idle": "2025-03-13T03:31:51.441079Z",
     "shell.execute_reply": "2025-03-13T03:31:51.440210Z"
    },
    "papermill": {
     "duration": 6.079926,
     "end_time": "2025-03-13T03:31:51.442705",
     "exception": false,
     "start_time": "2025-03-13T03:31:45.362779",
     "status": "completed"
    },
    "tags": []
   },
   "outputs": [],
   "source": [
    "import os\n",
    "\n",
    "import tensorflow as tf\n",
    "import tensorflow_hub as hub\n",
    "import tensorflow_text as text\n",
    "from official.nlp import optimization  # to create AdamW optimizer\n",
    "from tensorflow.keras.callbacks import EarlyStopping\n",
    "\n",
    "import matplotlib.pyplot as plt"
   ]
  },
  {
   "cell_type": "code",
   "execution_count": 3,
   "id": "c40819f3",
   "metadata": {
    "_cell_guid": "b1076dfc-b9ad-4769-8c92-a6c4dae69d19",
    "_uuid": "8f2839f25d086af736a60e9eeb907d3b93b6e0e5",
    "execution": {
     "iopub.execute_input": "2025-03-13T03:31:51.448297Z",
     "iopub.status.busy": "2025-03-13T03:31:51.447820Z",
     "iopub.status.idle": "2025-03-13T03:31:53.902594Z",
     "shell.execute_reply": "2025-03-13T03:31:53.901940Z"
    },
    "papermill": {
     "duration": 2.458975,
     "end_time": "2025-03-13T03:31:53.904065",
     "exception": false,
     "start_time": "2025-03-13T03:31:51.445090",
     "status": "completed"
    },
    "tags": []
   },
   "outputs": [
    {
     "name": "stdout",
     "output_type": "stream",
     "text": [
      "Found 281 files belonging to 4 classes.\n",
      "Using 225 files for training.\n",
      "Found 281 files belonging to 4 classes.\n",
      "Using 56 files for validation.\n",
      "Found 72 files belonging to 4 classes.\n"
     ]
    }
   ],
   "source": [
    "# Load datasets\n",
    "\n",
    "dataset_name = 'ccc-bert-250305'\n",
    "\n",
    "autotune = tf.data.AUTOTUNE\n",
    "batch_size = 32\n",
    "seed = 42\n",
    "\n",
    "ds_dir = os.path.join('/kaggle/input', dataset_name)\n",
    "\n",
    "raw_train_ds = tf.keras.utils.text_dataset_from_directory(\n",
    "    os.path.join(ds_dir, 'train'),\n",
    "    batch_size=batch_size,\n",
    "    validation_split=0.2,\n",
    "    subset='training',\n",
    "    seed=seed)\n",
    "\n",
    "def oneHotLabels(x, y): return x, tf.one_hot(y, depth=len(raw_train_ds.class_names))\n",
    "\n",
    "train_ds = raw_train_ds.map(oneHotLabels).cache().prefetch(buffer_size=autotune)\n",
    "\n",
    "raw_val_ds = tf.keras.utils.text_dataset_from_directory(\n",
    "    os.path.join(ds_dir, 'train'),\n",
    "    batch_size=batch_size,\n",
    "    validation_split=0.2,\n",
    "    subset='validation',\n",
    "    seed=seed)\n",
    "\n",
    "val_ds = raw_val_ds.map(oneHotLabels).cache().prefetch(buffer_size=autotune)\n",
    "\n",
    "raw_test_ds = tf.keras.utils.text_dataset_from_directory(\n",
    "    os.path.join(ds_dir, 'test'),\n",
    "    batch_size=batch_size)\n",
    "\n",
    "test_ds = raw_test_ds.map(oneHotLabels).cache().prefetch(buffer_size=autotune)"
   ]
  },
  {
   "cell_type": "code",
   "execution_count": 4,
   "id": "cdd17936",
   "metadata": {
    "execution": {
     "iopub.execute_input": "2025-03-13T03:31:53.909603Z",
     "iopub.status.busy": "2025-03-13T03:31:53.909381Z",
     "iopub.status.idle": "2025-03-13T03:32:19.248803Z",
     "shell.execute_reply": "2025-03-13T03:32:19.248099Z"
    },
    "papermill": {
     "duration": 25.343734,
     "end_time": "2025-03-13T03:32:19.250340",
     "exception": false,
     "start_time": "2025-03-13T03:31:53.906606",
     "status": "completed"
    },
    "tags": []
   },
   "outputs": [],
   "source": [
    "# Build BERT neural net\n",
    "\n",
    "tfhub_handle_encoder = 'https://tfhub.dev/google/experts/bert/pubmed/2'\n",
    "tfhub_handle_preprocess = 'https://tfhub.dev/tensorflow/bert_en_uncased_preprocess/3'\n",
    "\n",
    "text_input = tf.keras.layers.Input(shape=(), dtype=tf.string, name='text')\n",
    "preprocessing_layer = hub.KerasLayer(tfhub_handle_preprocess, name='preprocessing')\n",
    "encoder_inputs = preprocessing_layer(text_input)\n",
    "encoder = hub.KerasLayer(tfhub_handle_encoder, trainable=True, name='BERT_encoder')\n",
    "outputs = encoder(encoder_inputs)\n",
    "net = outputs['pooled_output']\n",
    "net = tf.keras.layers.Dropout(0.1)(net)\n",
    "net = tf.keras.layers.Dense(4, activation='softmax', name='classifier')(net)"
   ]
  },
  {
   "cell_type": "code",
   "execution_count": 5,
   "id": "1fbdc6ae",
   "metadata": {
    "execution": {
     "iopub.execute_input": "2025-03-13T03:32:19.256452Z",
     "iopub.status.busy": "2025-03-13T03:32:19.256214Z",
     "iopub.status.idle": "2025-03-13T03:32:19.267624Z",
     "shell.execute_reply": "2025-03-13T03:32:19.266922Z"
    },
    "papermill": {
     "duration": 0.01564,
     "end_time": "2025-03-13T03:32:19.268848",
     "exception": false,
     "start_time": "2025-03-13T03:32:19.253208",
     "status": "completed"
    },
    "tags": []
   },
   "outputs": [],
   "source": [
    "# Set up model training parameters\n",
    "\n",
    "epochs = 20\n",
    "init_lr = 3e-5\n",
    "\n",
    "loss = tf.keras.losses.CategoricalCrossentropy()\n",
    "metrics = tf.metrics.CategoricalAccuracy()\n",
    "\n",
    "early_stopping = EarlyStopping(\n",
    "    monitor='val_categorical_accuracy', \n",
    "    patience=3, # Number of epochs with no improvement before stopping\n",
    "    mode='max',  # We want to maximize accuracy\n",
    "    verbose=1,\n",
    "    restore_best_weights=True, # Restore the best weights once training stops\n",
    "    min_delta=0.001)  # Minimum change to qualify as an improvement\n",
    "\n",
    "steps_per_epoch = tf.data.experimental.cardinality(train_ds).numpy()\n",
    "num_train_steps = steps_per_epoch * epochs\n",
    "num_warmup_steps = int(0.1*num_train_steps)\n",
    "\n",
    "optimizer = optimization.create_optimizer(\n",
    "    init_lr=init_lr,\n",
    "    num_train_steps=num_train_steps,\n",
    "    num_warmup_steps=num_warmup_steps,\n",
    "    optimizer_type='adamw')"
   ]
  },
  {
   "cell_type": "code",
   "execution_count": 6,
   "id": "49691f04",
   "metadata": {
    "execution": {
     "iopub.execute_input": "2025-03-13T03:32:19.273944Z",
     "iopub.status.busy": "2025-03-13T03:32:19.273722Z",
     "iopub.status.idle": "2025-03-13T03:33:24.911605Z",
     "shell.execute_reply": "2025-03-13T03:33:24.910823Z"
    },
    "papermill": {
     "duration": 65.641804,
     "end_time": "2025-03-13T03:33:24.912803",
     "exception": false,
     "start_time": "2025-03-13T03:32:19.270999",
     "status": "completed"
    },
    "tags": []
   },
   "outputs": [
    {
     "name": "stdout",
     "output_type": "stream",
     "text": [
      "Epoch 1/20\n",
      "8/8 [==============================] - 22s 780ms/step - loss: 1.6252 - categorical_accuracy: 0.2489 - val_loss: 1.4457 - val_categorical_accuracy: 0.2500\n",
      "Epoch 2/20\n",
      "8/8 [==============================] - 4s 560ms/step - loss: 1.4278 - categorical_accuracy: 0.3511 - val_loss: 1.4523 - val_categorical_accuracy: 0.3571\n",
      "Epoch 3/20\n",
      "8/8 [==============================] - 4s 554ms/step - loss: 1.3237 - categorical_accuracy: 0.3956 - val_loss: 1.2337 - val_categorical_accuracy: 0.4821\n",
      "Epoch 4/20\n",
      "8/8 [==============================] - 4s 559ms/step - loss: 1.2117 - categorical_accuracy: 0.4889 - val_loss: 1.1708 - val_categorical_accuracy: 0.5000\n",
      "Epoch 5/20\n",
      "8/8 [==============================] - 4s 547ms/step - loss: 1.0325 - categorical_accuracy: 0.5644 - val_loss: 1.0079 - val_categorical_accuracy: 0.5714\n",
      "Epoch 6/20\n",
      "8/8 [==============================] - 4s 547ms/step - loss: 0.9105 - categorical_accuracy: 0.6178 - val_loss: 0.8226 - val_categorical_accuracy: 0.5893\n",
      "Epoch 7/20\n",
      "8/8 [==============================] - 4s 512ms/step - loss: 0.6739 - categorical_accuracy: 0.7511 - val_loss: 0.8091 - val_categorical_accuracy: 0.5893\n",
      "Epoch 8/20\n",
      "8/8 [==============================] - 4s 549ms/step - loss: 0.5871 - categorical_accuracy: 0.7556 - val_loss: 0.7061 - val_categorical_accuracy: 0.7500\n",
      "Epoch 9/20\n",
      "8/8 [==============================] - 4s 514ms/step - loss: 0.4840 - categorical_accuracy: 0.7733 - val_loss: 0.7218 - val_categorical_accuracy: 0.6964\n",
      "Epoch 10/20\n",
      "8/8 [==============================] - 4s 511ms/step - loss: 0.4079 - categorical_accuracy: 0.8622 - val_loss: 0.6875 - val_categorical_accuracy: 0.7321\n",
      "Epoch 11/20\n",
      "8/8 [==============================] - ETA: 0s - loss: 0.3351 - categorical_accuracy: 0.9111Restoring model weights from the end of the best epoch: 8.\n",
      "8/8 [==============================] - 4s 564ms/step - loss: 0.3351 - categorical_accuracy: 0.9111 - val_loss: 0.7566 - val_categorical_accuracy: 0.6964\n",
      "Epoch 11: early stopping\n"
     ]
    }
   ],
   "source": [
    "# Train model\n",
    "\n",
    "# instantiating the model in the strategy scope creates the model on the TPU\n",
    "\n",
    "classifier_model = tf.keras.Model(text_input, net)\n",
    "classifier_model.compile(optimizer=optimizer, loss=loss, metrics=metrics)\n",
    "\n",
    "training_history = classifier_model.fit(\n",
    "    x=train_ds,\n",
    "    validation_data=val_ds,\n",
    "    epochs=epochs,\n",
    "    callbacks=[early_stopping])"
   ]
  },
  {
   "cell_type": "code",
   "execution_count": 7,
   "id": "cb271f85",
   "metadata": {
    "execution": {
     "iopub.execute_input": "2025-03-13T03:33:24.928253Z",
     "iopub.status.busy": "2025-03-13T03:33:24.927959Z",
     "iopub.status.idle": "2025-03-13T03:33:25.322204Z",
     "shell.execute_reply": "2025-03-13T03:33:25.321355Z"
    },
    "papermill": {
     "duration": 0.403216,
     "end_time": "2025-03-13T03:33:25.323529",
     "exception": false,
     "start_time": "2025-03-13T03:33:24.920313",
     "status": "completed"
    },
    "tags": []
   },
   "outputs": [
    {
     "data": {
      "image/png": "[encoded data removed]",
      "text/plain": [
       "<Figure size 1000x600 with 2 Axes>"
      ]
     },
     "metadata": {},
     "output_type": "display_data"
    }
   ],
   "source": [
    "history_dict = training_history.history\n",
    "\n",
    "acc = history_dict['categorical_accuracy']\n",
    "val_acc = history_dict['val_categorical_accuracy']\n",
    "loss = history_dict['loss']\n",
    "val_loss = history_dict['val_loss']\n",
    "\n",
    "epochs = range(1, len(acc) + 1)\n",
    "fig = plt.figure(figsize=(10, 6))\n",
    "fig.tight_layout()\n",
    "\n",
    "plt.subplot(2, 1, 1)\n",
    "# r is for \"solid red line\"\n",
    "plt.plot(epochs, loss, 'r', label='Training loss')\n",
    "# b is for \"solid blue line\"\n",
    "plt.plot(epochs, val_loss, 'b', label='Validation loss')\n",
    "plt.title('Training and validation loss')\n",
    "# plt.xlabel('Epochs')\n",
    "plt.ylabel('Loss')\n",
    "plt.legend()\n",
    "\n",
    "plt.subplot(2, 1, 2)\n",
    "plt.plot(epochs, acc, 'r', label='Training acc')\n",
    "plt.plot(epochs, val_acc, 'b', label='Validation acc')\n",
    "plt.title('Training and validation accuracy')\n",
    "plt.xlabel('Epochs')\n",
    "plt.ylabel('Accuracy')\n",
    "plt.legend(loc='lower right')\n",
    "plt.show()"
   ]
  },
  {
   "cell_type": "code",
   "execution_count": 8,
   "id": "c10debdb",
   "metadata": {
    "execution": {
     "iopub.execute_input": "2025-03-13T03:33:25.340558Z",
     "iopub.status.busy": "2025-03-13T03:33:25.340311Z",
     "iopub.status.idle": "2025-03-13T03:33:34.630313Z",
     "shell.execute_reply": "2025-03-13T03:33:34.629469Z"
    },
    "papermill": {
     "duration": 9.300192,
     "end_time": "2025-03-13T03:33:34.631868",
     "exception": false,
     "start_time": "2025-03-13T03:33:25.331676",
     "status": "completed"
    },
    "tags": []
   },
   "outputs": [],
   "source": [
    "# Export model for inference\n",
    "\n",
    "saved_model_path = '/kaggle/output/{}_model'.format(dataset_name.replace('/', '_'))\n",
    "\n",
    "classifier_model.save(saved_model_path, include_optimizer=False)"
   ]
  }
 ],
 "metadata": {
  "kaggle": {
   "accelerator": "none",
   "dataSources": [
    {
     "datasetId": 6856026,
     "sourceId": 11011783,
     "sourceType": "datasetVersion"
    }
   ],
   "dockerImageVersionId": 30919,
   "isGpuEnabled": false,
   "isInternetEnabled": true,
   "language": "python",
   "sourceType": "notebook"
  },
  "kernelspec": {
   "display_name": "Python 3",
   "language": "python",
   "name": "python3"
  },
  "language_info": {
   "codemirror_mode": {
    "name": "ipython",
    "version": 3
   },
   "file_extension": ".py",
   "mimetype": "text/x-python",
   "name": "python",
   "nbconvert_exporter": "python",
   "pygments_lexer": "ipython3",
   "version": "3.10.12"
  },
  "papermill": {
   "default_parameters": {},
   "duration": 197.80857,
   "end_time": "2025-03-13T03:33:37.631738",
   "environment_variables": {},
   "exception": null,
   "input_path": "__notebook__.ipynb",
   "output_path": "__notebook__.ipynb",
   "parameters": {},
   "start_time": "2025-03-13T03:30:19.823168",
   "version": "2.6.0"
  }
 },
 "nbformat": 4,
 "nbformat_minor": 5
}
