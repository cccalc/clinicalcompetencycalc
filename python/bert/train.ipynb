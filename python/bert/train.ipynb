{
 "cells": [
  {
   "cell_type": "code",
   "execution_count": 1,
   "id": "2572c781",
   "metadata": {
    "_cell_guid": "b1076dfc-b9ad-4769-8c92-a6c4dae69d19",
    "_uuid": "8f2839f25d086af736a60e9eeb907d3b93b6e0e5",
    "execution": {
     "iopub.execute_input": "2025-04-02T02:03:51.823811Z",
     "iopub.status.busy": "2025-04-02T02:03:51.823472Z",
     "iopub.status.idle": "2025-04-02T02:05:16.279934Z",
     "shell.execute_reply": "2025-04-02T02:05:16.278925Z"
    },
    "papermill": {
     "duration": 84.461831,
     "end_time": "2025-04-02T02:05:16.281521",
     "exception": false,
     "start_time": "2025-04-02T02:03:51.819690",
     "status": "completed"
    },
    "tags": []
   },
   "outputs": [],
   "source": [
    "%%capture\n",
    "\n",
    "%pip install \"tf-models-official==2.15.*\"\n",
    "%pip install \"tensorflow-text==2.15.*\"\n",
    "%pip install \"tensorflow==2.15.*\"\n",
    "%pip install \"tf-keras==2.15.*\"\n",
    "%pip install keras-tuner"
   ]
  },
  {
   "cell_type": "code",
   "execution_count": 2,
   "id": "0bcb35dd",
   "metadata": {
    "execution": {
     "iopub.execute_input": "2025-04-02T02:05:16.287972Z",
     "iopub.status.busy": "2025-04-02T02:05:16.287728Z",
     "iopub.status.idle": "2025-04-02T02:05:23.732270Z",
     "shell.execute_reply": "2025-04-02T02:05:23.731587Z"
    },
    "papermill": {
     "duration": 7.449332,
     "end_time": "2025-04-02T02:05:23.733936",
     "exception": false,
     "start_time": "2025-04-02T02:05:16.284604",
     "status": "completed"
    },
    "tags": []
   },
   "outputs": [],
   "source": [
    "import os\n",
    "import shutil\n",
    "\n",
    "import tensorflow as tf\n",
    "import tensorflow_hub as hub\n",
    "import tensorflow_text as text\n",
    "from official.nlp import optimization  # to create AdamW optimizer\n",
    "from tensorflow.keras.callbacks import EarlyStopping\n",
    "import keras_tuner as kt\n",
    "\n",
    "from datetime import datetime\n",
    "import matplotlib.pyplot as plt"
   ]
  },
  {
   "cell_type": "code",
   "execution_count": 3,
   "id": "7563a715",
   "metadata": {
    "execution": {
     "iopub.execute_input": "2025-04-02T02:05:23.739907Z",
     "iopub.status.busy": "2025-04-02T02:05:23.739418Z",
     "iopub.status.idle": "2025-04-02T02:05:27.925002Z",
     "shell.execute_reply": "2025-04-02T02:05:27.924308Z"
    },
    "papermill": {
     "duration": 4.1898,
     "end_time": "2025-04-02T02:05:27.926385",
     "exception": false,
     "start_time": "2025-04-02T02:05:23.736585",
     "status": "completed"
    },
    "tags": []
   },
   "outputs": [
    {
     "name": "stdout",
     "output_type": "stream",
     "text": [
      "Found 2118 files belonging to 4 classes.\n",
      "Found 346 files belonging to 4 classes.\n",
      "Found 350 files belonging to 4 classes.\n"
     ]
    }
   ],
   "source": [
    "# Load datasets\n",
    "\n",
    "dataset_name = 'cb-250401-80'\n",
    "\n",
    "autotune = tf.data.AUTOTUNE\n",
    "batch_size = 32\n",
    "seed = 42\n",
    "\n",
    "ds_dir = os.path.join('/kaggle/input', dataset_name)\n",
    "\n",
    "raw_train_ds = tf.keras.utils.text_dataset_from_directory(\n",
    "    os.path.join(ds_dir, 'train'),\n",
    "    batch_size=batch_size)\n",
    "\n",
    "def oneHotLabels(x, y): return x, tf.one_hot(y, depth=len(raw_train_ds.class_names))\n",
    "\n",
    "train_ds = raw_train_ds.map(oneHotLabels).cache().prefetch(buffer_size=autotune)\n",
    "\n",
    "raw_val_ds = tf.keras.utils.text_dataset_from_directory(\n",
    "    os.path.join(ds_dir, 'validate'),\n",
    "    batch_size=batch_size)\n",
    "\n",
    "val_ds = raw_val_ds.map(oneHotLabels).cache().prefetch(buffer_size=autotune)\n",
    "\n",
    "raw_test_ds = tf.keras.utils.text_dataset_from_directory(\n",
    "    os.path.join(ds_dir, 'test'),\n",
    "    batch_size=batch_size)\n",
    "\n",
    "test_ds = raw_test_ds.map(oneHotLabels).cache().prefetch(buffer_size=autotune)"
   ]
  },
  {
   "cell_type": "code",
   "execution_count": 4,
   "id": "20734c67",
   "metadata": {
    "execution": {
     "iopub.execute_input": "2025-04-02T02:05:27.932714Z",
     "iopub.status.busy": "2025-04-02T02:05:27.932436Z",
     "iopub.status.idle": "2025-04-02T02:05:27.939439Z",
     "shell.execute_reply": "2025-04-02T02:05:27.938795Z"
    },
    "papermill": {
     "duration": 0.011526,
     "end_time": "2025-04-02T02:05:27.940767",
     "exception": false,
     "start_time": "2025-04-02T02:05:27.929241",
     "status": "completed"
    },
    "tags": []
   },
   "outputs": [],
   "source": [
    "# Build BERT neural net\n",
    "\n",
    "epochs = 40\n",
    "\n",
    "def build_model(hp):\n",
    "    tfhub_handle_encoder = 'https://tfhub.dev/google/experts/bert/pubmed/2'\n",
    "    tfhub_handle_preprocess = 'https://tfhub.dev/tensorflow/bert_en_uncased_preprocess/3'\n",
    "    \n",
    "    # Hyperparameter tuning\n",
    "    dropout_rate = hp.Float('dropout_rate', min_value=0.1, max_value=0.5, step=0.1)\n",
    "    l2_rate = hp.Float('l2_rate', min_value=0.0001, max_value=0.01, step=5, sampling='log')\n",
    "    learning_rate = hp.Float('learning_rate', min_value=1e-5, max_value=1e-4, step=5, sampling='log')\n",
    "    \n",
    "    text_input = tf.keras.layers.Input(shape=(), dtype=tf.string, name='text')\n",
    "    preprocessing_layer = hub.KerasLayer(tfhub_handle_preprocess, name='preprocessing')\n",
    "    encoder_inputs = preprocessing_layer(text_input)\n",
    "    encoder = hub.KerasLayer(tfhub_handle_encoder, trainable=True, name='BERT_encoder')\n",
    "    outputs = encoder(encoder_inputs)\n",
    "    net = outputs['pooled_output']\n",
    "    net = tf.keras.layers.Dropout(dropout_rate)(net)\n",
    "    net = tf.keras.layers.Dense(4, activation='softmax',\n",
    "                                kernel_regularizer=tf.keras.regularizers.l2(l2_rate),\n",
    "                                name='classifier')(net)\n",
    "    \n",
    "    loss = tf.keras.losses.CategoricalCrossentropy()\n",
    "    metrics = tf.metrics.CategoricalAccuracy()\n",
    "    \n",
    "    steps_per_epoch = tf.data.experimental.cardinality(train_ds).numpy()\n",
    "    num_train_steps = steps_per_epoch * epochs\n",
    "    num_warmup_steps = int(0.1*num_train_steps)\n",
    "    \n",
    "    optimizer = optimization.create_optimizer(\n",
    "        init_lr=learning_rate,\n",
    "        num_train_steps=num_train_steps,\n",
    "        num_warmup_steps=num_warmup_steps,\n",
    "        optimizer_type='adamw')\n",
    "    \n",
    "    model = tf.keras.Model(text_input, net)\n",
    "    model.compile(optimizer=optimizer, loss=loss, metrics=metrics)\n",
    "\n",
    "    return model"
   ]
  },
  {
   "cell_type": "code",
   "execution_count": 5,
   "id": "ee1944ff",
   "metadata": {
    "execution": {
     "iopub.execute_input": "2025-04-02T02:05:27.946630Z",
     "iopub.status.busy": "2025-04-02T02:05:27.946389Z",
     "iopub.status.idle": "2025-04-02T02:05:27.951780Z",
     "shell.execute_reply": "2025-04-02T02:05:27.951106Z"
    },
    "papermill": {
     "duration": 0.009661,
     "end_time": "2025-04-02T02:05:27.953003",
     "exception": false,
     "start_time": "2025-04-02T02:05:27.943342",
     "status": "completed"
    },
    "tags": []
   },
   "outputs": [],
   "source": [
    "epochs = 40\n",
    "\n",
    "def define_model(dropout_rate, l2_rate, learning_rate):\n",
    "    tfhub_handle_encoder = 'https://tfhub.dev/google/experts/bert/pubmed/2'\n",
    "    tfhub_handle_preprocess = 'https://tfhub.dev/tensorflow/bert_en_uncased_preprocess/3'\n",
    "    \n",
    "    text_input = tf.keras.layers.Input(shape=(), dtype=tf.string, name='text')\n",
    "    preprocessing_layer = hub.KerasLayer(tfhub_handle_preprocess, name='preprocessing')\n",
    "    encoder_inputs = preprocessing_layer(text_input)\n",
    "    encoder = hub.KerasLayer(tfhub_handle_encoder, trainable=True, name='BERT_encoder')\n",
    "    outputs = encoder(encoder_inputs)\n",
    "    net = outputs['pooled_output']\n",
    "    net = tf.keras.layers.Dropout(dropout_rate)(net)\n",
    "    net = tf.keras.layers.Dense(4, activation='softmax',\n",
    "                                kernel_regularizer=tf.keras.regularizers.l2(l2_rate),\n",
    "                                name='classifier')(net)\n",
    "    \n",
    "    loss = tf.keras.losses.CategoricalCrossentropy()\n",
    "    metrics = tf.metrics.CategoricalAccuracy()\n",
    "    \n",
    "    steps_per_epoch = tf.data.experimental.cardinality(train_ds).numpy()\n",
    "    num_train_steps = steps_per_epoch * epochs\n",
    "    num_warmup_steps = int(0.1*num_train_steps)\n",
    "    \n",
    "    optimizer = optimization.create_optimizer(\n",
    "        init_lr=learning_rate,\n",
    "        num_train_steps=num_train_steps,\n",
    "        num_warmup_steps=num_warmup_steps,\n",
    "        optimizer_type='adamw')\n",
    "    \n",
    "    model = tf.keras.Model(text_input, net)\n",
    "    model.compile(optimizer=optimizer, loss=loss, metrics=metrics)\n",
    "\n",
    "    return model"
   ]
  },
  {
   "cell_type": "code",
   "execution_count": 6,
   "id": "9376697b",
   "metadata": {
    "execution": {
     "iopub.execute_input": "2025-04-02T02:05:27.958725Z",
     "iopub.status.busy": "2025-04-02T02:05:27.958509Z",
     "iopub.status.idle": "2025-04-02T02:05:27.963109Z",
     "shell.execute_reply": "2025-04-02T02:05:27.962542Z"
    },
    "papermill": {
     "duration": 0.008716,
     "end_time": "2025-04-02T02:05:27.964267",
     "exception": false,
     "start_time": "2025-04-02T02:05:27.955551",
     "status": "completed"
    },
    "tags": []
   },
   "outputs": [],
   "source": [
    "from pathlib import Path\n",
    "from itertools import tee\n",
    "\n",
    "def format_storage(bytes_size):\n",
    "    GB = 1024 ** 3\n",
    "    MB = 1024 ** 2\n",
    "    KB = 1024\n",
    "    \n",
    "    if bytes_size >= GB:\n",
    "        return f\"{bytes_size / GB:.2f}GB\"\n",
    "    elif bytes_size >= MB:\n",
    "        return f\"{bytes_size / MB:.2f}MB\"\n",
    "    elif bytes_size >= KB:\n",
    "        return f\"{bytes_size / KB:.2f}KB\"\n",
    "    else:\n",
    "        return f\"{bytes_size}B\"\n",
    "\n",
    "def scandir(p: Path) -> int:\n",
    "    files, dirs = tee(Path(p).iterdir())\n",
    "    total = sum(x.stat().st_size for x in files if x.is_file())\n",
    "    total += sum(scandir(x) for x in dirs if x.is_dir())\n",
    "    return total"
   ]
  },
  {
   "cell_type": "code",
   "execution_count": 7,
   "id": "c152148d",
   "metadata": {
    "execution": {
     "iopub.execute_input": "2025-04-02T02:05:27.969932Z",
     "iopub.status.busy": "2025-04-02T02:05:27.969714Z",
     "iopub.status.idle": "2025-04-02T02:09:45.187658Z",
     "shell.execute_reply": "2025-04-02T02:09:45.186712Z"
    },
    "papermill": {
     "duration": 257.222261,
     "end_time": "2025-04-02T02:09:45.189019",
     "exception": false,
     "start_time": "2025-04-02T02:05:27.966758",
     "status": "completed"
    },
    "tags": []
   },
   "outputs": [
    {
     "name": "stdout",
     "output_type": "stream",
     "text": [
      "Epoch 1/40\n",
      "67/67 [==============================] - 56s 590ms/step - loss: 1.3431 - categorical_accuracy: 0.3730 - val_loss: 1.0355 - val_categorical_accuracy: 0.5405\n",
      "Epoch 2/40\n",
      "67/67 [==============================] - 38s 562ms/step - loss: 0.9051 - categorical_accuracy: 0.5973 - val_loss: 0.8266 - val_categorical_accuracy: 0.6358\n",
      "Epoch 3/40\n",
      "67/67 [==============================] - 38s 562ms/step - loss: 0.7330 - categorical_accuracy: 0.6733 - val_loss: 0.7727 - val_categorical_accuracy: 0.6705\n",
      "Epoch 4/40\n",
      "67/67 [==============================] - 37s 558ms/step - loss: 0.6213 - categorical_accuracy: 0.7356 - val_loss: 0.9560 - val_categorical_accuracy: 0.6676\n",
      "Epoch 5/40\n",
      "67/67 [==============================] - 37s 558ms/step - loss: 0.4847 - categorical_accuracy: 0.7989 - val_loss: 1.0679 - val_categorical_accuracy: 0.6590\n",
      "Epoch 6/40\n",
      "67/67 [==============================] - ETA: 0s - loss: 0.3559 - categorical_accuracy: 0.8607Restoring model weights from the end of the best epoch: 3.\n",
      "67/67 [==============================] - 38s 563ms/step - loss: 0.3559 - categorical_accuracy: 0.8607 - val_loss: 1.0638 - val_categorical_accuracy: 0.6532\n",
      "Epoch 6: early stopping\n"
     ]
    }
   ],
   "source": [
    "# best_model = tuner.hypermodel.build(best_hps)\n",
    "best_model = define_model(0.1, 0.0005, 5e-05)\n",
    "\n",
    "early_stopping = EarlyStopping(\n",
    "    monitor='val_categorical_accuracy', \n",
    "    patience=3, # Number of epochs with no improvement before stopping\n",
    "    mode='max',  # We want to maximize accuracy\n",
    "    verbose=1,\n",
    "    restore_best_weights=True, # Restore the best weights once training stops\n",
    "    min_delta=0.001)  # Minimum change to qualify as an improvement\n",
    "\n",
    "training_history = best_model.fit(\n",
    "    x=train_ds,\n",
    "    validation_data=val_ds,\n",
    "    epochs=epochs,\n",
    "    callbacks=[early_stopping])"
   ]
  },
  {
   "cell_type": "code",
   "execution_count": 8,
   "id": "50eeb8cd",
   "metadata": {
    "execution": {
     "iopub.execute_input": "2025-04-02T02:09:45.231906Z",
     "iopub.status.busy": "2025-04-02T02:09:45.231660Z",
     "iopub.status.idle": "2025-04-02T02:09:47.668561Z",
     "shell.execute_reply": "2025-04-02T02:09:47.667694Z"
    },
    "papermill": {
     "duration": 2.459755,
     "end_time": "2025-04-02T02:09:47.670050",
     "exception": false,
     "start_time": "2025-04-02T02:09:45.210295",
     "status": "completed"
    },
    "tags": []
   },
   "outputs": [
    {
     "name": "stdout",
     "output_type": "stream",
     "text": [
      "11/11 [==============================] - 2s 197ms/step - loss: 0.6914 - categorical_accuracy: 0.7143\n",
      "Loss: 0.6914480924606323\n",
      "Accuracy: 0.7142857313156128\n"
     ]
    }
   ],
   "source": [
    "loss, accuracy = best_model.evaluate(test_ds)\n",
    "\n",
    "print(f'Loss: {loss}')\n",
    "print(f'Accuracy: {accuracy}')"
   ]
  },
  {
   "cell_type": "code",
   "execution_count": 9,
   "id": "c433c0f7",
   "metadata": {
    "execution": {
     "iopub.execute_input": "2025-04-02T02:09:47.714954Z",
     "iopub.status.busy": "2025-04-02T02:09:47.714599Z",
     "iopub.status.idle": "2025-04-02T02:09:48.837329Z",
     "shell.execute_reply": "2025-04-02T02:09:48.836475Z"
    },
    "papermill": {
     "duration": 1.146654,
     "end_time": "2025-04-02T02:09:48.839013",
     "exception": false,
     "start_time": "2025-04-02T02:09:47.692359",
     "status": "completed"
    },
    "tags": []
   },
   "outputs": [
    {
     "data": {
      "image/png": "[encoded data removed]",
      "text/plain": [
       "<Figure size 1000x800 with 2 Axes>"
      ]
     },
     "metadata": {},
     "output_type": "display_data"
    }
   ],
   "source": [
    "history_dict = training_history.history\n",
    "\n",
    "acc = history_dict['categorical_accuracy']\n",
    "val_acc = history_dict['val_categorical_accuracy']\n",
    "loss = history_dict['loss']\n",
    "val_loss = history_dict['val_loss']\n",
    "\n",
    "epochs = range(1, len(acc) + 1)\n",
    "fig = plt.figure(figsize=(10, 8))\n",
    "fig.tight_layout()\n",
    "\n",
    "plt.subplot(2, 1, 1)\n",
    "# r is for \"solid red line\"\n",
    "plt.plot(epochs, loss, 'r', label='Training loss')\n",
    "# b is for \"solid blue line\"\n",
    "plt.plot(epochs, val_loss, 'b', label='Validation loss')\n",
    "plt.title(f'Training and validation loss ({dataset_name})')\n",
    "# plt.xlabel('Epochs')\n",
    "plt.ylabel('Loss')\n",
    "plt.legend()\n",
    "\n",
    "# Add value labels for loss\n",
    "for x, y in zip(epochs, loss):\n",
    "    plt.text(x, y, f\"{y:.2f}\", color='red', ha='center', va='bottom')\n",
    "for x, y in zip(epochs, val_loss):\n",
    "    plt.text(x, y, f\"{y:.2f}\", color='blue', ha='center', va='bottom')\n",
    "\n",
    "plt.subplot(2, 1, 2)\n",
    "plt.plot(epochs, acc, 'r', label='Training acc')\n",
    "plt.plot(epochs, val_acc, 'b', label='Validation acc')\n",
    "plt.title(f'Training and validation accuracy ({dataset_name})')\n",
    "plt.xlabel('Epochs')\n",
    "plt.ylabel('Accuracy')\n",
    "plt.legend(loc='lower right')\n",
    "\n",
    "# Add value labels for accuracy\n",
    "for x, y in zip(epochs, acc):\n",
    "    plt.text(x, y, f\"{y:.2f}\", color='red', ha='center', va='bottom')\n",
    "for x, y in zip(epochs, val_acc):\n",
    "    plt.text(x, y, f\"{y:.2f}\", color='blue', ha='center', va='bottom')\n",
    "\n",
    "figname = f\"{dataset_name}-{datetime.now().strftime('%y%m%d-%H%M%S')}.png\"\n",
    "plt.savefig(f\"/kaggle/working/{figname}\", dpi=300, bbox_inches='tight')\n",
    "plt.show()"
   ]
  },
  {
   "cell_type": "code",
   "execution_count": 10,
   "id": "08dc57ea",
   "metadata": {
    "execution": {
     "iopub.execute_input": "2025-04-02T02:09:48.886012Z",
     "iopub.status.busy": "2025-04-02T02:09:48.885716Z",
     "iopub.status.idle": "2025-04-02T02:10:06.960266Z",
     "shell.execute_reply": "2025-04-02T02:10:06.959563Z"
    },
    "papermill": {
     "duration": 18.099658,
     "end_time": "2025-04-02T02:10:06.961848",
     "exception": false,
     "start_time": "2025-04-02T02:09:48.862190",
     "status": "completed"
    },
    "tags": []
   },
   "outputs": [],
   "source": [
    "# Export model for inference\n",
    "\n",
    "saved_model_path = f\"/kaggle/working/{dataset_name}_{accuracy * 100:.0f}_model\"\n",
    "best_model.save(saved_model_path, include_optimizer=False)\n",
    "saved_model_path = f\"/kaggle/output/{dataset_name}_{accuracy * 100:.0f}_model\"\n",
    "best_model.save(saved_model_path, include_optimizer=False)"
   ]
  }
 ],
 "metadata": {
  "kaggle": {
   "accelerator": "gpu",
   "dataSources": [
    {
     "datasetId": 7025082,
     "sourceId": 11243605,
     "sourceType": "datasetVersion"
    }
   ],
   "dockerImageVersionId": 30918,
   "isGpuEnabled": true,
   "isInternetEnabled": true,
   "language": "python",
   "sourceType": "notebook"
  },
  "kernelspec": {
   "display_name": "Python 3",
   "language": "python",
   "name": "python3"
  },
  "language_info": {
   "codemirror_mode": {
    "name": "ipython",
    "version": 3
   },
   "file_extension": ".py",
   "mimetype": "text/x-python",
   "name": "python",
   "nbconvert_exporter": "python",
   "pygments_lexer": "ipython3",
   "version": "3.10.12"
  },
  "papermill": {
   "default_parameters": {},
   "duration": 380.91556,
   "end_time": "2025-04-02T02:10:10.164329",
   "environment_variables": {},
   "exception": null,
   "input_path": "__notebook__.ipynb",
   "output_path": "__notebook__.ipynb",
   "parameters": {},
   "start_time": "2025-04-02T02:03:49.248769",
   "version": "2.6.0"
  }
 },
 "nbformat": 4,
 "nbformat_minor": 5
}
