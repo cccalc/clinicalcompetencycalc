{
 "cells": [
  {
   "cell_type": "code",
   "execution_count": 1,
   "id": "0b81c5b9",
   "metadata": {
    "execution": {
     "iopub.execute_input": "2025-03-26T11:27:32.896333Z",
     "iopub.status.busy": "2025-03-26T11:27:32.896014Z",
     "iopub.status.idle": "2025-03-26T11:28:56.355452Z",
     "shell.execute_reply": "2025-03-26T11:28:56.354360Z"
    },
    "papermill": {
     "duration": 83.466168,
     "end_time": "2025-03-26T11:28:56.357971",
     "exception": false,
     "start_time": "2025-03-26T11:27:32.891803",
     "status": "completed"
    },
    "tags": []
   },
   "outputs": [],
   "source": [
    "%%capture\n",
    "\n",
    "%pip install \"tensorflow==2.15.*\"\n",
    "%pip install \"tensorflow-text==2.15.*\"\n",
    "%pip install \"tf-models-official==2.15.*\"\n",
    "%pip install \"tf-keras==2.15.*\"\n",
    "%pip install keras-tuner"
   ]
  },
  {
   "cell_type": "code",
   "execution_count": 2,
   "id": "382438a9",
   "metadata": {
    "execution": {
     "iopub.execute_input": "2025-03-26T11:28:56.365237Z",
     "iopub.status.busy": "2025-03-26T11:28:56.364937Z",
     "iopub.status.idle": "2025-03-26T11:29:04.081126Z",
     "shell.execute_reply": "2025-03-26T11:29:04.080379Z"
    },
    "papermill": {
     "duration": 7.721208,
     "end_time": "2025-03-26T11:29:04.082636",
     "exception": false,
     "start_time": "2025-03-26T11:28:56.361428",
     "status": "completed"
    },
    "tags": []
   },
   "outputs": [],
   "source": [
    "import os\n",
    "import shutil\n",
    "\n",
    "import tensorflow as tf\n",
    "import tensorflow_hub as hub\n",
    "import tensorflow_text as text\n",
    "from official.nlp import optimization  # to create AdamW optimizer\n",
    "from tensorflow.keras.callbacks import EarlyStopping\n",
    "import keras_tuner as kt\n",
    "\n",
    "from datetime import datetime\n",
    "import matplotlib.pyplot as plt"
   ]
  },
  {
   "cell_type": "code",
   "execution_count": 3,
   "id": "089ce7bb",
   "metadata": {
    "_cell_guid": "b1076dfc-b9ad-4769-8c92-a6c4dae69d19",
    "_uuid": "8f2839f25d086af736a60e9eeb907d3b93b6e0e5",
    "execution": {
     "iopub.execute_input": "2025-03-26T11:29:04.089195Z",
     "iopub.status.busy": "2025-03-26T11:29:04.088664Z",
     "iopub.status.idle": "2025-03-26T11:29:06.821238Z",
     "shell.execute_reply": "2025-03-26T11:29:06.820508Z"
    },
    "papermill": {
     "duration": 2.737203,
     "end_time": "2025-03-26T11:29:06.822731",
     "exception": false,
     "start_time": "2025-03-26T11:29:04.085528",
     "status": "completed"
    },
    "tags": []
   },
   "outputs": [
    {
     "name": "stdout",
     "output_type": "stream",
     "text": [
      "Found 937 files belonging to 4 classes.\n",
      "Found 119 files belonging to 4 classes.\n",
      "Found 120 files belonging to 4 classes.\n"
     ]
    }
   ],
   "source": [
    "# Load datasets\n",
    "\n",
    "dataset_name = 'ccc-bert-250325-80'\n",
    "\n",
    "autotune = tf.data.AUTOTUNE\n",
    "batch_size = 32\n",
    "seed = 42\n",
    "\n",
    "ds_dir = os.path.join('/kaggle/input', dataset_name)\n",
    "\n",
    "raw_train_ds = tf.keras.utils.text_dataset_from_directory(\n",
    "    os.path.join(ds_dir, 'train'),\n",
    "    batch_size=batch_size)\n",
    "\n",
    "def oneHotLabels(x, y): return x, tf.one_hot(y, depth=len(raw_train_ds.class_names))\n",
    "\n",
    "train_ds = raw_train_ds.map(oneHotLabels).cache().prefetch(buffer_size=autotune)\n",
    "\n",
    "raw_val_ds = tf.keras.utils.text_dataset_from_directory(\n",
    "    os.path.join(ds_dir, 'validate'),\n",
    "    batch_size=batch_size)\n",
    "\n",
    "val_ds = raw_val_ds.map(oneHotLabels).cache().prefetch(buffer_size=autotune)\n",
    "\n",
    "raw_test_ds = tf.keras.utils.text_dataset_from_directory(\n",
    "    os.path.join(ds_dir, 'test'),\n",
    "    batch_size=batch_size)\n",
    "\n",
    "test_ds = raw_test_ds.map(oneHotLabels).cache().prefetch(buffer_size=autotune)"
   ]
  },
  {
   "cell_type": "code",
   "execution_count": 4,
   "id": "53d2cd7d",
   "metadata": {
    "execution": {
     "iopub.execute_input": "2025-03-26T11:29:06.829632Z",
     "iopub.status.busy": "2025-03-26T11:29:06.829344Z",
     "iopub.status.idle": "2025-03-26T11:29:06.837196Z",
     "shell.execute_reply": "2025-03-26T11:29:06.836382Z"
    },
    "papermill": {
     "duration": 0.012767,
     "end_time": "2025-03-26T11:29:06.838518",
     "exception": false,
     "start_time": "2025-03-26T11:29:06.825751",
     "status": "completed"
    },
    "tags": []
   },
   "outputs": [],
   "source": [
    "# Build BERT neural net\n",
    "\n",
    "epochs = 40\n",
    "\n",
    "def build_model(hp):\n",
    "    tfhub_handle_encoder = 'https://tfhub.dev/google/experts/bert/pubmed/2'\n",
    "    tfhub_handle_preprocess = 'https://tfhub.dev/tensorflow/bert_en_uncased_preprocess/3'\n",
    "    \n",
    "    # Hyperparameter tuning\n",
    "    dropout_rate = hp.Float('dropout_rate', min_value=0.1, max_value=0.5, step=0.1)\n",
    "    l2_rate = hp.Float('l2_rate', min_value=0.0001, max_value=0.01, step=5, sampling='log')\n",
    "    learning_rate = hp.Float('learning_rate', min_value=1e-5, max_value=1e-4, step=5, sampling='log')\n",
    "    \n",
    "    text_input = tf.keras.layers.Input(shape=(), dtype=tf.string, name='text')\n",
    "    preprocessing_layer = hub.KerasLayer(tfhub_handle_preprocess, name='preprocessing')\n",
    "    encoder_inputs = preprocessing_layer(text_input)\n",
    "    encoder = hub.KerasLayer(tfhub_handle_encoder, trainable=True, name='BERT_encoder')\n",
    "    outputs = encoder(encoder_inputs)\n",
    "    net = outputs['pooled_output']\n",
    "    net = tf.keras.layers.Dropout(dropout_rate)(net)\n",
    "    net = tf.keras.layers.Dense(4, activation='softmax',\n",
    "                                kernel_regularizer=tf.keras.regularizers.l2(l2_rate),\n",
    "                                name='classifier')(net)\n",
    "    \n",
    "    loss = tf.keras.losses.CategoricalCrossentropy()\n",
    "    metrics = tf.metrics.CategoricalAccuracy()\n",
    "    \n",
    "    steps_per_epoch = tf.data.experimental.cardinality(train_ds).numpy()\n",
    "    num_train_steps = steps_per_epoch * epochs\n",
    "    num_warmup_steps = int(0.1*num_train_steps)\n",
    "    \n",
    "    optimizer = optimization.create_optimizer(\n",
    "        init_lr=learning_rate,\n",
    "        num_train_steps=num_train_steps,\n",
    "        num_warmup_steps=num_warmup_steps,\n",
    "        optimizer_type='adamw')\n",
    "    \n",
    "    model = tf.keras.Model(text_input, net)\n",
    "    model.compile(optimizer=optimizer, loss=loss, metrics=metrics)\n",
    "\n",
    "    return model"
   ]
  },
  {
   "cell_type": "code",
   "execution_count": 5,
   "id": "5c5ad356",
   "metadata": {
    "execution": {
     "iopub.execute_input": "2025-03-26T11:29:06.845262Z",
     "iopub.status.busy": "2025-03-26T11:29:06.845005Z",
     "iopub.status.idle": "2025-03-26T11:29:06.850649Z",
     "shell.execute_reply": "2025-03-26T11:29:06.850054Z"
    },
    "papermill": {
     "duration": 0.010396,
     "end_time": "2025-03-26T11:29:06.851967",
     "exception": false,
     "start_time": "2025-03-26T11:29:06.841571",
     "status": "completed"
    },
    "tags": []
   },
   "outputs": [],
   "source": [
    "epochs = 40\n",
    "\n",
    "def define_model(dropout_rate, l2_rate, learning_rate):\n",
    "    tfhub_handle_encoder = 'https://tfhub.dev/google/experts/bert/pubmed/2'\n",
    "    tfhub_handle_preprocess = 'https://tfhub.dev/tensorflow/bert_en_uncased_preprocess/3'\n",
    "    \n",
    "    text_input = tf.keras.layers.Input(shape=(), dtype=tf.string, name='text')\n",
    "    preprocessing_layer = hub.KerasLayer(tfhub_handle_preprocess, name='preprocessing')\n",
    "    encoder_inputs = preprocessing_layer(text_input)\n",
    "    encoder = hub.KerasLayer(tfhub_handle_encoder, trainable=True, name='BERT_encoder')\n",
    "    outputs = encoder(encoder_inputs)\n",
    "    net = outputs['pooled_output']\n",
    "    net = tf.keras.layers.Dropout(dropout_rate)(net)\n",
    "    net = tf.keras.layers.Dense(4, activation='softmax',\n",
    "                                kernel_regularizer=tf.keras.regularizers.l2(l2_rate),\n",
    "                                name='classifier')(net)\n",
    "    \n",
    "    loss = tf.keras.losses.CategoricalCrossentropy()\n",
    "    metrics = tf.metrics.CategoricalAccuracy()\n",
    "    \n",
    "    steps_per_epoch = tf.data.experimental.cardinality(train_ds).numpy()\n",
    "    num_train_steps = steps_per_epoch * epochs\n",
    "    num_warmup_steps = int(0.1*num_train_steps)\n",
    "    \n",
    "    optimizer = optimization.create_optimizer(\n",
    "        init_lr=learning_rate,\n",
    "        num_train_steps=num_train_steps,\n",
    "        num_warmup_steps=num_warmup_steps,\n",
    "        optimizer_type='adamw')\n",
    "    \n",
    "    model = tf.keras.Model(text_input, net)\n",
    "    model.compile(optimizer=optimizer, loss=loss, metrics=metrics)\n",
    "\n",
    "    return model"
   ]
  },
  {
   "cell_type": "code",
   "execution_count": 6,
   "id": "19fde5d2",
   "metadata": {
    "execution": {
     "iopub.execute_input": "2025-03-26T11:29:06.858128Z",
     "iopub.status.busy": "2025-03-26T11:29:06.857903Z",
     "iopub.status.idle": "2025-03-26T11:29:06.862542Z",
     "shell.execute_reply": "2025-03-26T11:29:06.861938Z"
    },
    "papermill": {
     "duration": 0.008952,
     "end_time": "2025-03-26T11:29:06.863633",
     "exception": false,
     "start_time": "2025-03-26T11:29:06.854681",
     "status": "completed"
    },
    "tags": []
   },
   "outputs": [],
   "source": [
    "from pathlib import Path\n",
    "from itertools import tee\n",
    "\n",
    "def format_storage(bytes_size):\n",
    "    GB = 1024 ** 3\n",
    "    MB = 1024 ** 2\n",
    "    KB = 1024\n",
    "    \n",
    "    if bytes_size >= GB:\n",
    "        return f\"{bytes_size / GB:.2f}GB\"\n",
    "    elif bytes_size >= MB:\n",
    "        return f\"{bytes_size / MB:.2f}MB\"\n",
    "    elif bytes_size >= KB:\n",
    "        return f\"{bytes_size / KB:.2f}KB\"\n",
    "    else:\n",
    "        return f\"{bytes_size}B\"\n",
    "\n",
    "def scandir(p: Path) -> int:\n",
    "    files, dirs = tee(Path(p).iterdir())\n",
    "    total = sum(x.stat().st_size for x in files if x.is_file())\n",
    "    total += sum(scandir(x) for x in dirs if x.is_dir())\n",
    "    return total"
   ]
  },
  {
   "cell_type": "code",
   "execution_count": 7,
   "id": "1b7d9998",
   "metadata": {
    "execution": {
     "iopub.execute_input": "2025-03-26T11:29:06.869845Z",
     "iopub.status.busy": "2025-03-26T11:29:06.869522Z",
     "iopub.status.idle": "2025-03-26T11:29:06.873573Z",
     "shell.execute_reply": "2025-03-26T11:29:06.872691Z"
    },
    "papermill": {
     "duration": 0.008798,
     "end_time": "2025-03-26T11:29:06.875214",
     "exception": false,
     "start_time": "2025-03-26T11:29:06.866416",
     "status": "completed"
    },
    "tags": []
   },
   "outputs": [],
   "source": [
    "# # Define the tuner\n",
    "# tuner = kt.Hyperband(\n",
    "#     build_model,\n",
    "#     objective='val_categorical_accuracy',\n",
    "#     max_epochs=10,\n",
    "#     factor=3,\n",
    "#     directory='/kaggle/tmp',\n",
    "#     project_name='ccc_bert_hyperparameter_tuning_adamw'\n",
    "# )\n",
    "\n",
    "# class DiskUsageCallback(tf.keras.callbacks.Callback):\n",
    "#     def __init__(self, threshold):\n",
    "#         super(DiskUsageCallback, self).__init__()\n",
    "#         self.threshold = threshold\n",
    "\n",
    "#     def on_epoch_end(self, epoch, logs=None):\n",
    "#         used = scandir('/kaggle/tmp')\n",
    "#         if used > self.threshold:\n",
    "#             print(f\"Disk usage exceeded threshold: {format_storage(used)} used\")\n",
    "#             self.model.stop_training = True\n",
    "\n",
    "# # Define the threshold for disk usage (in bytes)\n",
    "# disk_usage_threshold = 50 * 1024 * 1024 * 1024  # 50 GB\n",
    "\n",
    "# # Create the custom callback\n",
    "# disk_usage_cb = DiskUsageCallback(threshold=disk_usage_threshold)\n",
    "\n",
    "# shutil.rmtree(\"/kaggle/tmp\")\n",
    "\n",
    "# # Load your training and validation data\n",
    "# # Assuming `train_data` and `val_data` are your preprocessed datasets\n",
    "# tuner.search(\n",
    "#     train_ds,\n",
    "#     validation_data=val_ds,\n",
    "#     epochs=10,\n",
    "#     callbacks=[tf.keras.callbacks.EarlyStopping(patience=2), disk_usage_cb])\n",
    "\n",
    "# # Get the best hyperparameters\n",
    "# best_hps = tuner.get_best_hyperparameters(num_trials=1)[0]\n",
    "\n",
    "# print(f\"\"\"\n",
    "#     Best hyperparameters found:\n",
    "#     - Dropout rate: {best_hps.get('dropout_rate')}\n",
    "#     - L2 regularization: {best_hps.get('l2_rate')}\n",
    "#     - Learning rate: {best_hps.get('learning_rate')}\n",
    "#     \"\"\")  "
   ]
  },
  {
   "cell_type": "code",
   "execution_count": 8,
   "id": "eb996813",
   "metadata": {
    "execution": {
     "iopub.execute_input": "2025-03-26T11:29:06.885545Z",
     "iopub.status.busy": "2025-03-26T11:29:06.885320Z",
     "iopub.status.idle": "2025-03-26T11:32:07.416300Z",
     "shell.execute_reply": "2025-03-26T11:32:07.415326Z"
    },
    "papermill": {
     "duration": 180.537412,
     "end_time": "2025-03-26T11:32:07.417695",
     "exception": false,
     "start_time": "2025-03-26T11:29:06.880283",
     "status": "completed"
    },
    "tags": []
   },
   "outputs": [
    {
     "name": "stdout",
     "output_type": "stream",
     "text": [
      "Epoch 1/40\n",
      "30/30 [==============================] - 36s 612ms/step - loss: 1.4876 - categorical_accuracy: 0.2935 - val_loss: 1.3458 - val_categorical_accuracy: 0.3866\n",
      "Epoch 2/40\n",
      "30/30 [==============================] - 17s 555ms/step - loss: 1.1856 - categorical_accuracy: 0.4578 - val_loss: 1.1062 - val_categorical_accuracy: 0.5126\n",
      "Epoch 3/40\n",
      "30/30 [==============================] - 17s 553ms/step - loss: 0.8562 - categorical_accuracy: 0.6158 - val_loss: 1.0913 - val_categorical_accuracy: 0.5798\n",
      "Epoch 4/40\n",
      "30/30 [==============================] - 17s 555ms/step - loss: 0.6568 - categorical_accuracy: 0.7257 - val_loss: 1.2116 - val_categorical_accuracy: 0.5882\n",
      "Epoch 5/40\n",
      "30/30 [==============================] - 17s 551ms/step - loss: 0.4813 - categorical_accuracy: 0.8111 - val_loss: 1.4337 - val_categorical_accuracy: 0.5966\n",
      "Epoch 6/40\n",
      "30/30 [==============================] - 16s 543ms/step - loss: 0.4143 - categorical_accuracy: 0.8346 - val_loss: 1.5801 - val_categorical_accuracy: 0.5630\n",
      "Epoch 7/40\n",
      "30/30 [==============================] - 16s 543ms/step - loss: 0.3145 - categorical_accuracy: 0.8869 - val_loss: 1.6776 - val_categorical_accuracy: 0.5546\n",
      "Epoch 8/40\n",
      "30/30 [==============================] - ETA: 0s - loss: 0.1941 - categorical_accuracy: 0.9285Restoring model weights from the end of the best epoch: 5.\n",
      "30/30 [==============================] - 17s 558ms/step - loss: 0.1941 - categorical_accuracy: 0.9285 - val_loss: 2.3882 - val_categorical_accuracy: 0.5462\n",
      "Epoch 8: early stopping\n"
     ]
    }
   ],
   "source": [
    "# best_model = tuner.hypermodel.build(best_hps)\n",
    "best_model = define_model(0.1, 0.0005, 5e-05)\n",
    "\n",
    "early_stopping = EarlyStopping(\n",
    "    monitor='val_categorical_accuracy', \n",
    "    patience=3, # Number of epochs with no improvement before stopping\n",
    "    mode='max',  # We want to maximize accuracy\n",
    "    verbose=1,\n",
    "    restore_best_weights=True, # Restore the best weights once training stops\n",
    "    min_delta=0.001)  # Minimum change to qualify as an improvement\n",
    "\n",
    "training_history = best_model.fit(\n",
    "    x=train_ds,\n",
    "    validation_data=val_ds,\n",
    "    epochs=epochs,\n",
    "    callbacks=[early_stopping])"
   ]
  },
  {
   "cell_type": "code",
   "execution_count": 9,
   "id": "32ec95cc",
   "metadata": {
    "execution": {
     "iopub.execute_input": "2025-03-26T11:32:07.447348Z",
     "iopub.status.busy": "2025-03-26T11:32:07.447041Z",
     "iopub.status.idle": "2025-03-26T11:32:08.311842Z",
     "shell.execute_reply": "2025-03-26T11:32:08.311023Z"
    },
    "papermill": {
     "duration": 0.881269,
     "end_time": "2025-03-26T11:32:08.313264",
     "exception": false,
     "start_time": "2025-03-26T11:32:07.431995",
     "status": "completed"
    },
    "tags": []
   },
   "outputs": [
    {
     "name": "stdout",
     "output_type": "stream",
     "text": [
      "4/4 [==============================] - 1s 183ms/step - loss: 1.0770 - categorical_accuracy: 0.6417\n",
      "Loss: 1.077006220817566\n",
      "Accuracy: 0.6416666507720947\n"
     ]
    }
   ],
   "source": [
    "loss, accuracy = best_model.evaluate(test_ds)\n",
    "\n",
    "print(f'Loss: {loss}')\n",
    "print(f'Accuracy: {accuracy}')"
   ]
  },
  {
   "cell_type": "code",
   "execution_count": 10,
   "id": "314af7ce",
   "metadata": {
    "execution": {
     "iopub.execute_input": "2025-03-26T11:32:08.343129Z",
     "iopub.status.busy": "2025-03-26T11:32:08.342779Z",
     "iopub.status.idle": "2025-03-26T11:32:09.545593Z",
     "shell.execute_reply": "2025-03-26T11:32:09.544666Z"
    },
    "papermill": {
     "duration": 1.219316,
     "end_time": "2025-03-26T11:32:09.547146",
     "exception": false,
     "start_time": "2025-03-26T11:32:08.327830",
     "status": "completed"
    },
    "tags": []
   },
   "outputs": [
    {
     "data": {
      "image/png": "[encoded data removed]",
      "text/plain": [
       "<Figure size 1000x800 with 2 Axes>"
      ]
     },
     "metadata": {},
     "output_type": "display_data"
    }
   ],
   "source": [
    "history_dict = training_history.history\n",
    "\n",
    "acc = history_dict['categorical_accuracy']\n",
    "val_acc = history_dict['val_categorical_accuracy']\n",
    "loss = history_dict['loss']\n",
    "val_loss = history_dict['val_loss']\n",
    "\n",
    "epochs = range(1, len(acc) + 1)\n",
    "fig = plt.figure(figsize=(10, 8))\n",
    "fig.tight_layout()\n",
    "\n",
    "plt.subplot(2, 1, 1)\n",
    "# r is for \"solid red line\"\n",
    "plt.plot(epochs, loss, 'r', label='Training loss')\n",
    "# b is for \"solid blue line\"\n",
    "plt.plot(epochs, val_loss, 'b', label='Validation loss')\n",
    "plt.title(f'Training and validation loss ({dataset_name})')\n",
    "# plt.xlabel('Epochs')\n",
    "plt.ylabel('Loss')\n",
    "plt.legend()\n",
    "\n",
    "# Add value labels for loss\n",
    "for x, y in zip(epochs, loss):\n",
    "    plt.text(x, y, f\"{y:.2f}\", color='red', ha='center', va='bottom')\n",
    "for x, y in zip(epochs, val_loss):\n",
    "    plt.text(x, y, f\"{y:.2f}\", color='blue', ha='center', va='bottom')\n",
    "\n",
    "plt.subplot(2, 1, 2)\n",
    "plt.plot(epochs, acc, 'r', label='Training acc')\n",
    "plt.plot(epochs, val_acc, 'b', label='Validation acc')\n",
    "plt.title(f'Training and validation accuracy ({dataset_name})')\n",
    "plt.xlabel('Epochs')\n",
    "plt.ylabel('Accuracy')\n",
    "plt.legend(loc='lower right')\n",
    "\n",
    "# Add value labels for accuracy\n",
    "for x, y in zip(epochs, acc):\n",
    "    plt.text(x, y, f\"{y:.2f}\", color='red', ha='center', va='bottom')\n",
    "for x, y in zip(epochs, val_acc):\n",
    "    plt.text(x, y, f\"{y:.2f}\", color='blue', ha='center', va='bottom')\n",
    "\n",
    "figname = f\"{dataset_name}-{datetime.now().strftime('%y%m%d-%H%M%S')}.png\"\n",
    "plt.savefig(f\"/kaggle/working/{figname}\", dpi=300, bbox_inches='tight')\n",
    "plt.show()"
   ]
  },
  {
   "cell_type": "code",
   "execution_count": 11,
   "id": "1bf79033",
   "metadata": {
    "execution": {
     "iopub.execute_input": "2025-03-26T11:32:09.580555Z",
     "iopub.status.busy": "2025-03-26T11:32:09.580270Z",
     "iopub.status.idle": "2025-03-26T11:32:09.583819Z",
     "shell.execute_reply": "2025-03-26T11:32:09.583158Z"
    },
    "papermill": {
     "duration": 0.021766,
     "end_time": "2025-03-26T11:32:09.585148",
     "exception": false,
     "start_time": "2025-03-26T11:32:09.563382",
     "status": "completed"
    },
    "tags": []
   },
   "outputs": [],
   "source": [
    "# Export model for inference\n",
    "if accuracy > 0.8:\n",
    "    saved_model_path = '/kaggle/output/{}_model'.format(dataset_name.replace('/', '_'))\n",
    "    best_model.save(saved_model_path, include_optimizer=False)"
   ]
  }
 ],
 "metadata": {
  "kaggle": {
   "accelerator": "gpu",
   "dataSources": [
    {
     "datasetId": 6904966,
     "sourceId": 11078677,
     "sourceType": "datasetVersion"
    },
    {
     "datasetId": 6945405,
     "sourceId": 11135644,
     "sourceType": "datasetVersion"
    },
    {
     "datasetId": 6945412,
     "sourceId": 11135653,
     "sourceType": "datasetVersion"
    },
    {
     "datasetId": 6950451,
     "sourceId": 11142261,
     "sourceType": "datasetVersion"
    },
    {
     "datasetId": 6967084,
     "sourceId": 11164723,
     "sourceType": "datasetVersion"
    },
    {
     "datasetId": 6967561,
     "sourceId": 11165388,
     "sourceType": "datasetVersion"
    },
    {
     "datasetId": 6968369,
     "sourceId": 11166539,
     "sourceType": "datasetVersion"
    }
   ],
   "dockerImageVersionId": 30918,
   "isGpuEnabled": true,
   "isInternetEnabled": true,
   "language": "python",
   "sourceType": "notebook"
  },
  "kernelspec": {
   "display_name": "Python 3",
   "language": "python",
   "name": "python3"
  },
  "language_info": {
   "codemirror_mode": {
    "name": "ipython",
    "version": 3
   },
   "file_extension": ".py",
   "mimetype": "text/x-python",
   "name": "python",
   "nbconvert_exporter": "python",
   "pygments_lexer": "ipython3",
   "version": "3.10.12"
  },
  "papermill": {
   "default_parameters": {},
   "duration": 282.88769,
   "end_time": "2025-03-26T11:32:13.159324",
   "environment_variables": {},
   "exception": null,
   "input_path": "__notebook__.ipynb",
   "output_path": "__notebook__.ipynb",
   "parameters": {},
   "start_time": "2025-03-26T11:27:30.271634",
   "version": "2.6.0"
  }
 },
 "nbformat": 4,
 "nbformat_minor": 5
}
