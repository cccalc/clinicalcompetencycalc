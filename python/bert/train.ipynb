{
 "cells": [
  {
   "cell_type": "code",
   "execution_count": 1,
   "id": "d873c36f",
   "metadata": {
    "execution": {
     "iopub.execute_input": "2025-03-25T18:08:43.935271Z",
     "iopub.status.busy": "2025-03-25T18:08:43.934914Z",
     "iopub.status.idle": "2025-03-25T18:10:10.592827Z",
     "shell.execute_reply": "2025-03-25T18:10:10.591625Z"
    },
    "papermill": {
     "duration": 86.664692,
     "end_time": "2025-03-25T18:10:10.594674",
     "exception": false,
     "start_time": "2025-03-25T18:08:43.929982",
     "status": "completed"
    },
    "tags": []
   },
   "outputs": [],
   "source": [
    "%%capture\n",
    "\n",
    "%pip install \"tensorflow==2.15.*\"\n",
    "%pip install \"tensorflow-text==2.15.*\"\n",
    "%pip install \"tf-models-official==2.15.*\"\n",
    "%pip install \"tf-keras==2.15.*\"\n",
    "%pip install keras-tuner"
   ]
  },
  {
   "cell_type": "code",
   "execution_count": 2,
   "id": "9f624187",
   "metadata": {
    "execution": {
     "iopub.execute_input": "2025-03-25T18:10:10.602783Z",
     "iopub.status.busy": "2025-03-25T18:10:10.602499Z",
     "iopub.status.idle": "2025-03-25T18:10:17.931461Z",
     "shell.execute_reply": "2025-03-25T18:10:17.930503Z"
    },
    "papermill": {
     "duration": 7.334999,
     "end_time": "2025-03-25T18:10:17.933593",
     "exception": false,
     "start_time": "2025-03-25T18:10:10.598594",
     "status": "completed"
    },
    "tags": []
   },
   "outputs": [],
   "source": [
    "import os\n",
    "import shutil\n",
    "\n",
    "import tensorflow as tf\n",
    "import tensorflow_hub as hub\n",
    "import tensorflow_text as text\n",
    "from official.nlp import optimization  # to create AdamW optimizer\n",
    "from tensorflow.keras.callbacks import EarlyStopping\n",
    "import keras_tuner as kt\n",
    "\n",
    "from datetime import datetime\n",
    "import matplotlib.pyplot as plt"
   ]
  },
  {
   "cell_type": "code",
   "execution_count": 3,
   "id": "05be0db6",
   "metadata": {
    "_cell_guid": "b1076dfc-b9ad-4769-8c92-a6c4dae69d19",
    "_uuid": "8f2839f25d086af736a60e9eeb907d3b93b6e0e5",
    "execution": {
     "iopub.execute_input": "2025-03-25T18:10:17.943540Z",
     "iopub.status.busy": "2025-03-25T18:10:17.942768Z",
     "iopub.status.idle": "2025-03-25T18:10:22.555210Z",
     "shell.execute_reply": "2025-03-25T18:10:22.554506Z"
    },
    "papermill": {
     "duration": 4.618329,
     "end_time": "2025-03-25T18:10:22.556809",
     "exception": false,
     "start_time": "2025-03-25T18:10:17.938480",
     "status": "completed"
    },
    "tags": []
   },
   "outputs": [
    {
     "name": "stdout",
     "output_type": "stream",
     "text": [
      "Found 2076 files belonging to 4 classes.\n",
      "Using 1661 files for training.\n",
      "Found 2076 files belonging to 4 classes.\n",
      "Using 415 files for validation.\n",
      "Found 507 files belonging to 4 classes.\n"
     ]
    }
   ],
   "source": [
    "# Load datasets\n",
    "\n",
    "dataset_name = 'ccc-bert-250325-80-aug-2'\n",
    "\n",
    "autotune = tf.data.AUTOTUNE\n",
    "batch_size = 32\n",
    "seed = 42\n",
    "\n",
    "ds_dir = os.path.join('/kaggle/input', dataset_name)\n",
    "\n",
    "raw_train_ds = tf.keras.utils.text_dataset_from_directory(\n",
    "    os.path.join(ds_dir, 'train'),\n",
    "    batch_size=batch_size,\n",
    "    validation_split=0.2,\n",
    "    subset='training',\n",
    "    seed=seed)\n",
    "\n",
    "def oneHotLabels(x, y): return x, tf.one_hot(y, depth=len(raw_train_ds.class_names))\n",
    "\n",
    "train_ds = raw_train_ds.map(oneHotLabels).cache().prefetch(buffer_size=autotune)\n",
    "\n",
    "raw_val_ds = tf.keras.utils.text_dataset_from_directory(\n",
    "    os.path.join(ds_dir, 'train'),\n",
    "    batch_size=batch_size,\n",
    "    validation_split=0.2,\n",
    "    subset='validation',\n",
    "    seed=seed)\n",
    "\n",
    "val_ds = raw_val_ds.map(oneHotLabels).cache().prefetch(buffer_size=autotune)\n",
    "\n",
    "raw_test_ds = tf.keras.utils.text_dataset_from_directory(\n",
    "    os.path.join(ds_dir, 'test'),\n",
    "    batch_size=batch_size)\n",
    "\n",
    "test_ds = raw_test_ds.map(oneHotLabels).cache().prefetch(buffer_size=autotune)"
   ]
  },
  {
   "cell_type": "code",
   "execution_count": 4,
   "id": "390fad37",
   "metadata": {
    "execution": {
     "iopub.execute_input": "2025-03-25T18:10:22.564752Z",
     "iopub.status.busy": "2025-03-25T18:10:22.564484Z",
     "iopub.status.idle": "2025-03-25T18:10:22.571941Z",
     "shell.execute_reply": "2025-03-25T18:10:22.571247Z"
    },
    "papermill": {
     "duration": 0.012647,
     "end_time": "2025-03-25T18:10:22.573226",
     "exception": false,
     "start_time": "2025-03-25T18:10:22.560579",
     "status": "completed"
    },
    "tags": []
   },
   "outputs": [],
   "source": [
    "# Build BERT neural net\n",
    "\n",
    "epochs = 40\n",
    "\n",
    "def build_model(hp):\n",
    "    tfhub_handle_encoder = 'https://tfhub.dev/google/experts/bert/pubmed/2'\n",
    "    tfhub_handle_preprocess = 'https://tfhub.dev/tensorflow/bert_en_uncased_preprocess/3'\n",
    "    \n",
    "    # Hyperparameter tuning\n",
    "    dropout_rate = hp.Float('dropout_rate', min_value=0.1, max_value=0.5, step=0.1)\n",
    "    l2_rate = hp.Float('l2_rate', min_value=0.0001, max_value=0.01, step=5, sampling='log')\n",
    "    learning_rate = hp.Float('learning_rate', min_value=1e-5, max_value=1e-4, step=5, sampling='log')\n",
    "    \n",
    "    text_input = tf.keras.layers.Input(shape=(), dtype=tf.string, name='text')\n",
    "    preprocessing_layer = hub.KerasLayer(tfhub_handle_preprocess, name='preprocessing')\n",
    "    encoder_inputs = preprocessing_layer(text_input)\n",
    "    encoder = hub.KerasLayer(tfhub_handle_encoder, trainable=True, name='BERT_encoder')\n",
    "    outputs = encoder(encoder_inputs)\n",
    "    net = outputs['pooled_output']\n",
    "    net = tf.keras.layers.Dropout(dropout_rate)(net)\n",
    "    net = tf.keras.layers.Dense(4, activation='softmax',\n",
    "                                kernel_regularizer=tf.keras.regularizers.l2(l2_rate),\n",
    "                                name='classifier')(net)\n",
    "    \n",
    "    loss = tf.keras.losses.CategoricalCrossentropy()\n",
    "    metrics = tf.metrics.CategoricalAccuracy()\n",
    "    \n",
    "    steps_per_epoch = tf.data.experimental.cardinality(train_ds).numpy()\n",
    "    num_train_steps = steps_per_epoch * epochs\n",
    "    num_warmup_steps = int(0.1*num_train_steps)\n",
    "    \n",
    "    optimizer = optimization.create_optimizer(\n",
    "        init_lr=learning_rate,\n",
    "        num_train_steps=num_train_steps,\n",
    "        num_warmup_steps=num_warmup_steps,\n",
    "        optimizer_type='adamw')\n",
    "    \n",
    "    model = tf.keras.Model(text_input, net)\n",
    "    model.compile(optimizer=optimizer, loss=loss, metrics=metrics)\n",
    "\n",
    "    return model"
   ]
  },
  {
   "cell_type": "code",
   "execution_count": 5,
   "id": "ea821a93",
   "metadata": {
    "execution": {
     "iopub.execute_input": "2025-03-25T18:10:22.580559Z",
     "iopub.status.busy": "2025-03-25T18:10:22.580317Z",
     "iopub.status.idle": "2025-03-25T18:40:35.088548Z",
     "shell.execute_reply": "2025-03-25T18:40:35.087801Z"
    },
    "papermill": {
     "duration": 1812.513361,
     "end_time": "2025-03-25T18:40:35.089947",
     "exception": false,
     "start_time": "2025-03-25T18:10:22.576586",
     "status": "completed"
    },
    "tags": []
   },
   "outputs": [
    {
     "name": "stdout",
     "output_type": "stream",
     "text": [
      "Trial 30 Complete [00h 00m 59s]\n",
      "val_categorical_accuracy: 0.2795180678367615\n",
      "\n",
      "Best val_categorical_accuracy So Far: 0.725301206111908\n",
      "Total elapsed time: 00h 29m 39s\n",
      "\n",
      "    Best hyperparameters found:\n",
      "    - Dropout rate: 0.30000000000000004\n",
      "    - L2 regularization: 0.0001\n",
      "    - Learning rate: 5e-05\n",
      "    \n"
     ]
    }
   ],
   "source": [
    "# Define the tuner\n",
    "tuner = kt.Hyperband(\n",
    "    build_model,\n",
    "    objective='val_categorical_accuracy',\n",
    "    max_epochs=10,\n",
    "    factor=3,\n",
    "    directory='/kaggle/tmp',\n",
    "    project_name='ccc_bert_hyperparameter_tuning_adamw'\n",
    ")\n",
    "\n",
    "class DiskUsageCallback(tf.keras.callbacks.Callback):\n",
    "    def __init__(self, threshold):\n",
    "        super(DiskUsageCallback, self).__init__()\n",
    "        self.threshold = threshold\n",
    "\n",
    "    def on_epoch_end(self, epoch, logs=None):\n",
    "        total, used, free = shutil.disk_usage(\"/kaggle/tmp\")\n",
    "        if used > self.threshold:\n",
    "            print(f\"Disk usage exceeded threshold: {used} bytes used\")\n",
    "            self.model.stop_training = True\n",
    "\n",
    "# Define the threshold for disk usage (in bytes)\n",
    "disk_usage_threshold = 50 * 1024 * 1024 * 1024  # 50 GB\n",
    "\n",
    "# Create the custom callback\n",
    "disk_usage_cb = DiskUsageCallback(threshold=disk_usage_threshold)\n",
    "\n",
    "# Load your training and validation data\n",
    "# Assuming `train_data` and `val_data` are your preprocessed datasets\n",
    "tuner.search(\n",
    "    train_ds,\n",
    "    validation_data=val_ds,\n",
    "    epochs=10,\n",
    "    callbacks=[tf.keras.callbacks.EarlyStopping(patience=2), disk_usage_cb])\n",
    "\n",
    "# Get the best hyperparameters\n",
    "best_hps = tuner.get_best_hyperparameters(num_trials=1)[0]\n",
    "\n",
    "print(f\"\"\"\n",
    "    Best hyperparameters found:\n",
    "    - Dropout rate: {best_hps.get('dropout_rate')}\n",
    "    - L2 regularization: {best_hps.get('l2_rate')}\n",
    "    - Learning rate: {best_hps.get('learning_rate')}\n",
    "    \"\"\")  "
   ]
  },
  {
   "cell_type": "code",
   "execution_count": 6,
   "id": "fc043e66",
   "metadata": {
    "execution": {
     "iopub.execute_input": "2025-03-25T18:40:35.097995Z",
     "iopub.status.busy": "2025-03-25T18:40:35.097741Z",
     "iopub.status.idle": "2025-03-25T18:40:35.100909Z",
     "shell.execute_reply": "2025-03-25T18:40:35.100274Z"
    },
    "papermill": {
     "duration": 0.008495,
     "end_time": "2025-03-25T18:40:35.102135",
     "exception": false,
     "start_time": "2025-03-25T18:40:35.093640",
     "status": "completed"
    },
    "tags": []
   },
   "outputs": [],
   "source": [
    "# def define_model(dropout_rate, l2_rate, learning_rate):\n",
    "#     tfhub_handle_encoder = 'https://tfhub.dev/google/experts/bert/pubmed/2'\n",
    "#     tfhub_handle_preprocess = 'https://tfhub.dev/tensorflow/bert_en_uncased_preprocess/3'\n",
    "\n",
    "#     text_input = tf.keras.layers.Input(shape=(), dtype=tf.string, name='text')\n",
    "#     preprocessing_layer = hub.KerasLayer(tfhub_handle_preprocess, name='preprocessing')\n",
    "#     encoder_inputs = preprocessing_layer(text_input)\n",
    "#     encoder = hub.KerasLayer(tfhub_handle_encoder, trainable=True, name='BERT_encoder')\n",
    "#     outputs = encoder(encoder_inputs)\n",
    "#     net = outputs['pooled_output']\n",
    "#     net = tf.keras.layers.Dropout(dropout_rate)(net)\n",
    "#     net = tf.keras.layers.Dense(4, activation='softmax',\n",
    "#                                 kernel_regularizer=tf.keras.regularizers.l2(l2_rate),\n",
    "#                                 name='classifier')(net)\n",
    "\n",
    "#     loss = tf.keras.losses.CategoricalCrossentropy()\n",
    "#     metrics = tf.metrics.CategoricalAccuracy()\n",
    "\n",
    "#     steps_per_epoch = tf.data.experimental.cardinality(train_ds).numpy()\n",
    "#     num_train_steps = steps_per_epoch * 20\n",
    "#     num_warmup_steps = int(0.1*num_train_steps)\n",
    "\n",
    "#     optimizer = optimization.create_optimizer(\n",
    "#         init_lr=learning_rate,\n",
    "#         num_train_steps=num_train_steps,\n",
    "#         num_warmup_steps=num_warmup_steps,\n",
    "#         optimizer_type='adamw')\n",
    "    \n",
    "#     model = tf.keras.Model(text_input, net)\n",
    "#     model.compile(optimizer=optimizer, loss=loss, metrics=metrics)\n",
    "    \n",
    "#     return model"
   ]
  },
  {
   "cell_type": "code",
   "execution_count": 7,
   "id": "2bfa95cb",
   "metadata": {
    "execution": {
     "iopub.execute_input": "2025-03-25T18:40:35.109480Z",
     "iopub.status.busy": "2025-03-25T18:40:35.109241Z",
     "iopub.status.idle": "2025-03-25T18:40:35.112243Z",
     "shell.execute_reply": "2025-03-25T18:40:35.111538Z"
    },
    "papermill": {
     "duration": 0.007969,
     "end_time": "2025-03-25T18:40:35.113433",
     "exception": false,
     "start_time": "2025-03-25T18:40:35.105464",
     "status": "completed"
    },
    "tags": []
   },
   "outputs": [],
   "source": [
    "# # Tune dropout rate\n",
    "\n",
    "# def build_model_dropout(hp):\n",
    "#     dropout_rate = hp.Float('dropout_rate', min_value=0.1, max_value=0.5, step=0.1)\n",
    "#     l2_rate = 0.005\n",
    "#     learning_rate = 3e-5\n",
    "#     return define_model(dropout_rate, l2_rate, learning_rate)\n",
    "\n",
    "# tuner_dropout = kt.Hyperband(\n",
    "#     build_model_dropout,\n",
    "#     objective='val_categorical_accuracy',\n",
    "#     max_epochs=10,\n",
    "#     factor=3,\n",
    "#     directory='/kaggle/tmp',\n",
    "#     project_name='ccc_bert_hyperparameter_tuning'\n",
    "# )\n",
    "\n",
    "# tuner_dropout.search(\n",
    "#     train_ds,\n",
    "#     validation_data=val_ds,\n",
    "#     epochs=10,\n",
    "#     callbacks=[tf.keras.callbacks.EarlyStopping(patience=3)])\n",
    "\n",
    "# best_dropout = tuner_dropout.get_best_hyperparameters(num_trials=1)[0].get('dropout_rate')\n",
    "# print(f'Best dropout rate: {best_dropout}')\n",
    "\n",
    "# shutil.rmtree('/kaggle/tmp')"
   ]
  },
  {
   "cell_type": "code",
   "execution_count": 8,
   "id": "17e1cbc3",
   "metadata": {
    "execution": {
     "iopub.execute_input": "2025-03-25T18:40:35.120620Z",
     "iopub.status.busy": "2025-03-25T18:40:35.120357Z",
     "iopub.status.idle": "2025-03-25T18:40:35.123720Z",
     "shell.execute_reply": "2025-03-25T18:40:35.122870Z"
    },
    "papermill": {
     "duration": 0.008302,
     "end_time": "2025-03-25T18:40:35.124950",
     "exception": false,
     "start_time": "2025-03-25T18:40:35.116648",
     "status": "completed"
    },
    "tags": []
   },
   "outputs": [],
   "source": [
    "# # Tune l2 rate\n",
    "\n",
    "# def build_model_l2(hp):\n",
    "#     dropout_rate = best_dropout\n",
    "#     l2_rate = hp.Float('l2_rate', min_value=0.0001, max_value=0.01, step=10, sampling='log')\n",
    "#     learning_rate = 3e-5\n",
    "#     return define_model(dropout_rate, l2_rate, learning_rate)\n",
    "\n",
    "# tuner_l2 = kt.Hyperband(\n",
    "#     build_model_l2,\n",
    "#     objective='val_categorical_accuracy',\n",
    "#     max_epochs=10,\n",
    "#     factor=3,\n",
    "#     directory='/kaggle/tmp',\n",
    "#     project_name='ccc_bert_hyperparameter_tuning'\n",
    "# )\n",
    "\n",
    "# tuner_l2.search(\n",
    "#     train_ds,\n",
    "#     validation_data=val_ds,\n",
    "#     epochs=10,\n",
    "#     callbacks=[tf.keras.callbacks.EarlyStopping(patience=3)])\n",
    "\n",
    "# best_l2 = tuner_l2.get_best_hyperparameters(num_trials=1)[0].get('l2_rate')\n",
    "# print(f'Best l2 rate: {best_l2}')\n",
    "\n",
    "# shutil.rmtree('/kaggle/tmp')"
   ]
  },
  {
   "cell_type": "code",
   "execution_count": 9,
   "id": "326fac7c",
   "metadata": {
    "execution": {
     "iopub.execute_input": "2025-03-25T18:40:35.132252Z",
     "iopub.status.busy": "2025-03-25T18:40:35.131982Z",
     "iopub.status.idle": "2025-03-25T18:40:35.135374Z",
     "shell.execute_reply": "2025-03-25T18:40:35.134571Z"
    },
    "papermill": {
     "duration": 0.008375,
     "end_time": "2025-03-25T18:40:35.136746",
     "exception": false,
     "start_time": "2025-03-25T18:40:35.128371",
     "status": "completed"
    },
    "tags": []
   },
   "outputs": [],
   "source": [
    "# # Tune learning rate\n",
    "\n",
    "# def build_model_lr(hp):\n",
    "#     dropout_rate = best_dropout\n",
    "#     l2_rate = best_l2\n",
    "#     learning_rate = hp.Choice('learning_rate', [1e-5, 2e-5, 3e-5, 5e-5])\n",
    "#     return define_model(dropout_rate, l2_rate, learning_rate)\n",
    "\n",
    "# tuner_lr = kt.Hyperband(\n",
    "#     build_model_lr,\n",
    "#     objective='val_categorical_accuracy',\n",
    "#     max_epochs=10,\n",
    "#     factor=3,\n",
    "#     directory='/kaggle/tmp',\n",
    "#     project_name='ccc_bert_hyperparameter_tuning'\n",
    "# )\n",
    "\n",
    "# tuner_lr.search(\n",
    "#     train_ds,\n",
    "#     validation_data=val_ds,\n",
    "#     epochs=10,\n",
    "#     callbacks=[tf.keras.callbacks.EarlyStopping(patience=3)])\n",
    "\n",
    "# best_lr = tuner_lr.get_best_hyperparameters(num_trials=1)[0].get('learning_rate')\n",
    "# print(f'Best learning rate: {best_lr}')\n",
    "\n",
    "# shutil.rmtree('/kaggle/tmp')"
   ]
  },
  {
   "cell_type": "code",
   "execution_count": 10,
   "id": "9f338606",
   "metadata": {
    "execution": {
     "iopub.execute_input": "2025-03-25T18:40:35.144096Z",
     "iopub.status.busy": "2025-03-25T18:40:35.143816Z",
     "iopub.status.idle": "2025-03-25T18:40:35.146836Z",
     "shell.execute_reply": "2025-03-25T18:40:35.146198Z"
    },
    "papermill": {
     "duration": 0.007852,
     "end_time": "2025-03-25T18:40:35.147918",
     "exception": false,
     "start_time": "2025-03-25T18:40:35.140066",
     "status": "completed"
    },
    "tags": []
   },
   "outputs": [],
   "source": [
    "# print(f\"\"\"\n",
    "#     Best hyperparameters found:\n",
    "#     - Dropout rate: {best_dropout}\n",
    "#     - L2 regularization: {best_l2}\n",
    "#     - Learning rate: {best_lr}\n",
    "#     \"\"\")"
   ]
  },
  {
   "cell_type": "code",
   "execution_count": 11,
   "id": "1c018da1",
   "metadata": {
    "execution": {
     "iopub.execute_input": "2025-03-25T18:40:35.154913Z",
     "iopub.status.busy": "2025-03-25T18:40:35.154706Z",
     "iopub.status.idle": "2025-03-25T18:49:03.606201Z",
     "shell.execute_reply": "2025-03-25T18:49:03.605261Z"
    },
    "papermill": {
     "duration": 508.456494,
     "end_time": "2025-03-25T18:49:03.607600",
     "exception": false,
     "start_time": "2025-03-25T18:40:35.151106",
     "status": "completed"
    },
    "tags": []
   },
   "outputs": [
    {
     "name": "stdout",
     "output_type": "stream",
     "text": [
      "Epoch 1/40\n",
      "52/52 [==============================] - 46s 606ms/step - loss: 1.5532 - categorical_accuracy: 0.2818 - val_loss: 1.2392 - val_categorical_accuracy: 0.4482\n",
      "Epoch 2/40\n",
      "52/52 [==============================] - 30s 584ms/step - loss: 1.2192 - categorical_accuracy: 0.4570 - val_loss: 0.9164 - val_categorical_accuracy: 0.6289\n",
      "Epoch 3/40\n",
      "52/52 [==============================] - 30s 584ms/step - loss: 0.9456 - categorical_accuracy: 0.5864 - val_loss: 0.7502 - val_categorical_accuracy: 0.6819\n",
      "Epoch 4/40\n",
      "52/52 [==============================] - 30s 584ms/step - loss: 0.6857 - categorical_accuracy: 0.7128 - val_loss: 0.7457 - val_categorical_accuracy: 0.7373\n",
      "Epoch 5/40\n",
      "52/52 [==============================] - 30s 584ms/step - loss: 0.3773 - categorical_accuracy: 0.8489 - val_loss: 0.5701 - val_categorical_accuracy: 0.8265\n",
      "Epoch 6/40\n",
      "52/52 [==============================] - 30s 584ms/step - loss: 0.1974 - categorical_accuracy: 0.9290 - val_loss: 0.5299 - val_categorical_accuracy: 0.8530\n",
      "Epoch 7/40\n",
      "52/52 [==============================] - 30s 584ms/step - loss: 0.1084 - categorical_accuracy: 0.9651 - val_loss: 0.5720 - val_categorical_accuracy: 0.8747\n",
      "Epoch 8/40\n",
      "52/52 [==============================] - 30s 583ms/step - loss: 0.1168 - categorical_accuracy: 0.9573 - val_loss: 0.5771 - val_categorical_accuracy: 0.8819\n",
      "Epoch 9/40\n",
      "52/52 [==============================] - 30s 584ms/step - loss: 0.0627 - categorical_accuracy: 0.9777 - val_loss: 0.4886 - val_categorical_accuracy: 0.9036\n",
      "Epoch 10/40\n",
      "52/52 [==============================] - 30s 579ms/step - loss: 0.0597 - categorical_accuracy: 0.9831 - val_loss: 0.6888 - val_categorical_accuracy: 0.8867\n",
      "Epoch 11/40\n",
      "52/52 [==============================] - 30s 579ms/step - loss: 0.0221 - categorical_accuracy: 0.9934 - val_loss: 0.6452 - val_categorical_accuracy: 0.9036\n",
      "Epoch 12/40\n",
      "52/52 [==============================] - 30s 583ms/step - loss: 0.0342 - categorical_accuracy: 0.9892 - val_loss: 0.5627 - val_categorical_accuracy: 0.9133\n",
      "Epoch 13/40\n",
      "52/52 [==============================] - 30s 584ms/step - loss: 0.0248 - categorical_accuracy: 0.9952 - val_loss: 0.5265 - val_categorical_accuracy: 0.9277\n",
      "Epoch 14/40\n",
      "52/52 [==============================] - 30s 579ms/step - loss: 0.0099 - categorical_accuracy: 0.9976 - val_loss: 0.5611 - val_categorical_accuracy: 0.9205\n",
      "Epoch 15/40\n",
      "52/52 [==============================] - 30s 579ms/step - loss: 0.0081 - categorical_accuracy: 0.9970 - val_loss: 0.4716 - val_categorical_accuracy: 0.9229\n",
      "Epoch 16/40\n",
      "52/52 [==============================] - ETA: 0s - loss: 0.0030 - categorical_accuracy: 0.9994Restoring model weights from the end of the best epoch: 13.\n",
      "52/52 [==============================] - 30s 584ms/step - loss: 0.0030 - categorical_accuracy: 0.9994 - val_loss: 0.4784 - val_categorical_accuracy: 0.9253\n",
      "Epoch 16: early stopping\n"
     ]
    }
   ],
   "source": [
    "# best_model = define_model(best_dropout, best_l2, best_lr)\n",
    "best_model = tuner.hypermodel.build(best_hps)\n",
    "\n",
    "early_stopping = EarlyStopping(\n",
    "    monitor='val_categorical_accuracy', \n",
    "    patience=3, # Number of epochs with no improvement before stopping\n",
    "    mode='max',  # We want to maximize accuracy\n",
    "    verbose=1,\n",
    "    restore_best_weights=True, # Restore the best weights once training stops\n",
    "    min_delta=0.001)  # Minimum change to qualify as an improvement\n",
    "\n",
    "training_history = best_model.fit(\n",
    "    x=train_ds,\n",
    "    validation_data=val_ds,\n",
    "    epochs=epochs,\n",
    "    callbacks=[early_stopping])"
   ]
  },
  {
   "cell_type": "code",
   "execution_count": 12,
   "id": "dfd69ecf",
   "metadata": {
    "execution": {
     "iopub.execute_input": "2025-03-25T18:49:03.701529Z",
     "iopub.status.busy": "2025-03-25T18:49:03.701225Z",
     "iopub.status.idle": "2025-03-25T18:49:07.352376Z",
     "shell.execute_reply": "2025-03-25T18:49:07.351648Z"
    },
    "papermill": {
     "duration": 3.704082,
     "end_time": "2025-03-25T18:49:07.353700",
     "exception": false,
     "start_time": "2025-03-25T18:49:03.649618",
     "status": "completed"
    },
    "tags": []
   },
   "outputs": [
    {
     "name": "stdout",
     "output_type": "stream",
     "text": [
      "16/16 [==============================] - 4s 196ms/step - loss: 2.8229 - categorical_accuracy: 0.6746\n",
      "Loss: 2.822887659072876\n",
      "Accuracy: 0.6745561957359314\n"
     ]
    }
   ],
   "source": [
    "loss, accuracy = best_model.evaluate(test_ds)\n",
    "\n",
    "print(f'Loss: {loss}')\n",
    "print(f'Accuracy: {accuracy}')"
   ]
  },
  {
   "cell_type": "code",
   "execution_count": 13,
   "id": "e5244ae5",
   "metadata": {
    "execution": {
     "iopub.execute_input": "2025-03-25T18:49:07.440703Z",
     "iopub.status.busy": "2025-03-25T18:49:07.440400Z",
     "iopub.status.idle": "2025-03-25T18:49:08.889811Z",
     "shell.execute_reply": "2025-03-25T18:49:08.888922Z"
    },
    "papermill": {
     "duration": 1.494716,
     "end_time": "2025-03-25T18:49:08.891625",
     "exception": false,
     "start_time": "2025-03-25T18:49:07.396909",
     "status": "completed"
    },
    "tags": []
   },
   "outputs": [
    {
     "data": {
      "image/png": "[encoded data removed]",
      "text/plain": [
       "<Figure size 1000x800 with 2 Axes>"
      ]
     },
     "metadata": {},
     "output_type": "display_data"
    }
   ],
   "source": [
    "history_dict = training_history.history\n",
    "\n",
    "acc = history_dict['categorical_accuracy']\n",
    "val_acc = history_dict['val_categorical_accuracy']\n",
    "loss = history_dict['loss']\n",
    "val_loss = history_dict['val_loss']\n",
    "\n",
    "epochs = range(1, len(acc) + 1)\n",
    "fig = plt.figure(figsize=(10, 8))\n",
    "fig.tight_layout()\n",
    "\n",
    "plt.subplot(2, 1, 1)\n",
    "# r is for \"solid red line\"\n",
    "plt.plot(epochs, loss, 'r', label='Training loss')\n",
    "# b is for \"solid blue line\"\n",
    "plt.plot(epochs, val_loss, 'b', label='Validation loss')\n",
    "plt.title(f'Training and validation loss ({dataset_name})')\n",
    "# plt.xlabel('Epochs')\n",
    "plt.ylabel('Loss')\n",
    "plt.legend()\n",
    "\n",
    "# Add value labels for loss\n",
    "for x, y in zip(epochs, loss):\n",
    "    plt.text(x, y, f\"{y:.2f}\", color='red', ha='center', va='bottom')\n",
    "for x, y in zip(epochs, val_loss):\n",
    "    plt.text(x, y, f\"{y:.2f}\", color='blue', ha='center', va='bottom')\n",
    "\n",
    "plt.subplot(2, 1, 2)\n",
    "plt.plot(epochs, acc, 'r', label='Training acc')\n",
    "plt.plot(epochs, val_acc, 'b', label='Validation acc')\n",
    "plt.title(f'Training and validation accuracy ({dataset_name})')\n",
    "plt.xlabel('Epochs')\n",
    "plt.ylabel('Accuracy')\n",
    "plt.legend(loc='lower right')\n",
    "\n",
    "# Add value labels for accuracy\n",
    "for x, y in zip(epochs, acc):\n",
    "    plt.text(x, y, f\"{y:.2f}\", color='red', ha='center', va='bottom')\n",
    "for x, y in zip(epochs, val_acc):\n",
    "    plt.text(x, y, f\"{y:.2f}\", color='blue', ha='center', va='bottom')\n",
    "\n",
    "figname = f\"{dataset_name}-{datetime.now().strftime('%y%m%d-%H%M%S')}.png\"\n",
    "plt.savefig(f\"/kaggle/working/{figname}\", dpi=300, bbox_inches='tight')\n",
    "plt.show()"
   ]
  },
  {
   "cell_type": "code",
   "execution_count": 14,
   "id": "355ad3ad",
   "metadata": {
    "execution": {
     "iopub.execute_input": "2025-03-25T18:49:08.983193Z",
     "iopub.status.busy": "2025-03-25T18:49:08.982834Z",
     "iopub.status.idle": "2025-03-25T18:49:08.986562Z",
     "shell.execute_reply": "2025-03-25T18:49:08.985904Z"
    },
    "papermill": {
     "duration": 0.051586,
     "end_time": "2025-03-25T18:49:08.987836",
     "exception": false,
     "start_time": "2025-03-25T18:49:08.936250",
     "status": "completed"
    },
    "tags": []
   },
   "outputs": [],
   "source": [
    "# Export model for inference\n",
    "if accuracy > 0.8:\n",
    "    saved_model_path = '/kaggle/output/{}_model'.format(dataset_name.replace('/', '_'))\n",
    "    best_model.save(saved_model_path, include_optimizer=False)"
   ]
  }
 ],
 "metadata": {
  "kaggle": {
   "accelerator": "gpu",
   "dataSources": [
    {
     "datasetId": 6904966,
     "sourceId": 11078677,
     "sourceType": "datasetVersion"
    },
    {
     "datasetId": 6945405,
     "sourceId": 11135644,
     "sourceType": "datasetVersion"
    },
    {
     "datasetId": 6945412,
     "sourceId": 11135653,
     "sourceType": "datasetVersion"
    },
    {
     "datasetId": 6950451,
     "sourceId": 11142261,
     "sourceType": "datasetVersion"
    },
    {
     "datasetId": 6967084,
     "sourceId": 11164723,
     "sourceType": "datasetVersion"
    }
   ],
   "dockerImageVersionId": 30918,
   "isGpuEnabled": true,
   "isInternetEnabled": true,
   "language": "python",
   "sourceType": "notebook"
  },
  "kernelspec": {
   "display_name": "Python 3",
   "language": "python",
   "name": "python3"
  },
  "language_info": {
   "codemirror_mode": {
    "name": "ipython",
    "version": 3
   },
   "file_extension": ".py",
   "mimetype": "text/x-python",
   "name": "python",
   "nbconvert_exporter": "python",
   "pygments_lexer": "ipython3",
   "version": "3.10.12"
  },
  "papermill": {
   "default_parameters": {},
   "duration": 2430.976133,
   "end_time": "2025-03-25T18:49:12.133465",
   "environment_variables": {},
   "exception": null,
   "input_path": "__notebook__.ipynb",
   "output_path": "__notebook__.ipynb",
   "parameters": {},
   "start_time": "2025-03-25T18:08:41.157332",
   "version": "2.6.0"
  }
 },
 "nbformat": 4,
 "nbformat_minor": 5
}
