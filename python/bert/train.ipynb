{
 "cells": [
  {
   "cell_type": "code",
   "execution_count": 1,
   "id": "d6ae1a78",
   "metadata": {
    "_cell_guid": "b1076dfc-b9ad-4769-8c92-a6c4dae69d19",
    "_uuid": "8f2839f25d086af736a60e9eeb907d3b93b6e0e5",
    "execution": {
     "iopub.execute_input": "2025-04-03T18:12:54.990774Z",
     "iopub.status.busy": "2025-04-03T18:12:54.990491Z",
     "iopub.status.idle": "2025-04-03T18:14:17.753788Z",
     "shell.execute_reply": "2025-04-03T18:14:17.752659Z"
    },
    "papermill": {
     "duration": 82.770101,
     "end_time": "2025-04-03T18:14:17.756212",
     "exception": false,
     "start_time": "2025-04-03T18:12:54.986111",
     "status": "completed"
    },
    "tags": []
   },
   "outputs": [],
   "source": [
    "%%capture\n",
    "\n",
    "%pip install \"tf-models-official==2.15.*\"\n",
    "%pip install \"tensorflow-text==2.15.*\"\n",
    "%pip install \"tensorflow==2.15.*\"\n",
    "%pip install \"tf-keras==2.15.*\"\n",
    "%pip install keras-tuner"
   ]
  },
  {
   "cell_type": "code",
   "execution_count": 2,
   "id": "132ea607",
   "metadata": {
    "execution": {
     "iopub.execute_input": "2025-04-03T18:14:17.763502Z",
     "iopub.status.busy": "2025-04-03T18:14:17.763256Z",
     "iopub.status.idle": "2025-04-03T18:14:25.578599Z",
     "shell.execute_reply": "2025-04-03T18:14:25.577909Z"
    },
    "papermill": {
     "duration": 7.820466,
     "end_time": "2025-04-03T18:14:25.580115",
     "exception": false,
     "start_time": "2025-04-03T18:14:17.759649",
     "status": "completed"
    },
    "tags": []
   },
   "outputs": [],
   "source": [
    "import os\n",
    "import shutil\n",
    "\n",
    "import tensorflow as tf\n",
    "import tensorflow_hub as hub\n",
    "import tensorflow_text as text\n",
    "from official.nlp import optimization  # to create AdamW optimizer\n",
    "from tensorflow.keras.callbacks import EarlyStopping\n",
    "import keras_tuner as kt\n",
    "\n",
    "from datetime import datetime\n",
    "import matplotlib.pyplot as plt"
   ]
  },
  {
   "cell_type": "code",
   "execution_count": 3,
   "id": "bdb99b73",
   "metadata": {
    "execution": {
     "iopub.execute_input": "2025-04-03T18:14:25.586904Z",
     "iopub.status.busy": "2025-04-03T18:14:25.586414Z",
     "iopub.status.idle": "2025-04-03T18:14:29.715727Z",
     "shell.execute_reply": "2025-04-03T18:14:29.714842Z"
    },
    "papermill": {
     "duration": 4.134196,
     "end_time": "2025-04-03T18:14:29.717343",
     "exception": false,
     "start_time": "2025-04-03T18:14:25.583147",
     "status": "completed"
    },
    "tags": []
   },
   "outputs": [
    {
     "name": "stdout",
     "output_type": "stream",
     "text": [
      "Found 2118 files belonging to 4 classes.\n",
      "Found 346 files belonging to 4 classes.\n",
      "Found 350 files belonging to 4 classes.\n"
     ]
    }
   ],
   "source": [
    "# Load datasets\n",
    "\n",
    "dataset_name = 'cb-250401-80'\n",
    "\n",
    "autotune = tf.data.AUTOTUNE\n",
    "batch_size = 32\n",
    "seed = 42\n",
    "\n",
    "ds_dir = os.path.join('/kaggle/input', dataset_name)\n",
    "\n",
    "raw_train_ds = tf.keras.utils.text_dataset_from_directory(\n",
    "    os.path.join(ds_dir, 'train'),\n",
    "    batch_size=batch_size)\n",
    "\n",
    "def oneHotLabels(x, y): return x, tf.one_hot(y, depth=len(raw_train_ds.class_names))\n",
    "\n",
    "train_ds = raw_train_ds.map(oneHotLabels).cache().prefetch(buffer_size=autotune)\n",
    "\n",
    "raw_val_ds = tf.keras.utils.text_dataset_from_directory(\n",
    "    os.path.join(ds_dir, 'validate'),\n",
    "    batch_size=batch_size)\n",
    "\n",
    "val_ds = raw_val_ds.map(oneHotLabels).cache().prefetch(buffer_size=autotune)\n",
    "\n",
    "raw_test_ds = tf.keras.utils.text_dataset_from_directory(\n",
    "    os.path.join(ds_dir, 'test'),\n",
    "    batch_size=batch_size)\n",
    "\n",
    "test_ds = raw_test_ds.map(oneHotLabels).cache().prefetch(buffer_size=autotune)"
   ]
  },
  {
   "cell_type": "code",
   "execution_count": 4,
   "id": "1ae0784d",
   "metadata": {
    "execution": {
     "iopub.execute_input": "2025-04-03T18:14:29.724269Z",
     "iopub.status.busy": "2025-04-03T18:14:29.724021Z",
     "iopub.status.idle": "2025-04-03T18:14:29.731253Z",
     "shell.execute_reply": "2025-04-03T18:14:29.730535Z"
    },
    "papermill": {
     "duration": 0.011964,
     "end_time": "2025-04-03T18:14:29.732465",
     "exception": false,
     "start_time": "2025-04-03T18:14:29.720501",
     "status": "completed"
    },
    "tags": []
   },
   "outputs": [],
   "source": [
    "# Build BERT neural net\n",
    "\n",
    "epochs = 40\n",
    "\n",
    "def build_model(hp):\n",
    "    tfhub_handle_encoder = 'https://tfhub.dev/google/experts/bert/pubmed/2'\n",
    "    tfhub_handle_preprocess = 'https://tfhub.dev/tensorflow/bert_en_uncased_preprocess/3'\n",
    "    \n",
    "    # Hyperparameter tuning\n",
    "    dropout_rate = hp.Float('dropout_rate', min_value=0.1, max_value=0.5, step=0.1)\n",
    "    l2_rate = hp.Float('l2_rate', min_value=0.0001, max_value=0.01, step=5, sampling='log')\n",
    "    learning_rate = hp.Float('learning_rate', min_value=1e-5, max_value=1e-4, step=5, sampling='log')\n",
    "    \n",
    "    text_input = tf.keras.layers.Input(shape=(), dtype=tf.string, name='text')\n",
    "    preprocessing_layer = hub.KerasLayer(tfhub_handle_preprocess, name='preprocessing')\n",
    "    encoder_inputs = preprocessing_layer(text_input)\n",
    "    encoder = hub.KerasLayer(tfhub_handle_encoder, trainable=True, name='BERT_encoder')\n",
    "    outputs = encoder(encoder_inputs)\n",
    "    net = outputs['pooled_output']\n",
    "    net = tf.keras.layers.Dropout(dropout_rate)(net)\n",
    "    net = tf.keras.layers.Dense(4, activation='softmax',\n",
    "                                kernel_regularizer=tf.keras.regularizers.l2(l2_rate),\n",
    "                                name='classifier')(net)\n",
    "    \n",
    "    loss = tf.keras.losses.CategoricalCrossentropy()\n",
    "    metrics = tf.metrics.CategoricalAccuracy()\n",
    "    \n",
    "    steps_per_epoch = tf.data.experimental.cardinality(train_ds).numpy()\n",
    "    num_train_steps = steps_per_epoch * epochs\n",
    "    num_warmup_steps = int(0.1*num_train_steps)\n",
    "    \n",
    "    optimizer = optimization.create_optimizer(\n",
    "        init_lr=learning_rate,\n",
    "        num_train_steps=num_train_steps,\n",
    "        num_warmup_steps=num_warmup_steps,\n",
    "        optimizer_type='adamw')\n",
    "    \n",
    "    model = tf.keras.Model(text_input, net)\n",
    "    model.compile(optimizer=optimizer, loss=loss, metrics=metrics)\n",
    "\n",
    "    return model"
   ]
  },
  {
   "cell_type": "code",
   "execution_count": 5,
   "id": "d05209b7",
   "metadata": {
    "execution": {
     "iopub.execute_input": "2025-04-03T18:14:29.739133Z",
     "iopub.status.busy": "2025-04-03T18:14:29.738909Z",
     "iopub.status.idle": "2025-04-03T18:14:29.744681Z",
     "shell.execute_reply": "2025-04-03T18:14:29.744045Z"
    },
    "papermill": {
     "duration": 0.010544,
     "end_time": "2025-04-03T18:14:29.745937",
     "exception": false,
     "start_time": "2025-04-03T18:14:29.735393",
     "status": "completed"
    },
    "tags": []
   },
   "outputs": [],
   "source": [
    "epochs = 40\n",
    "\n",
    "def define_model(dropout_rate, l2_rate, learning_rate):\n",
    "    tfhub_handle_encoder = 'https://tfhub.dev/google/experts/bert/pubmed/2'\n",
    "    tfhub_handle_preprocess = 'https://tfhub.dev/tensorflow/bert_en_uncased_preprocess/3'\n",
    "    \n",
    "    text_input = tf.keras.layers.Input(shape=(), dtype=tf.string, name='text')\n",
    "    preprocessing_layer = hub.KerasLayer(tfhub_handle_preprocess, name='preprocessing')\n",
    "    encoder_inputs = preprocessing_layer(text_input)\n",
    "    encoder = hub.KerasLayer(tfhub_handle_encoder, trainable=True, name='BERT_encoder')\n",
    "    outputs = encoder(encoder_inputs)\n",
    "    net = outputs['pooled_output']\n",
    "    net = tf.keras.layers.Dropout(dropout_rate)(net)\n",
    "    net = tf.keras.layers.Dense(4, activation='softmax',\n",
    "                                kernel_regularizer=tf.keras.regularizers.l2(l2_rate),\n",
    "                                name='classifier')(net)\n",
    "    \n",
    "    loss = tf.keras.losses.CategoricalCrossentropy()\n",
    "    metrics = tf.metrics.CategoricalAccuracy()\n",
    "    \n",
    "    steps_per_epoch = tf.data.experimental.cardinality(train_ds).numpy()\n",
    "    num_train_steps = steps_per_epoch * epochs\n",
    "    num_warmup_steps = int(0.1*num_train_steps)\n",
    "    \n",
    "    optimizer = optimization.create_optimizer(\n",
    "        init_lr=learning_rate,\n",
    "        num_train_steps=num_train_steps,\n",
    "        num_warmup_steps=num_warmup_steps,\n",
    "        optimizer_type='adamw')\n",
    "    \n",
    "    model = tf.keras.Model(text_input, net)\n",
    "    model.compile(optimizer=optimizer, loss=loss, metrics=metrics)\n",
    "\n",
    "    return model"
   ]
  },
  {
   "cell_type": "code",
   "execution_count": 6,
   "id": "0f7e0f6f",
   "metadata": {
    "execution": {
     "iopub.execute_input": "2025-04-03T18:14:29.752348Z",
     "iopub.status.busy": "2025-04-03T18:14:29.752141Z",
     "iopub.status.idle": "2025-04-03T18:14:29.757017Z",
     "shell.execute_reply": "2025-04-03T18:14:29.756204Z"
    },
    "papermill": {
     "duration": 0.009549,
     "end_time": "2025-04-03T18:14:29.758312",
     "exception": false,
     "start_time": "2025-04-03T18:14:29.748763",
     "status": "completed"
    },
    "tags": []
   },
   "outputs": [],
   "source": [
    "from pathlib import Path\n",
    "from itertools import tee\n",
    "\n",
    "def format_storage(bytes_size):\n",
    "    GB = 1024 ** 3\n",
    "    MB = 1024 ** 2\n",
    "    KB = 1024\n",
    "    \n",
    "    if bytes_size >= GB:\n",
    "        return f\"{bytes_size / GB:.2f}GB\"\n",
    "    elif bytes_size >= MB:\n",
    "        return f\"{bytes_size / MB:.2f}MB\"\n",
    "    elif bytes_size >= KB:\n",
    "        return f\"{bytes_size / KB:.2f}KB\"\n",
    "    else:\n",
    "        return f\"{bytes_size}B\"\n",
    "\n",
    "def scandir(p: Path) -> int:\n",
    "    files, dirs = tee(Path(p).iterdir())\n",
    "    total = sum(x.stat().st_size for x in files if x.is_file())\n",
    "    total += sum(scandir(x) for x in dirs if x.is_dir())\n",
    "    return total"
   ]
  },
  {
   "cell_type": "code",
   "execution_count": 7,
   "id": "0181b7d2",
   "metadata": {
    "execution": {
     "iopub.execute_input": "2025-04-03T18:14:29.764724Z",
     "iopub.status.busy": "2025-04-03T18:14:29.764492Z",
     "iopub.status.idle": "2025-04-03T18:22:30.614343Z",
     "shell.execute_reply": "2025-04-03T18:22:30.613532Z"
    },
    "papermill": {
     "duration": 480.854467,
     "end_time": "2025-04-03T18:22:30.615710",
     "exception": false,
     "start_time": "2025-04-03T18:14:29.761243",
     "status": "completed"
    },
    "tags": []
   },
   "outputs": [
    {
     "name": "stdout",
     "output_type": "stream",
     "text": [
      "Epoch 1/40\n",
      "67/67 [==============================] - 56s 589ms/step - loss: 1.3600 - categorical_accuracy: 0.3546 - val_loss: 0.9841 - val_categorical_accuracy: 0.6069\n",
      "Epoch 2/40\n",
      "67/67 [==============================] - 37s 560ms/step - loss: 0.9266 - categorical_accuracy: 0.5732 - val_loss: 0.7979 - val_categorical_accuracy: 0.6590\n",
      "Epoch 3/40\n",
      "67/67 [==============================] - 37s 560ms/step - loss: 0.7426 - categorical_accuracy: 0.6789 - val_loss: 0.9583 - val_categorical_accuracy: 0.6821\n",
      "Epoch 4/40\n",
      "67/67 [==============================] - 38s 560ms/step - loss: 0.6070 - categorical_accuracy: 0.7568 - val_loss: 0.8267 - val_categorical_accuracy: 0.6850\n",
      "Epoch 5/40\n",
      "67/67 [==============================] - 37s 556ms/step - loss: 0.4348 - categorical_accuracy: 0.8263 - val_loss: 1.2958 - val_categorical_accuracy: 0.6127\n",
      "Epoch 6/40\n",
      "67/67 [==============================] - 37s 559ms/step - loss: 0.4012 - categorical_accuracy: 0.8442 - val_loss: 1.2190 - val_categorical_accuracy: 0.7023\n",
      "Epoch 7/40\n",
      "67/67 [==============================] - 37s 555ms/step - loss: 0.2566 - categorical_accuracy: 0.9117 - val_loss: 1.3407 - val_categorical_accuracy: 0.6532\n",
      "Epoch 8/40\n",
      "67/67 [==============================] - 37s 556ms/step - loss: 0.1496 - categorical_accuracy: 0.9448 - val_loss: 1.7869 - val_categorical_accuracy: 0.6156\n",
      "Epoch 9/40\n",
      "67/67 [==============================] - 38s 561ms/step - loss: 0.1290 - categorical_accuracy: 0.9575 - val_loss: 1.5329 - val_categorical_accuracy: 0.7370\n",
      "Epoch 10/40\n",
      "67/67 [==============================] - 37s 555ms/step - loss: 0.0824 - categorical_accuracy: 0.9745 - val_loss: 1.8882 - val_categorical_accuracy: 0.6792\n",
      "Epoch 11/40\n",
      "67/67 [==============================] - 37s 556ms/step - loss: 0.0828 - categorical_accuracy: 0.9802 - val_loss: 2.0350 - val_categorical_accuracy: 0.7023\n",
      "Epoch 12/40\n",
      "67/67 [==============================] - ETA: 0s - loss: 0.0613 - categorical_accuracy: 0.9816Restoring model weights from the end of the best epoch: 9.\n",
      "67/67 [==============================] - 38s 561ms/step - loss: 0.0613 - categorical_accuracy: 0.9816 - val_loss: 2.1255 - val_categorical_accuracy: 0.7052\n",
      "Epoch 12: early stopping\n"
     ]
    }
   ],
   "source": [
    "# best_model = tuner.hypermodel.build(best_hps)\n",
    "best_model = define_model(0.1, 0.0005, 5e-05)\n",
    "\n",
    "early_stopping = EarlyStopping(\n",
    "    monitor='val_categorical_accuracy', \n",
    "    patience=3, # Number of epochs with no improvement before stopping\n",
    "    mode='max',  # We want to maximize accuracy\n",
    "    verbose=1,\n",
    "    restore_best_weights=True, # Restore the best weights once training stops\n",
    "    min_delta=0.001)  # Minimum change to qualify as an improvement\n",
    "\n",
    "training_history = best_model.fit(\n",
    "    x=train_ds,\n",
    "    validation_data=val_ds,\n",
    "    epochs=epochs,\n",
    "    callbacks=[early_stopping])"
   ]
  },
  {
   "cell_type": "code",
   "execution_count": 8,
   "id": "c71f6997",
   "metadata": {
    "execution": {
     "iopub.execute_input": "2025-04-03T18:22:30.696942Z",
     "iopub.status.busy": "2025-04-03T18:22:30.696591Z",
     "iopub.status.idle": "2025-04-03T18:22:33.334286Z",
     "shell.execute_reply": "2025-04-03T18:22:33.333373Z"
    },
    "papermill": {
     "duration": 2.679646,
     "end_time": "2025-04-03T18:22:33.335678",
     "exception": false,
     "start_time": "2025-04-03T18:22:30.656032",
     "status": "completed"
    },
    "tags": []
   },
   "outputs": [
    {
     "name": "stdout",
     "output_type": "stream",
     "text": [
      "11/11 [==============================] - 3s 196ms/step - loss: 1.4434 - categorical_accuracy: 0.7114\n",
      "Loss: 1.4433997869491577\n",
      "Accuracy: 0.7114285826683044\n"
     ]
    }
   ],
   "source": [
    "loss, accuracy = best_model.evaluate(test_ds)\n",
    "\n",
    "print(f'Loss: {loss}')\n",
    "print(f'Accuracy: {accuracy}')"
   ]
  },
  {
   "cell_type": "code",
   "execution_count": 9,
   "id": "e06c7926",
   "metadata": {
    "execution": {
     "iopub.execute_input": "2025-04-03T18:22:33.417124Z",
     "iopub.status.busy": "2025-04-03T18:22:33.416801Z",
     "iopub.status.idle": "2025-04-03T18:22:34.671972Z",
     "shell.execute_reply": "2025-04-03T18:22:34.671042Z"
    },
    "papermill": {
     "duration": 1.297253,
     "end_time": "2025-04-03T18:22:34.673272",
     "exception": false,
     "start_time": "2025-04-03T18:22:33.376019",
     "status": "completed"
    },
    "tags": []
   },
   "outputs": [
    {
     "data": {
      "image/png": "[encoded data removed]",
      "text/plain": [
       "<Figure size 1000x800 with 2 Axes>"
      ]
     },
     "metadata": {},
     "output_type": "display_data"
    }
   ],
   "source": [
    "history_dict = training_history.history\n",
    "\n",
    "acc = history_dict['categorical_accuracy']\n",
    "val_acc = history_dict['val_categorical_accuracy']\n",
    "loss = history_dict['loss']\n",
    "val_loss = history_dict['val_loss']\n",
    "\n",
    "epochs = range(1, len(acc) + 1)\n",
    "fig = plt.figure(figsize=(10, 8))\n",
    "fig.tight_layout()\n",
    "\n",
    "plt.subplot(2, 1, 1)\n",
    "# r is for \"solid red line\"\n",
    "plt.plot(epochs, loss, 'r', label='Training loss')\n",
    "# b is for \"solid blue line\"\n",
    "plt.plot(epochs, val_loss, 'b', label='Validation loss')\n",
    "plt.title(f'Training and validation loss ({dataset_name})')\n",
    "# plt.xlabel('Epochs')\n",
    "plt.ylabel('Loss')\n",
    "plt.legend()\n",
    "\n",
    "# Add value labels for loss\n",
    "for x, y in zip(epochs, loss):\n",
    "    plt.text(x, y, f\"{y:.2f}\", color='red', ha='center', va='bottom')\n",
    "for x, y in zip(epochs, val_loss):\n",
    "    plt.text(x, y, f\"{y:.2f}\", color='blue', ha='center', va='bottom')\n",
    "\n",
    "plt.subplot(2, 1, 2)\n",
    "plt.plot(epochs, acc, 'r', label='Training acc')\n",
    "plt.plot(epochs, val_acc, 'b', label='Validation acc')\n",
    "plt.title(f'Training and validation accuracy ({dataset_name})')\n",
    "plt.xlabel('Epochs')\n",
    "plt.ylabel('Accuracy')\n",
    "plt.legend(loc='lower right')\n",
    "\n",
    "# Add value labels for accuracy\n",
    "for x, y in zip(epochs, acc):\n",
    "    plt.text(x, y, f\"{y:.2f}\", color='red', ha='center', va='bottom')\n",
    "for x, y in zip(epochs, val_acc):\n",
    "    plt.text(x, y, f\"{y:.2f}\", color='blue', ha='center', va='bottom')\n",
    "\n",
    "figname = f\"{dataset_name}-{datetime.now().strftime('%y%m%d-%H%M%S')}.png\"\n",
    "plt.savefig(f\"/kaggle/working/{figname}\", dpi=300, bbox_inches='tight')\n",
    "plt.show()"
   ]
  },
  {
   "cell_type": "code",
   "execution_count": 10,
   "id": "dc560152",
   "metadata": {
    "execution": {
     "iopub.execute_input": "2025-04-03T18:22:34.757681Z",
     "iopub.status.busy": "2025-04-03T18:22:34.757376Z",
     "iopub.status.idle": "2025-04-03T18:22:44.244530Z",
     "shell.execute_reply": "2025-04-03T18:22:44.243590Z"
    },
    "papermill": {
     "duration": 9.530928,
     "end_time": "2025-04-03T18:22:44.246200",
     "exception": false,
     "start_time": "2025-04-03T18:22:34.715272",
     "status": "completed"
    },
    "tags": []
   },
   "outputs": [],
   "source": [
    "# Export model for inference\n",
    "\n",
    "saved_model_path = f\"/kaggle/working/{dataset_name}_{accuracy * 1e4:.0f}_model\"\n",
    "best_model.save(saved_model_path, include_optimizer=False)"
   ]
  },
  {
   "cell_type": "code",
   "execution_count": 11,
   "id": "21eb7f98",
   "metadata": {
    "execution": {
     "iopub.execute_input": "2025-04-03T18:22:44.331893Z",
     "iopub.status.busy": "2025-04-03T18:22:44.331517Z",
     "iopub.status.idle": "2025-04-03T18:22:53.697915Z",
     "shell.execute_reply": "2025-04-03T18:22:53.697155Z"
    },
    "papermill": {
     "duration": 9.411613,
     "end_time": "2025-04-03T18:22:53.699499",
     "exception": false,
     "start_time": "2025-04-03T18:22:44.287886",
     "status": "completed"
    },
    "tags": []
   },
   "outputs": [],
   "source": [
    "reloaded_model = tf.keras.models.load_model(saved_model_path)"
   ]
  },
  {
   "cell_type": "code",
   "execution_count": 12,
   "id": "fadadb50",
   "metadata": {
    "execution": {
     "iopub.execute_input": "2025-04-03T18:22:53.896280Z",
     "iopub.status.busy": "2025-04-03T18:22:53.895903Z",
     "iopub.status.idle": "2025-04-03T18:22:54.806412Z",
     "shell.execute_reply": "2025-04-03T18:22:54.805698Z"
    },
    "papermill": {
     "duration": 1.023056,
     "end_time": "2025-04-03T18:22:54.807758",
     "exception": false,
     "start_time": "2025-04-03T18:22:53.784702",
     "status": "completed"
    },
    "tags": []
   },
   "outputs": [
    {
     "name": "stdout",
     "output_type": "stream",
     "text": [
      "1/1 [==============================] - 1s 821ms/step\n"
     ]
    }
   ],
   "source": [
    "sentences = [\n",
    "    \"Provided a monotone, scripted presentation with no context.\",\n",
    "    \"Overlooked airway obstruction in post-op patient.\",\n",
    "    \"could work on his confidence  More confidence will come with more experience.\",\n",
    "    \"Gathered history efficiently but struggled with prioritizing pertinent positives/negatives.\",\n",
    "    \"knew when to take time organizing his thoughts and researching when he needed to double-check something in his assessment and plans.\",\n",
    "    \"Ensured oxygen and suction setup for deteriorating patient.\",\n",
    "    \"Highlighted team accomplishments during debriefing.\",\n",
    "    \"Improved flow by streamlining information sharing in rounds.\",\n",
    "]\n",
    "\n",
    "prediction = reloaded_model.predict(sentences)"
   ]
  },
  {
   "cell_type": "code",
   "execution_count": 13,
   "id": "591ea6eb",
   "metadata": {
    "execution": {
     "iopub.execute_input": "2025-04-03T18:22:54.892313Z",
     "iopub.status.busy": "2025-04-03T18:22:54.891987Z",
     "iopub.status.idle": "2025-04-03T18:22:54.907288Z",
     "shell.execute_reply": "2025-04-03T18:22:54.906261Z"
    },
    "papermill": {
     "duration": 0.059204,
     "end_time": "2025-04-03T18:22:54.908610",
     "exception": false,
     "start_time": "2025-04-03T18:22:54.849406",
     "status": "completed"
    },
    "tags": []
   },
   "outputs": [
    {
     "name": "stdout",
     "output_type": "stream",
     "text": [
      "- Provided a monotone, scripted presentation with no context.\n",
      "      rem       edev      dev       entr \n",
      "      0.047     0.222     0.727     0.004\n",
      "- Overlooked airway obstruction in post-op patient.\n",
      "      rem       edev      dev       entr \n",
      "      0.001     0.886     0.000     0.112\n",
      "- could work on his confidence  More confidence will come with more experience.\n",
      "      rem       edev      dev       entr \n",
      "      0.087     0.911     0.000     0.001\n",
      "- Gathered history efficiently but struggled with prioritizing pertinent positives/negatives.\n",
      "      rem       edev      dev       entr \n",
      "      1.000     0.000     0.000     0.000\n",
      "- knew when to take time organizing his thoughts and researching when he needed to double-check something in ...\n",
      "      rem       edev      dev       entr \n",
      "      0.643     0.000     0.357     0.000\n",
      "- Ensured oxygen and suction setup for deteriorating patient.\n",
      "      rem       edev      dev       entr \n",
      "      0.587     0.000     0.413     0.000\n",
      "- Highlighted team accomplishments during debriefing.\n",
      "      rem       edev      dev       entr \n",
      "      0.000     0.000     1.000     0.000\n",
      "- Improved flow by streamlining information sharing in rounds.\n",
      "      rem       edev      dev       entr \n",
      "      0.001     0.000     0.999     0.000\n"
     ]
    }
   ],
   "source": [
    "plist = prediction.tolist()\n",
    "\n",
    "strlen = 110\n",
    "\n",
    "for sentence, pred in zip(sentences, plist):\n",
    "    print(f'- {sentence[:strlen - 3] + \"...\" if len(sentence) > strlen else sentence}')\n",
    "    print(' ', 'rem  ', 'edev ', 'dev  ', 'entr ', sep=' '*5)\n",
    "    print(' ', *[f'{i:.3f}' for i in pred], sep=' '*5)"
   ]
  }
 ],
 "metadata": {
  "kaggle": {
   "accelerator": "gpu",
   "dataSources": [
    {
     "datasetId": 7025082,
     "sourceId": 11243605,
     "sourceType": "datasetVersion"
    }
   ],
   "dockerImageVersionId": 30918,
   "isGpuEnabled": true,
   "isInternetEnabled": true,
   "language": "python",
   "sourceType": "notebook"
  },
  "kernelspec": {
   "display_name": "Python 3",
   "language": "python",
   "name": "python3"
  },
  "language_info": {
   "codemirror_mode": {
    "name": "ipython",
    "version": 3
   },
   "file_extension": ".py",
   "mimetype": "text/x-python",
   "name": "python",
   "nbconvert_exporter": "python",
   "pygments_lexer": "ipython3",
   "version": "3.10.12"
  },
  "papermill": {
   "default_parameters": {},
   "duration": 606.05779,
   "end_time": "2025-04-03T18:22:58.435381",
   "environment_variables": {},
   "exception": null,
   "input_path": "__notebook__.ipynb",
   "output_path": "__notebook__.ipynb",
   "parameters": {},
   "start_time": "2025-04-03T18:12:52.377591",
   "version": "2.6.0"
  }
 },
 "nbformat": 4,
 "nbformat_minor": 5
}
