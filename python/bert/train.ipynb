{
 "cells": [
  {
   "cell_type": "code",
   "execution_count": 1,
   "id": "1d2952ef",
   "metadata": {
    "execution": {
     "iopub.execute_input": "2025-03-25T03:52:58.516865Z",
     "iopub.status.busy": "2025-03-25T03:52:58.516490Z",
     "iopub.status.idle": "2025-03-25T03:54:20.807759Z",
     "shell.execute_reply": "2025-03-25T03:54:20.806716Z"
    },
    "papermill": {
     "duration": 82.297738,
     "end_time": "2025-03-25T03:54:20.809382",
     "exception": false,
     "start_time": "2025-03-25T03:52:58.511644",
     "status": "completed"
    },
    "tags": []
   },
   "outputs": [],
   "source": [
    "%%capture\n",
    "\n",
    "%pip install \"tensorflow==2.15.*\"\n",
    "%pip install \"tensorflow-text==2.15.*\"\n",
    "%pip install \"tf-models-official==2.15.*\"\n",
    "%pip install \"tf-keras==2.15.*\"\n",
    "%pip install keras-tuner"
   ]
  },
  {
   "cell_type": "code",
   "execution_count": 2,
   "id": "0aebc918",
   "metadata": {
    "execution": {
     "iopub.execute_input": "2025-03-25T03:54:20.816862Z",
     "iopub.status.busy": "2025-03-25T03:54:20.816626Z",
     "iopub.status.idle": "2025-03-25T03:54:27.936033Z",
     "shell.execute_reply": "2025-03-25T03:54:27.935346Z"
    },
    "papermill": {
     "duration": 7.124522,
     "end_time": "2025-03-25T03:54:27.937487",
     "exception": false,
     "start_time": "2025-03-25T03:54:20.812965",
     "status": "completed"
    },
    "tags": []
   },
   "outputs": [],
   "source": [
    "import os\n",
    "import shutil\n",
    "\n",
    "import tensorflow as tf\n",
    "import tensorflow_hub as hub\n",
    "import tensorflow_text as text\n",
    "from official.nlp import optimization  # to create AdamW optimizer\n",
    "from tensorflow.keras.callbacks import EarlyStopping\n",
    "import keras_tuner as kt\n",
    "\n",
    "from datetime import datetime\n",
    "import matplotlib.pyplot as plt"
   ]
  },
  {
   "cell_type": "code",
   "execution_count": 3,
   "id": "9a389ac1",
   "metadata": {
    "_cell_guid": "b1076dfc-b9ad-4769-8c92-a6c4dae69d19",
    "_uuid": "8f2839f25d086af736a60e9eeb907d3b93b6e0e5",
    "execution": {
     "iopub.execute_input": "2025-03-25T03:54:27.944568Z",
     "iopub.status.busy": "2025-03-25T03:54:27.944082Z",
     "iopub.status.idle": "2025-03-25T03:54:33.973796Z",
     "shell.execute_reply": "2025-03-25T03:54:33.972886Z"
    },
    "papermill": {
     "duration": 6.034943,
     "end_time": "2025-03-25T03:54:33.975645",
     "exception": false,
     "start_time": "2025-03-25T03:54:27.940702",
     "status": "completed"
    },
    "tags": []
   },
   "outputs": [
    {
     "name": "stdout",
     "output_type": "stream",
     "text": [
      "Found 2907 files belonging to 4 classes.\n",
      "Using 2326 files for training.\n",
      "Found 2907 files belonging to 4 classes.\n",
      "Using 581 files for validation.\n",
      "Found 729 files belonging to 4 classes.\n"
     ]
    }
   ],
   "source": [
    "# Load datasets\n",
    "\n",
    "dataset_name = 'ccc-bert-250323-80-arg'\n",
    "\n",
    "autotune = tf.data.AUTOTUNE\n",
    "batch_size = 32\n",
    "seed = 42\n",
    "\n",
    "ds_dir = os.path.join('/kaggle/input', dataset_name)\n",
    "\n",
    "raw_train_ds = tf.keras.utils.text_dataset_from_directory(\n",
    "    os.path.join(ds_dir, 'train'),\n",
    "    batch_size=batch_size,\n",
    "    validation_split=0.2,\n",
    "    subset='training',\n",
    "    seed=seed)\n",
    "\n",
    "def oneHotLabels(x, y): return x, tf.one_hot(y, depth=len(raw_train_ds.class_names))\n",
    "\n",
    "train_ds = raw_train_ds.map(oneHotLabels).cache().prefetch(buffer_size=autotune)\n",
    "\n",
    "raw_val_ds = tf.keras.utils.text_dataset_from_directory(\n",
    "    os.path.join(ds_dir, 'train'),\n",
    "    batch_size=batch_size,\n",
    "    validation_split=0.2,\n",
    "    subset='validation',\n",
    "    seed=seed)\n",
    "\n",
    "val_ds = raw_val_ds.map(oneHotLabels).cache().prefetch(buffer_size=autotune)\n",
    "\n",
    "raw_test_ds = tf.keras.utils.text_dataset_from_directory(\n",
    "    os.path.join(ds_dir, 'test'),\n",
    "    batch_size=batch_size)\n",
    "\n",
    "test_ds = raw_test_ds.map(oneHotLabels).cache().prefetch(buffer_size=autotune)"
   ]
  },
  {
   "cell_type": "code",
   "execution_count": 4,
   "id": "26fb5c70",
   "metadata": {
    "execution": {
     "iopub.execute_input": "2025-03-25T03:54:33.988208Z",
     "iopub.status.busy": "2025-03-25T03:54:33.987918Z",
     "iopub.status.idle": "2025-03-25T03:54:33.995192Z",
     "shell.execute_reply": "2025-03-25T03:54:33.994364Z"
    },
    "papermill": {
     "duration": 0.014955,
     "end_time": "2025-03-25T03:54:33.996731",
     "exception": false,
     "start_time": "2025-03-25T03:54:33.981776",
     "status": "completed"
    },
    "tags": []
   },
   "outputs": [],
   "source": [
    "# Build BERT neural net\n",
    "\n",
    "epochs = 40\n",
    "\n",
    "def build_model(hp):\n",
    "    tfhub_handle_encoder = 'https://tfhub.dev/google/experts/bert/pubmed/2'\n",
    "    tfhub_handle_preprocess = 'https://tfhub.dev/tensorflow/bert_en_uncased_preprocess/3'\n",
    "    \n",
    "    # Hyperparameter tuning\n",
    "    dropout_rate = hp.Float('dropout_rate', min_value=0.1, max_value=0.5, step=0.1)\n",
    "    l2_rate = hp.Float('l2_rate', min_value=0.0001, max_value=0.01, step=5, sampling='log')\n",
    "    learning_rate = hp.Float('learning_rate', min_value=1e-5, max_value=1e-4, step=5, sampling='log')\n",
    "    \n",
    "    text_input = tf.keras.layers.Input(shape=(), dtype=tf.string, name='text')\n",
    "    preprocessing_layer = hub.KerasLayer(tfhub_handle_preprocess, name='preprocessing')\n",
    "    encoder_inputs = preprocessing_layer(text_input)\n",
    "    encoder = hub.KerasLayer(tfhub_handle_encoder, trainable=True, name='BERT_encoder')\n",
    "    outputs = encoder(encoder_inputs)\n",
    "    net = outputs['pooled_output']\n",
    "    net = tf.keras.layers.Dropout(dropout_rate)(net)\n",
    "    net = tf.keras.layers.Dense(4, activation='softmax',\n",
    "                                kernel_regularizer=tf.keras.regularizers.l2(l2_rate),\n",
    "                                name='classifier')(net)\n",
    "    \n",
    "    loss = tf.keras.losses.CategoricalCrossentropy()\n",
    "    metrics = tf.metrics.CategoricalAccuracy()\n",
    "    \n",
    "    steps_per_epoch = tf.data.experimental.cardinality(train_ds).numpy()\n",
    "    num_train_steps = steps_per_epoch * epochs\n",
    "    num_warmup_steps = int(0.1*num_train_steps)\n",
    "    \n",
    "    optimizer = optimization.create_optimizer(\n",
    "        init_lr=learning_rate,\n",
    "        num_train_steps=num_train_steps,\n",
    "        num_warmup_steps=num_warmup_steps,\n",
    "        optimizer_type='adamw')\n",
    "    \n",
    "    model = tf.keras.Model(text_input, net)\n",
    "    model.compile(optimizer=optimizer, loss=loss, metrics=metrics)\n",
    "\n",
    "    return model"
   ]
  },
  {
   "cell_type": "code",
   "execution_count": 5,
   "id": "9b9d3324",
   "metadata": {
    "execution": {
     "iopub.execute_input": "2025-03-25T03:54:34.008449Z",
     "iopub.status.busy": "2025-03-25T03:54:34.008210Z",
     "iopub.status.idle": "2025-03-25T04:29:25.376404Z",
     "shell.execute_reply": "2025-03-25T04:29:25.375579Z"
    },
    "papermill": {
     "duration": 2091.376197,
     "end_time": "2025-03-25T04:29:25.378502",
     "exception": false,
     "start_time": "2025-03-25T03:54:34.002305",
     "status": "completed"
    },
    "tags": []
   },
   "outputs": [
    {
     "name": "stdout",
     "output_type": "stream",
     "text": [
      "Trial 30 Complete [00h 01m 09s]\n",
      "val_categorical_accuracy: 0.36488813161849976\n",
      "\n",
      "Best val_categorical_accuracy So Far: 0.7074010372161865\n",
      "Total elapsed time: 00h 34m 31s\n",
      "\n",
      "    Best hyperparameters found:\n",
      "    - Dropout rate: 0.2\n",
      "    - L2 regularization: 0.0025\n",
      "    - Learning rate: 5e-05\n",
      "    \n"
     ]
    }
   ],
   "source": [
    "# Define the tuner\n",
    "tuner = kt.Hyperband(\n",
    "    build_model,\n",
    "    objective='val_categorical_accuracy',\n",
    "    max_epochs=10,\n",
    "    factor=3,\n",
    "    directory='/kaggle/tmp',\n",
    "    project_name='ccc_bert_hyperparameter_tuning_adamw'\n",
    ")\n",
    "\n",
    "class DiskUsageCallback(tf.keras.callbacks.Callback):\n",
    "    def __init__(self, threshold):\n",
    "        super(DiskUsageCallback, self).__init__()\n",
    "        self.threshold = threshold\n",
    "\n",
    "    def on_epoch_end(self, epoch, logs=None):\n",
    "        total, used, free = shutil.disk_usage(\"/kaggle/tmp\")\n",
    "        if used > self.threshold:\n",
    "            print(f\"Disk usage exceeded threshold: {used} bytes used\")\n",
    "            self.model.stop_training = True\n",
    "\n",
    "# Define the threshold for disk usage (in bytes)\n",
    "disk_usage_threshold = 50 * 1024 * 1024 * 1024  # 50 GB\n",
    "\n",
    "# Create the custom callback\n",
    "disk_usage_cb = DiskUsageCallback(threshold=disk_usage_threshold)\n",
    "\n",
    "# Load your training and validation data\n",
    "# Assuming `train_data` and `val_data` are your preprocessed datasets\n",
    "tuner.search(\n",
    "    train_ds,\n",
    "    validation_data=val_ds,\n",
    "    epochs=10,\n",
    "    callbacks=[tf.keras.callbacks.EarlyStopping(patience=2), disk_usage_cb])\n",
    "\n",
    "# Get the best hyperparameters\n",
    "best_hps = tuner.get_best_hyperparameters(num_trials=1)[0]\n",
    "\n",
    "print(f\"\"\"\n",
    "    Best hyperparameters found:\n",
    "    - Dropout rate: {best_hps.get('dropout_rate')}\n",
    "    - L2 regularization: {best_hps.get('l2_rate')}\n",
    "    - Learning rate: {best_hps.get('learning_rate')}\n",
    "    \"\"\")  "
   ]
  },
  {
   "cell_type": "code",
   "execution_count": 6,
   "id": "ce487b3c",
   "metadata": {
    "execution": {
     "iopub.execute_input": "2025-03-25T04:29:25.386200Z",
     "iopub.status.busy": "2025-03-25T04:29:25.385943Z",
     "iopub.status.idle": "2025-03-25T04:29:25.389112Z",
     "shell.execute_reply": "2025-03-25T04:29:25.388485Z"
    },
    "papermill": {
     "duration": 0.008079,
     "end_time": "2025-03-25T04:29:25.390221",
     "exception": false,
     "start_time": "2025-03-25T04:29:25.382142",
     "status": "completed"
    },
    "tags": []
   },
   "outputs": [],
   "source": [
    "# def define_model(dropout_rate, l2_rate, learning_rate):\n",
    "#     tfhub_handle_encoder = 'https://tfhub.dev/google/experts/bert/pubmed/2'\n",
    "#     tfhub_handle_preprocess = 'https://tfhub.dev/tensorflow/bert_en_uncased_preprocess/3'\n",
    "\n",
    "#     text_input = tf.keras.layers.Input(shape=(), dtype=tf.string, name='text')\n",
    "#     preprocessing_layer = hub.KerasLayer(tfhub_handle_preprocess, name='preprocessing')\n",
    "#     encoder_inputs = preprocessing_layer(text_input)\n",
    "#     encoder = hub.KerasLayer(tfhub_handle_encoder, trainable=True, name='BERT_encoder')\n",
    "#     outputs = encoder(encoder_inputs)\n",
    "#     net = outputs['pooled_output']\n",
    "#     net = tf.keras.layers.Dropout(dropout_rate)(net)\n",
    "#     net = tf.keras.layers.Dense(4, activation='softmax',\n",
    "#                                 kernel_regularizer=tf.keras.regularizers.l2(l2_rate),\n",
    "#                                 name='classifier')(net)\n",
    "\n",
    "#     loss = tf.keras.losses.CategoricalCrossentropy()\n",
    "#     metrics = tf.metrics.CategoricalAccuracy()\n",
    "\n",
    "#     steps_per_epoch = tf.data.experimental.cardinality(train_ds).numpy()\n",
    "#     num_train_steps = steps_per_epoch * 20\n",
    "#     num_warmup_steps = int(0.1*num_train_steps)\n",
    "\n",
    "#     optimizer = optimization.create_optimizer(\n",
    "#         init_lr=learning_rate,\n",
    "#         num_train_steps=num_train_steps,\n",
    "#         num_warmup_steps=num_warmup_steps,\n",
    "#         optimizer_type='adamw')\n",
    "    \n",
    "#     model = tf.keras.Model(text_input, net)\n",
    "#     model.compile(optimizer=optimizer, loss=loss, metrics=metrics)\n",
    "    \n",
    "#     return model"
   ]
  },
  {
   "cell_type": "code",
   "execution_count": 7,
   "id": "35b47de6",
   "metadata": {
    "execution": {
     "iopub.execute_input": "2025-03-25T04:29:25.397078Z",
     "iopub.status.busy": "2025-03-25T04:29:25.396874Z",
     "iopub.status.idle": "2025-03-25T04:29:25.399778Z",
     "shell.execute_reply": "2025-03-25T04:29:25.399164Z"
    },
    "papermill": {
     "duration": 0.007499,
     "end_time": "2025-03-25T04:29:25.400865",
     "exception": false,
     "start_time": "2025-03-25T04:29:25.393366",
     "status": "completed"
    },
    "tags": []
   },
   "outputs": [],
   "source": [
    "# # Tune dropout rate\n",
    "\n",
    "# def build_model_dropout(hp):\n",
    "#     dropout_rate = hp.Float('dropout_rate', min_value=0.1, max_value=0.5, step=0.1)\n",
    "#     l2_rate = 0.005\n",
    "#     learning_rate = 3e-5\n",
    "#     return define_model(dropout_rate, l2_rate, learning_rate)\n",
    "\n",
    "# tuner_dropout = kt.Hyperband(\n",
    "#     build_model_dropout,\n",
    "#     objective='val_categorical_accuracy',\n",
    "#     max_epochs=10,\n",
    "#     factor=3,\n",
    "#     directory='/kaggle/tmp',\n",
    "#     project_name='ccc_bert_hyperparameter_tuning'\n",
    "# )\n",
    "\n",
    "# tuner_dropout.search(\n",
    "#     train_ds,\n",
    "#     validation_data=val_ds,\n",
    "#     epochs=10,\n",
    "#     callbacks=[tf.keras.callbacks.EarlyStopping(patience=3)])\n",
    "\n",
    "# best_dropout = tuner_dropout.get_best_hyperparameters(num_trials=1)[0].get('dropout_rate')\n",
    "# print(f'Best dropout rate: {best_dropout}')\n",
    "\n",
    "# shutil.rmtree('/kaggle/tmp')"
   ]
  },
  {
   "cell_type": "code",
   "execution_count": 8,
   "id": "2413d64b",
   "metadata": {
    "execution": {
     "iopub.execute_input": "2025-03-25T04:29:25.407572Z",
     "iopub.status.busy": "2025-03-25T04:29:25.407377Z",
     "iopub.status.idle": "2025-03-25T04:29:25.410210Z",
     "shell.execute_reply": "2025-03-25T04:29:25.409613Z"
    },
    "papermill": {
     "duration": 0.007398,
     "end_time": "2025-03-25T04:29:25.411334",
     "exception": false,
     "start_time": "2025-03-25T04:29:25.403936",
     "status": "completed"
    },
    "tags": []
   },
   "outputs": [],
   "source": [
    "# # Tune l2 rate\n",
    "\n",
    "# def build_model_l2(hp):\n",
    "#     dropout_rate = best_dropout\n",
    "#     l2_rate = hp.Float('l2_rate', min_value=0.0001, max_value=0.01, step=10, sampling='log')\n",
    "#     learning_rate = 3e-5\n",
    "#     return define_model(dropout_rate, l2_rate, learning_rate)\n",
    "\n",
    "# tuner_l2 = kt.Hyperband(\n",
    "#     build_model_l2,\n",
    "#     objective='val_categorical_accuracy',\n",
    "#     max_epochs=10,\n",
    "#     factor=3,\n",
    "#     directory='/kaggle/tmp',\n",
    "#     project_name='ccc_bert_hyperparameter_tuning'\n",
    "# )\n",
    "\n",
    "# tuner_l2.search(\n",
    "#     train_ds,\n",
    "#     validation_data=val_ds,\n",
    "#     epochs=10,\n",
    "#     callbacks=[tf.keras.callbacks.EarlyStopping(patience=3)])\n",
    "\n",
    "# best_l2 = tuner_l2.get_best_hyperparameters(num_trials=1)[0].get('l2_rate')\n",
    "# print(f'Best l2 rate: {best_l2}')\n",
    "\n",
    "# shutil.rmtree('/kaggle/tmp')"
   ]
  },
  {
   "cell_type": "code",
   "execution_count": 9,
   "id": "e38d9c0c",
   "metadata": {
    "execution": {
     "iopub.execute_input": "2025-03-25T04:29:25.418182Z",
     "iopub.status.busy": "2025-03-25T04:29:25.417963Z",
     "iopub.status.idle": "2025-03-25T04:29:25.420909Z",
     "shell.execute_reply": "2025-03-25T04:29:25.420315Z"
    },
    "papermill": {
     "duration": 0.007436,
     "end_time": "2025-03-25T04:29:25.421964",
     "exception": false,
     "start_time": "2025-03-25T04:29:25.414528",
     "status": "completed"
    },
    "tags": []
   },
   "outputs": [],
   "source": [
    "# # Tune learning rate\n",
    "\n",
    "# def build_model_lr(hp):\n",
    "#     dropout_rate = best_dropout\n",
    "#     l2_rate = best_l2\n",
    "#     learning_rate = hp.Choice('learning_rate', [1e-5, 2e-5, 3e-5, 5e-5])\n",
    "#     return define_model(dropout_rate, l2_rate, learning_rate)\n",
    "\n",
    "# tuner_lr = kt.Hyperband(\n",
    "#     build_model_lr,\n",
    "#     objective='val_categorical_accuracy',\n",
    "#     max_epochs=10,\n",
    "#     factor=3,\n",
    "#     directory='/kaggle/tmp',\n",
    "#     project_name='ccc_bert_hyperparameter_tuning'\n",
    "# )\n",
    "\n",
    "# tuner_lr.search(\n",
    "#     train_ds,\n",
    "#     validation_data=val_ds,\n",
    "#     epochs=10,\n",
    "#     callbacks=[tf.keras.callbacks.EarlyStopping(patience=3)])\n",
    "\n",
    "# best_lr = tuner_lr.get_best_hyperparameters(num_trials=1)[0].get('learning_rate')\n",
    "# print(f'Best learning rate: {best_lr}')\n",
    "\n",
    "# shutil.rmtree('/kaggle/tmp')"
   ]
  },
  {
   "cell_type": "code",
   "execution_count": 10,
   "id": "a28eaa40",
   "metadata": {
    "execution": {
     "iopub.execute_input": "2025-03-25T04:29:25.428684Z",
     "iopub.status.busy": "2025-03-25T04:29:25.428462Z",
     "iopub.status.idle": "2025-03-25T04:29:25.431259Z",
     "shell.execute_reply": "2025-03-25T04:29:25.430611Z"
    },
    "papermill": {
     "duration": 0.007373,
     "end_time": "2025-03-25T04:29:25.432365",
     "exception": false,
     "start_time": "2025-03-25T04:29:25.424992",
     "status": "completed"
    },
    "tags": []
   },
   "outputs": [],
   "source": [
    "# print(f\"\"\"\n",
    "#     Best hyperparameters found:\n",
    "#     - Dropout rate: {best_dropout}\n",
    "#     - L2 regularization: {best_l2}\n",
    "#     - Learning rate: {best_lr}\n",
    "#     \"\"\")"
   ]
  },
  {
   "cell_type": "code",
   "execution_count": 11,
   "id": "cb8fefad",
   "metadata": {
    "execution": {
     "iopub.execute_input": "2025-03-25T04:29:25.439340Z",
     "iopub.status.busy": "2025-03-25T04:29:25.439112Z",
     "iopub.status.idle": "2025-03-25T04:36:50.447684Z",
     "shell.execute_reply": "2025-03-25T04:36:50.446948Z"
    },
    "papermill": {
     "duration": 445.013357,
     "end_time": "2025-03-25T04:36:50.448871",
     "exception": false,
     "start_time": "2025-03-25T04:29:25.435514",
     "status": "completed"
    },
    "tags": []
   },
   "outputs": [
    {
     "name": "stdout",
     "output_type": "stream",
     "text": [
      "Epoch 1/40\n",
      "73/73 [==============================] - 57s 594ms/step - loss: 1.5248 - categorical_accuracy: 0.2799 - val_loss: 1.1792 - val_categorical_accuracy: 0.4699\n",
      "Epoch 2/40\n",
      "73/73 [==============================] - 42s 579ms/step - loss: 1.1082 - categorical_accuracy: 0.5112 - val_loss: 0.9114 - val_categorical_accuracy: 0.6041\n",
      "Epoch 3/40\n",
      "73/73 [==============================] - 42s 579ms/step - loss: 0.8309 - categorical_accuracy: 0.6466 - val_loss: 0.7476 - val_categorical_accuracy: 0.7074\n",
      "Epoch 4/40\n",
      "73/73 [==============================] - 42s 578ms/step - loss: 0.5844 - categorical_accuracy: 0.7627 - val_loss: 0.6980 - val_categorical_accuracy: 0.7453\n",
      "Epoch 5/40\n",
      "73/73 [==============================] - 42s 579ms/step - loss: 0.3522 - categorical_accuracy: 0.8594 - val_loss: 0.7538 - val_categorical_accuracy: 0.7659\n",
      "Epoch 6/40\n",
      "73/73 [==============================] - 42s 579ms/step - loss: 0.2165 - categorical_accuracy: 0.9252 - val_loss: 0.7599 - val_categorical_accuracy: 0.8003\n",
      "Epoch 7/40\n",
      "73/73 [==============================] - 42s 579ms/step - loss: 0.2051 - categorical_accuracy: 0.9372 - val_loss: 0.6173 - val_categorical_accuracy: 0.8468\n",
      "Epoch 8/40\n",
      "73/73 [==============================] - 42s 576ms/step - loss: 0.1844 - categorical_accuracy: 0.9424 - val_loss: 0.7348 - val_categorical_accuracy: 0.8348\n",
      "Epoch 9/40\n",
      "73/73 [==============================] - 42s 575ms/step - loss: 0.1146 - categorical_accuracy: 0.9695 - val_loss: 0.8494 - val_categorical_accuracy: 0.8468\n",
      "Epoch 10/40\n",
      "73/73 [==============================] - ETA: 0s - loss: 0.0679 - categorical_accuracy: 0.9837Restoring model weights from the end of the best epoch: 7.\n",
      "73/73 [==============================] - 42s 579ms/step - loss: 0.0679 - categorical_accuracy: 0.9837 - val_loss: 0.9163 - val_categorical_accuracy: 0.8451\n",
      "Epoch 10: early stopping\n"
     ]
    }
   ],
   "source": [
    "# best_model = define_model(best_dropout, best_l2, best_lr)\n",
    "best_model = tuner.hypermodel.build(best_hps)\n",
    "\n",
    "early_stopping = EarlyStopping(\n",
    "    monitor='val_categorical_accuracy', \n",
    "    patience=3, # Number of epochs with no improvement before stopping\n",
    "    mode='max',  # We want to maximize accuracy\n",
    "    verbose=1,\n",
    "    restore_best_weights=True, # Restore the best weights once training stops\n",
    "    min_delta=0.001)  # Minimum change to qualify as an improvement\n",
    "\n",
    "training_history = best_model.fit(\n",
    "    x=train_ds,\n",
    "    validation_data=val_ds,\n",
    "    epochs=epochs,\n",
    "    callbacks=[early_stopping])"
   ]
  },
  {
   "cell_type": "code",
   "execution_count": 12,
   "id": "f65bef38",
   "metadata": {
    "execution": {
     "iopub.execute_input": "2025-03-25T04:36:50.520698Z",
     "iopub.status.busy": "2025-03-25T04:36:50.520446Z",
     "iopub.status.idle": "2025-03-25T04:36:55.549495Z",
     "shell.execute_reply": "2025-03-25T04:36:55.548631Z"
    },
    "papermill": {
     "duration": 5.065869,
     "end_time": "2025-03-25T04:36:55.550784",
     "exception": false,
     "start_time": "2025-03-25T04:36:50.484915",
     "status": "completed"
    },
    "tags": []
   },
   "outputs": [
    {
     "name": "stdout",
     "output_type": "stream",
     "text": [
      "23/23 [==============================] - 5s 194ms/step - loss: 0.7077 - categorical_accuracy: 0.8395\n",
      "Loss: 0.7076854705810547\n",
      "Accuracy: 0.8395061492919922\n"
     ]
    }
   ],
   "source": [
    "loss, accuracy = best_model.evaluate(test_ds)\n",
    "\n",
    "print(f'Loss: {loss}')\n",
    "print(f'Accuracy: {accuracy}')"
   ]
  },
  {
   "cell_type": "code",
   "execution_count": 13,
   "id": "a67eed6a",
   "metadata": {
    "execution": {
     "iopub.execute_input": "2025-03-25T04:36:55.673471Z",
     "iopub.status.busy": "2025-03-25T04:36:55.673185Z",
     "iopub.status.idle": "2025-03-25T04:36:56.986366Z",
     "shell.execute_reply": "2025-03-25T04:36:56.985453Z"
    },
    "papermill": {
     "duration": 1.352937,
     "end_time": "2025-03-25T04:36:56.987874",
     "exception": false,
     "start_time": "2025-03-25T04:36:55.634937",
     "status": "completed"
    },
    "tags": []
   },
   "outputs": [
    {
     "data": {
      "image/png": "[encoded data removed]",
      "text/plain": [
       "<Figure size 1000x800 with 2 Axes>"
      ]
     },
     "metadata": {},
     "output_type": "display_data"
    }
   ],
   "source": [
    "history_dict = training_history.history\n",
    "\n",
    "acc = history_dict['categorical_accuracy']\n",
    "val_acc = history_dict['val_categorical_accuracy']\n",
    "loss = history_dict['loss']\n",
    "val_loss = history_dict['val_loss']\n",
    "\n",
    "epochs = range(1, len(acc) + 1)\n",
    "fig = plt.figure(figsize=(10, 8))\n",
    "fig.tight_layout()\n",
    "\n",
    "plt.subplot(2, 1, 1)\n",
    "# r is for \"solid red line\"\n",
    "plt.plot(epochs, loss, 'r', label='Training loss')\n",
    "# b is for \"solid blue line\"\n",
    "plt.plot(epochs, val_loss, 'b', label='Validation loss')\n",
    "plt.title(f'Training and validation loss ({dataset_name})')\n",
    "# plt.xlabel('Epochs')\n",
    "plt.ylabel('Loss')\n",
    "plt.legend()\n",
    "\n",
    "# Add value labels for loss\n",
    "for x, y in zip(epochs, loss):\n",
    "    plt.text(x, y, f\"{y:.2f}\", color='red', ha='center', va='bottom')\n",
    "for x, y in zip(epochs, val_loss):\n",
    "    plt.text(x, y, f\"{y:.2f}\", color='blue', ha='center', va='bottom')\n",
    "\n",
    "plt.subplot(2, 1, 2)\n",
    "plt.plot(epochs, acc, 'r', label='Training acc')\n",
    "plt.plot(epochs, val_acc, 'b', label='Validation acc')\n",
    "plt.title(f'Training and validation accuracy ({dataset_name})')\n",
    "plt.xlabel('Epochs')\n",
    "plt.ylabel('Accuracy')\n",
    "plt.legend(loc='lower right')\n",
    "\n",
    "# Add value labels for accuracy\n",
    "for x, y in zip(epochs, acc):\n",
    "    plt.text(x, y, f\"{y:.2f}\", color='red', ha='center', va='bottom')\n",
    "for x, y in zip(epochs, val_acc):\n",
    "    plt.text(x, y, f\"{y:.2f}\", color='blue', ha='center', va='bottom')\n",
    "\n",
    "figname = f\"{dataset_name}-{datetime.now().strftime('%y%m%d-%H%M%S')}.png\"\n",
    "plt.savefig(f\"/kaggle/working/{figname}\", dpi=300, bbox_inches='tight')\n",
    "plt.show()"
   ]
  },
  {
   "cell_type": "code",
   "execution_count": 14,
   "id": "6ca7f82b",
   "metadata": {
    "execution": {
     "iopub.execute_input": "2025-03-25T04:36:57.067889Z",
     "iopub.status.busy": "2025-03-25T04:36:57.067579Z",
     "iopub.status.idle": "2025-03-25T04:37:06.308305Z",
     "shell.execute_reply": "2025-03-25T04:37:06.307605Z"
    },
    "papermill": {
     "duration": 9.281388,
     "end_time": "2025-03-25T04:37:06.309973",
     "exception": false,
     "start_time": "2025-03-25T04:36:57.028585",
     "status": "completed"
    },
    "tags": []
   },
   "outputs": [],
   "source": [
    "# Export model for inference\n",
    "if accuracy > 0.8:\n",
    "    saved_model_path = '/kaggle/output/{}_model'.format(dataset_name.replace('/', '_'))\n",
    "    best_model.save(saved_model_path, include_optimizer=False)"
   ]
  }
 ],
 "metadata": {
  "kaggle": {
   "accelerator": "gpu",
   "dataSources": [
    {
     "datasetId": 6904966,
     "sourceId": 11078677,
     "sourceType": "datasetVersion"
    },
    {
     "datasetId": 6945405,
     "sourceId": 11135644,
     "sourceType": "datasetVersion"
    },
    {
     "datasetId": 6945412,
     "sourceId": 11135653,
     "sourceType": "datasetVersion"
    },
    {
     "datasetId": 6950451,
     "sourceId": 11142261,
     "sourceType": "datasetVersion"
    }
   ],
   "dockerImageVersionId": 30918,
   "isGpuEnabled": true,
   "isInternetEnabled": true,
   "language": "python",
   "sourceType": "notebook"
  },
  "kernelspec": {
   "display_name": "Python 3",
   "language": "python",
   "name": "python3"
  },
  "language_info": {
   "codemirror_mode": {
    "name": "ipython",
    "version": 3
   },
   "file_extension": ".py",
   "mimetype": "text/x-python",
   "name": "python",
   "nbconvert_exporter": "python",
   "pygments_lexer": "ipython3",
   "version": "3.10.12"
  },
  "papermill": {
   "default_parameters": {},
   "duration": 2653.856496,
   "end_time": "2025-03-25T04:37:09.840915",
   "environment_variables": {},
   "exception": null,
   "input_path": "__notebook__.ipynb",
   "output_path": "__notebook__.ipynb",
   "parameters": {},
   "start_time": "2025-03-25T03:52:55.984419",
   "version": "2.6.0"
  }
 },
 "nbformat": 4,
 "nbformat_minor": 5
}
