{
 "cells": [
  {
   "cell_type": "code",
   "execution_count": 1,
   "id": "b2e7ce32",
   "metadata": {
    "execution": {
     "iopub.execute_input": "2025-03-25T19:43:08.560841Z",
     "iopub.status.busy": "2025-03-25T19:43:08.560556Z",
     "iopub.status.idle": "2025-03-25T19:44:33.359907Z",
     "shell.execute_reply": "2025-03-25T19:44:33.358841Z"
    },
    "papermill": {
     "duration": 84.805568,
     "end_time": "2025-03-25T19:44:33.361666",
     "exception": false,
     "start_time": "2025-03-25T19:43:08.556098",
     "status": "completed"
    },
    "tags": []
   },
   "outputs": [],
   "source": [
    "%%capture\n",
    "\n",
    "%pip install \"tensorflow==2.15.*\"\n",
    "%pip install \"tensorflow-text==2.15.*\"\n",
    "%pip install \"tf-models-official==2.15.*\"\n",
    "%pip install \"tf-keras==2.15.*\"\n",
    "%pip install keras-tuner"
   ]
  },
  {
   "cell_type": "code",
   "execution_count": 2,
   "id": "68e52e80",
   "metadata": {
    "execution": {
     "iopub.execute_input": "2025-03-25T19:44:33.369204Z",
     "iopub.status.busy": "2025-03-25T19:44:33.368970Z",
     "iopub.status.idle": "2025-03-25T19:44:40.631316Z",
     "shell.execute_reply": "2025-03-25T19:44:40.630623Z"
    },
    "papermill": {
     "duration": 7.267631,
     "end_time": "2025-03-25T19:44:40.633007",
     "exception": false,
     "start_time": "2025-03-25T19:44:33.365376",
     "status": "completed"
    },
    "tags": []
   },
   "outputs": [],
   "source": [
    "import os\n",
    "import shutil\n",
    "\n",
    "import tensorflow as tf\n",
    "import tensorflow_hub as hub\n",
    "import tensorflow_text as text\n",
    "from official.nlp import optimization  # to create AdamW optimizer\n",
    "from tensorflow.keras.callbacks import EarlyStopping\n",
    "import keras_tuner as kt\n",
    "\n",
    "from datetime import datetime\n",
    "import matplotlib.pyplot as plt"
   ]
  },
  {
   "cell_type": "code",
   "execution_count": 3,
   "id": "51ef3eaa",
   "metadata": {
    "_cell_guid": "b1076dfc-b9ad-4769-8c92-a6c4dae69d19",
    "_uuid": "8f2839f25d086af736a60e9eeb907d3b93b6e0e5",
    "execution": {
     "iopub.execute_input": "2025-03-25T19:44:40.640049Z",
     "iopub.status.busy": "2025-03-25T19:44:40.639605Z",
     "iopub.status.idle": "2025-03-25T19:44:43.965440Z",
     "shell.execute_reply": "2025-03-25T19:44:43.964800Z"
    },
    "papermill": {
     "duration": 3.330703,
     "end_time": "2025-03-25T19:44:43.966888",
     "exception": false,
     "start_time": "2025-03-25T19:44:40.636185",
     "status": "completed"
    },
    "tags": []
   },
   "outputs": [
    {
     "name": "stdout",
     "output_type": "stream",
     "text": [
      "Found 2076 files belonging to 4 classes.\n",
      "Found 256 files belonging to 4 classes.\n",
      "Found 256 files belonging to 4 classes.\n"
     ]
    }
   ],
   "source": [
    "# Load datasets\n",
    "\n",
    "dataset_name = 'ccc-bert-250325-80-aug-2-1'\n",
    "\n",
    "autotune = tf.data.AUTOTUNE\n",
    "batch_size = 32\n",
    "seed = 42\n",
    "\n",
    "ds_dir = os.path.join('/kaggle/input', dataset_name)\n",
    "\n",
    "raw_train_ds = tf.keras.utils.text_dataset_from_directory(\n",
    "    os.path.join(ds_dir, 'train'),\n",
    "    batch_size=batch_size)\n",
    "\n",
    "def oneHotLabels(x, y): return x, tf.one_hot(y, depth=len(raw_train_ds.class_names))\n",
    "\n",
    "train_ds = raw_train_ds.map(oneHotLabels).cache().prefetch(buffer_size=autotune)\n",
    "\n",
    "raw_val_ds = tf.keras.utils.text_dataset_from_directory(\n",
    "    os.path.join(ds_dir, 'validate'),\n",
    "    batch_size=batch_size)\n",
    "\n",
    "val_ds = raw_val_ds.map(oneHotLabels).cache().prefetch(buffer_size=autotune)\n",
    "\n",
    "raw_test_ds = tf.keras.utils.text_dataset_from_directory(\n",
    "    os.path.join(ds_dir, 'test'),\n",
    "    batch_size=batch_size)\n",
    "\n",
    "test_ds = raw_test_ds.map(oneHotLabels).cache().prefetch(buffer_size=autotune)"
   ]
  },
  {
   "cell_type": "code",
   "execution_count": 4,
   "id": "60306082",
   "metadata": {
    "execution": {
     "iopub.execute_input": "2025-03-25T19:44:43.974316Z",
     "iopub.status.busy": "2025-03-25T19:44:43.974083Z",
     "iopub.status.idle": "2025-03-25T19:44:43.981342Z",
     "shell.execute_reply": "2025-03-25T19:44:43.980757Z"
    },
    "papermill": {
     "duration": 0.012169,
     "end_time": "2025-03-25T19:44:43.982506",
     "exception": false,
     "start_time": "2025-03-25T19:44:43.970337",
     "status": "completed"
    },
    "tags": []
   },
   "outputs": [],
   "source": [
    "# Build BERT neural net\n",
    "\n",
    "epochs = 40\n",
    "\n",
    "def build_model(hp):\n",
    "    tfhub_handle_encoder = 'https://tfhub.dev/google/experts/bert/pubmed/2'\n",
    "    tfhub_handle_preprocess = 'https://tfhub.dev/tensorflow/bert_en_uncased_preprocess/3'\n",
    "    \n",
    "    # Hyperparameter tuning\n",
    "    dropout_rate = hp.Float('dropout_rate', min_value=0.1, max_value=0.5, step=0.1)\n",
    "    l2_rate = hp.Float('l2_rate', min_value=0.0001, max_value=0.01, step=5, sampling='log')\n",
    "    learning_rate = hp.Float('learning_rate', min_value=1e-5, max_value=1e-4, step=5, sampling='log')\n",
    "    \n",
    "    text_input = tf.keras.layers.Input(shape=(), dtype=tf.string, name='text')\n",
    "    preprocessing_layer = hub.KerasLayer(tfhub_handle_preprocess, name='preprocessing')\n",
    "    encoder_inputs = preprocessing_layer(text_input)\n",
    "    encoder = hub.KerasLayer(tfhub_handle_encoder, trainable=True, name='BERT_encoder')\n",
    "    outputs = encoder(encoder_inputs)\n",
    "    net = outputs['pooled_output']\n",
    "    net = tf.keras.layers.Dropout(dropout_rate)(net)\n",
    "    net = tf.keras.layers.Dense(4, activation='softmax',\n",
    "                                kernel_regularizer=tf.keras.regularizers.l2(l2_rate),\n",
    "                                name='classifier')(net)\n",
    "    \n",
    "    loss = tf.keras.losses.CategoricalCrossentropy()\n",
    "    metrics = tf.metrics.CategoricalAccuracy()\n",
    "    \n",
    "    steps_per_epoch = tf.data.experimental.cardinality(train_ds).numpy()\n",
    "    num_train_steps = steps_per_epoch * epochs\n",
    "    num_warmup_steps = int(0.1*num_train_steps)\n",
    "    \n",
    "    optimizer = optimization.create_optimizer(\n",
    "        init_lr=learning_rate,\n",
    "        num_train_steps=num_train_steps,\n",
    "        num_warmup_steps=num_warmup_steps,\n",
    "        optimizer_type='adamw')\n",
    "    \n",
    "    model = tf.keras.Model(text_input, net)\n",
    "    model.compile(optimizer=optimizer, loss=loss, metrics=metrics)\n",
    "\n",
    "    return model"
   ]
  },
  {
   "cell_type": "code",
   "execution_count": 5,
   "id": "7a4f442f",
   "metadata": {
    "execution": {
     "iopub.execute_input": "2025-03-25T19:44:43.989190Z",
     "iopub.status.busy": "2025-03-25T19:44:43.988978Z",
     "iopub.status.idle": "2025-03-25T20:16:18.738090Z",
     "shell.execute_reply": "2025-03-25T20:16:18.737275Z"
    },
    "papermill": {
     "duration": 1894.75392,
     "end_time": "2025-03-25T20:16:18.739425",
     "exception": false,
     "start_time": "2025-03-25T19:44:43.985505",
     "status": "completed"
    },
    "tags": []
   },
   "outputs": [
    {
     "name": "stdout",
     "output_type": "stream",
     "text": [
      "Trial 30 Complete [00h 01m 02s]\n",
      "val_categorical_accuracy: 0.40234375\n",
      "\n",
      "Best val_categorical_accuracy So Far: 0.65234375\n",
      "Total elapsed time: 00h 31m 07s\n",
      "\n",
      "    Best hyperparameters found:\n",
      "    - Dropout rate: 0.1\n",
      "    - L2 regularization: 0.0005\n",
      "    - Learning rate: 5e-05\n",
      "    \n"
     ]
    }
   ],
   "source": [
    "# Define the tuner\n",
    "tuner = kt.Hyperband(\n",
    "    build_model,\n",
    "    objective='val_categorical_accuracy',\n",
    "    max_epochs=10,\n",
    "    factor=3,\n",
    "    directory='/kaggle/tmp',\n",
    "    project_name='ccc_bert_hyperparameter_tuning_adamw'\n",
    ")\n",
    "\n",
    "class DiskUsageCallback(tf.keras.callbacks.Callback):\n",
    "    def __init__(self, threshold):\n",
    "        super(DiskUsageCallback, self).__init__()\n",
    "        self.threshold = threshold\n",
    "\n",
    "    def on_epoch_end(self, epoch, logs=None):\n",
    "        total, used, free = shutil.disk_usage(\"/kaggle/tmp\")\n",
    "        if used > self.threshold:\n",
    "            print(f\"Disk usage exceeded threshold: {used} bytes used\")\n",
    "            self.model.stop_training = True\n",
    "\n",
    "# Define the threshold for disk usage (in bytes)\n",
    "disk_usage_threshold = 50 * 1024 * 1024 * 1024  # 50 GB\n",
    "\n",
    "# Create the custom callback\n",
    "disk_usage_cb = DiskUsageCallback(threshold=disk_usage_threshold)\n",
    "\n",
    "# Load your training and validation data\n",
    "# Assuming `train_data` and `val_data` are your preprocessed datasets\n",
    "tuner.search(\n",
    "    train_ds,\n",
    "    validation_data=val_ds,\n",
    "    epochs=10,\n",
    "    callbacks=[tf.keras.callbacks.EarlyStopping(patience=2), disk_usage_cb])\n",
    "\n",
    "# Get the best hyperparameters\n",
    "best_hps = tuner.get_best_hyperparameters(num_trials=1)[0]\n",
    "\n",
    "print(f\"\"\"\n",
    "    Best hyperparameters found:\n",
    "    - Dropout rate: {best_hps.get('dropout_rate')}\n",
    "    - L2 regularization: {best_hps.get('l2_rate')}\n",
    "    - Learning rate: {best_hps.get('learning_rate')}\n",
    "    \"\"\")  "
   ]
  },
  {
   "cell_type": "code",
   "execution_count": 6,
   "id": "bdf3c4d4",
   "metadata": {
    "execution": {
     "iopub.execute_input": "2025-03-25T20:16:18.746878Z",
     "iopub.status.busy": "2025-03-25T20:16:18.746633Z",
     "iopub.status.idle": "2025-03-25T20:16:18.749790Z",
     "shell.execute_reply": "2025-03-25T20:16:18.749150Z"
    },
    "papermill": {
     "duration": 0.008134,
     "end_time": "2025-03-25T20:16:18.751044",
     "exception": false,
     "start_time": "2025-03-25T20:16:18.742910",
     "status": "completed"
    },
    "tags": []
   },
   "outputs": [],
   "source": [
    "# def define_model(dropout_rate, l2_rate, learning_rate):\n",
    "#     tfhub_handle_encoder = 'https://tfhub.dev/google/experts/bert/pubmed/2'\n",
    "#     tfhub_handle_preprocess = 'https://tfhub.dev/tensorflow/bert_en_uncased_preprocess/3'\n",
    "\n",
    "#     text_input = tf.keras.layers.Input(shape=(), dtype=tf.string, name='text')\n",
    "#     preprocessing_layer = hub.KerasLayer(tfhub_handle_preprocess, name='preprocessing')\n",
    "#     encoder_inputs = preprocessing_layer(text_input)\n",
    "#     encoder = hub.KerasLayer(tfhub_handle_encoder, trainable=True, name='BERT_encoder')\n",
    "#     outputs = encoder(encoder_inputs)\n",
    "#     net = outputs['pooled_output']\n",
    "#     net = tf.keras.layers.Dropout(dropout_rate)(net)\n",
    "#     net = tf.keras.layers.Dense(4, activation='softmax',\n",
    "#                                 kernel_regularizer=tf.keras.regularizers.l2(l2_rate),\n",
    "#                                 name='classifier')(net)\n",
    "\n",
    "#     loss = tf.keras.losses.CategoricalCrossentropy()\n",
    "#     metrics = tf.metrics.CategoricalAccuracy()\n",
    "\n",
    "#     steps_per_epoch = tf.data.experimental.cardinality(train_ds).numpy()\n",
    "#     num_train_steps = steps_per_epoch * 20\n",
    "#     num_warmup_steps = int(0.1*num_train_steps)\n",
    "\n",
    "#     optimizer = optimization.create_optimizer(\n",
    "#         init_lr=learning_rate,\n",
    "#         num_train_steps=num_train_steps,\n",
    "#         num_warmup_steps=num_warmup_steps,\n",
    "#         optimizer_type='adamw')\n",
    "    \n",
    "#     model = tf.keras.Model(text_input, net)\n",
    "#     model.compile(optimizer=optimizer, loss=loss, metrics=metrics)\n",
    "    \n",
    "#     return model"
   ]
  },
  {
   "cell_type": "code",
   "execution_count": 7,
   "id": "e4bee1a2",
   "metadata": {
    "execution": {
     "iopub.execute_input": "2025-03-25T20:16:18.757898Z",
     "iopub.status.busy": "2025-03-25T20:16:18.757675Z",
     "iopub.status.idle": "2025-03-25T20:16:18.760728Z",
     "shell.execute_reply": "2025-03-25T20:16:18.760000Z"
    },
    "papermill": {
     "duration": 0.007889,
     "end_time": "2025-03-25T20:16:18.762021",
     "exception": false,
     "start_time": "2025-03-25T20:16:18.754132",
     "status": "completed"
    },
    "tags": []
   },
   "outputs": [],
   "source": [
    "# # Tune dropout rate\n",
    "\n",
    "# def build_model_dropout(hp):\n",
    "#     dropout_rate = hp.Float('dropout_rate', min_value=0.1, max_value=0.5, step=0.1)\n",
    "#     l2_rate = 0.005\n",
    "#     learning_rate = 3e-5\n",
    "#     return define_model(dropout_rate, l2_rate, learning_rate)\n",
    "\n",
    "# tuner_dropout = kt.Hyperband(\n",
    "#     build_model_dropout,\n",
    "#     objective='val_categorical_accuracy',\n",
    "#     max_epochs=10,\n",
    "#     factor=3,\n",
    "#     directory='/kaggle/tmp',\n",
    "#     project_name='ccc_bert_hyperparameter_tuning'\n",
    "# )\n",
    "\n",
    "# tuner_dropout.search(\n",
    "#     train_ds,\n",
    "#     validation_data=val_ds,\n",
    "#     epochs=10,\n",
    "#     callbacks=[tf.keras.callbacks.EarlyStopping(patience=3)])\n",
    "\n",
    "# best_dropout = tuner_dropout.get_best_hyperparameters(num_trials=1)[0].get('dropout_rate')\n",
    "# print(f'Best dropout rate: {best_dropout}')\n",
    "\n",
    "# shutil.rmtree('/kaggle/tmp')"
   ]
  },
  {
   "cell_type": "code",
   "execution_count": 8,
   "id": "bf15f473",
   "metadata": {
    "execution": {
     "iopub.execute_input": "2025-03-25T20:16:18.768974Z",
     "iopub.status.busy": "2025-03-25T20:16:18.768777Z",
     "iopub.status.idle": "2025-03-25T20:16:18.771660Z",
     "shell.execute_reply": "2025-03-25T20:16:18.771020Z"
    },
    "papermill": {
     "duration": 0.007637,
     "end_time": "2025-03-25T20:16:18.772706",
     "exception": false,
     "start_time": "2025-03-25T20:16:18.765069",
     "status": "completed"
    },
    "tags": []
   },
   "outputs": [],
   "source": [
    "# # Tune l2 rate\n",
    "\n",
    "# def build_model_l2(hp):\n",
    "#     dropout_rate = best_dropout\n",
    "#     l2_rate = hp.Float('l2_rate', min_value=0.0001, max_value=0.01, step=10, sampling='log')\n",
    "#     learning_rate = 3e-5\n",
    "#     return define_model(dropout_rate, l2_rate, learning_rate)\n",
    "\n",
    "# tuner_l2 = kt.Hyperband(\n",
    "#     build_model_l2,\n",
    "#     objective='val_categorical_accuracy',\n",
    "#     max_epochs=10,\n",
    "#     factor=3,\n",
    "#     directory='/kaggle/tmp',\n",
    "#     project_name='ccc_bert_hyperparameter_tuning'\n",
    "# )\n",
    "\n",
    "# tuner_l2.search(\n",
    "#     train_ds,\n",
    "#     validation_data=val_ds,\n",
    "#     epochs=10,\n",
    "#     callbacks=[tf.keras.callbacks.EarlyStopping(patience=3)])\n",
    "\n",
    "# best_l2 = tuner_l2.get_best_hyperparameters(num_trials=1)[0].get('l2_rate')\n",
    "# print(f'Best l2 rate: {best_l2}')\n",
    "\n",
    "# shutil.rmtree('/kaggle/tmp')"
   ]
  },
  {
   "cell_type": "code",
   "execution_count": 9,
   "id": "a182428d",
   "metadata": {
    "execution": {
     "iopub.execute_input": "2025-03-25T20:16:18.779610Z",
     "iopub.status.busy": "2025-03-25T20:16:18.779376Z",
     "iopub.status.idle": "2025-03-25T20:16:18.782175Z",
     "shell.execute_reply": "2025-03-25T20:16:18.781603Z"
    },
    "papermill": {
     "duration": 0.007395,
     "end_time": "2025-03-25T20:16:18.783251",
     "exception": false,
     "start_time": "2025-03-25T20:16:18.775856",
     "status": "completed"
    },
    "tags": []
   },
   "outputs": [],
   "source": [
    "# # Tune learning rate\n",
    "\n",
    "# def build_model_lr(hp):\n",
    "#     dropout_rate = best_dropout\n",
    "#     l2_rate = best_l2\n",
    "#     learning_rate = hp.Choice('learning_rate', [1e-5, 2e-5, 3e-5, 5e-5])\n",
    "#     return define_model(dropout_rate, l2_rate, learning_rate)\n",
    "\n",
    "# tuner_lr = kt.Hyperband(\n",
    "#     build_model_lr,\n",
    "#     objective='val_categorical_accuracy',\n",
    "#     max_epochs=10,\n",
    "#     factor=3,\n",
    "#     directory='/kaggle/tmp',\n",
    "#     project_name='ccc_bert_hyperparameter_tuning'\n",
    "# )\n",
    "\n",
    "# tuner_lr.search(\n",
    "#     train_ds,\n",
    "#     validation_data=val_ds,\n",
    "#     epochs=10,\n",
    "#     callbacks=[tf.keras.callbacks.EarlyStopping(patience=3)])\n",
    "\n",
    "# best_lr = tuner_lr.get_best_hyperparameters(num_trials=1)[0].get('learning_rate')\n",
    "# print(f'Best learning rate: {best_lr}')\n",
    "\n",
    "# shutil.rmtree('/kaggle/tmp')"
   ]
  },
  {
   "cell_type": "code",
   "execution_count": 10,
   "id": "2078e5a9",
   "metadata": {
    "execution": {
     "iopub.execute_input": "2025-03-25T20:16:18.790019Z",
     "iopub.status.busy": "2025-03-25T20:16:18.789826Z",
     "iopub.status.idle": "2025-03-25T20:16:18.792499Z",
     "shell.execute_reply": "2025-03-25T20:16:18.791902Z"
    },
    "papermill": {
     "duration": 0.007357,
     "end_time": "2025-03-25T20:16:18.793644",
     "exception": false,
     "start_time": "2025-03-25T20:16:18.786287",
     "status": "completed"
    },
    "tags": []
   },
   "outputs": [],
   "source": [
    "# print(f\"\"\"\n",
    "#     Best hyperparameters found:\n",
    "#     - Dropout rate: {best_dropout}\n",
    "#     - L2 regularization: {best_l2}\n",
    "#     - Learning rate: {best_lr}\n",
    "#     \"\"\")"
   ]
  },
  {
   "cell_type": "code",
   "execution_count": 11,
   "id": "a01c8208",
   "metadata": {
    "execution": {
     "iopub.execute_input": "2025-03-25T20:16:18.806589Z",
     "iopub.status.busy": "2025-03-25T20:16:18.806363Z",
     "iopub.status.idle": "2025-03-25T20:23:55.761567Z",
     "shell.execute_reply": "2025-03-25T20:23:55.760828Z"
    },
    "papermill": {
     "duration": 456.964852,
     "end_time": "2025-03-25T20:23:55.762987",
     "exception": false,
     "start_time": "2025-03-25T20:16:18.798135",
     "status": "completed"
    },
    "tags": []
   },
   "outputs": [
    {
     "name": "stdout",
     "output_type": "stream",
     "text": [
      "Epoch 1/40\n",
      "65/65 [==============================] - 51s 574ms/step - loss: 1.4009 - categorical_accuracy: 0.3319 - val_loss: 1.1774 - val_categorical_accuracy: 0.4414\n",
      "Epoch 2/40\n",
      "65/65 [==============================] - 36s 558ms/step - loss: 0.9755 - categorical_accuracy: 0.5626 - val_loss: 0.9432 - val_categorical_accuracy: 0.5430\n",
      "Epoch 3/40\n",
      "65/65 [==============================] - 36s 558ms/step - loss: 0.6711 - categorical_accuracy: 0.7110 - val_loss: 1.0807 - val_categorical_accuracy: 0.5625\n",
      "Epoch 4/40\n",
      "65/65 [==============================] - 36s 558ms/step - loss: 0.3818 - categorical_accuracy: 0.8521 - val_loss: 1.4735 - val_categorical_accuracy: 0.5664\n",
      "Epoch 5/40\n",
      "65/65 [==============================] - 36s 554ms/step - loss: 0.2540 - categorical_accuracy: 0.9046 - val_loss: 2.0657 - val_categorical_accuracy: 0.5508\n",
      "Epoch 6/40\n",
      "65/65 [==============================] - 36s 558ms/step - loss: 0.1515 - categorical_accuracy: 0.9489 - val_loss: 1.8729 - val_categorical_accuracy: 0.5898\n",
      "Epoch 7/40\n",
      "65/65 [==============================] - 36s 554ms/step - loss: 0.0948 - categorical_accuracy: 0.9663 - val_loss: 2.0910 - val_categorical_accuracy: 0.5703\n",
      "Epoch 8/40\n",
      "65/65 [==============================] - 36s 558ms/step - loss: 0.0687 - categorical_accuracy: 0.9764 - val_loss: 2.2027 - val_categorical_accuracy: 0.6016\n",
      "Epoch 9/40\n",
      "65/65 [==============================] - 36s 558ms/step - loss: 0.0652 - categorical_accuracy: 0.9803 - val_loss: 2.6208 - val_categorical_accuracy: 0.6133\n",
      "Epoch 10/40\n",
      "65/65 [==============================] - 36s 554ms/step - loss: 0.0122 - categorical_accuracy: 0.9971 - val_loss: 2.9058 - val_categorical_accuracy: 0.5938\n",
      "Epoch 11/40\n",
      "65/65 [==============================] - 36s 554ms/step - loss: 0.0081 - categorical_accuracy: 0.9976 - val_loss: 3.1187 - val_categorical_accuracy: 0.6016\n",
      "Epoch 12/40\n",
      "65/65 [==============================] - ETA: 0s - loss: 0.0170 - categorical_accuracy: 0.9961Restoring model weights from the end of the best epoch: 9.\n",
      "65/65 [==============================] - 36s 559ms/step - loss: 0.0170 - categorical_accuracy: 0.9961 - val_loss: 3.3778 - val_categorical_accuracy: 0.6055\n",
      "Epoch 12: early stopping\n"
     ]
    }
   ],
   "source": [
    "# best_model = define_model(best_dropout, best_l2, best_lr)\n",
    "best_model = tuner.hypermodel.build(best_hps)\n",
    "\n",
    "early_stopping = EarlyStopping(\n",
    "    monitor='val_categorical_accuracy', \n",
    "    patience=3, # Number of epochs with no improvement before stopping\n",
    "    mode='max',  # We want to maximize accuracy\n",
    "    verbose=1,\n",
    "    restore_best_weights=True, # Restore the best weights once training stops\n",
    "    min_delta=0.001)  # Minimum change to qualify as an improvement\n",
    "\n",
    "training_history = best_model.fit(\n",
    "    x=train_ds,\n",
    "    validation_data=val_ds,\n",
    "    epochs=epochs,\n",
    "    callbacks=[early_stopping])"
   ]
  },
  {
   "cell_type": "code",
   "execution_count": 12,
   "id": "356a0121",
   "metadata": {
    "execution": {
     "iopub.execute_input": "2025-03-25T20:23:55.884666Z",
     "iopub.status.busy": "2025-03-25T20:23:55.884305Z",
     "iopub.status.idle": "2025-03-25T20:23:57.992841Z",
     "shell.execute_reply": "2025-03-25T20:23:57.992125Z"
    },
    "papermill": {
     "duration": 2.147983,
     "end_time": "2025-03-25T20:23:57.993991",
     "exception": false,
     "start_time": "2025-03-25T20:23:55.846008",
     "status": "completed"
    },
    "tags": []
   },
   "outputs": [
    {
     "name": "stdout",
     "output_type": "stream",
     "text": [
      "8/8 [==============================] - 2s 199ms/step - loss: 2.7859 - categorical_accuracy: 0.5859\n",
      "Loss: 2.785928964614868\n",
      "Accuracy: 0.5859375\n"
     ]
    }
   ],
   "source": [
    "loss, accuracy = best_model.evaluate(test_ds)\n",
    "\n",
    "print(f'Loss: {loss}')\n",
    "print(f'Accuracy: {accuracy}')"
   ]
  },
  {
   "cell_type": "code",
   "execution_count": 13,
   "id": "bfae2764",
   "metadata": {
    "execution": {
     "iopub.execute_input": "2025-03-25T20:23:58.072130Z",
     "iopub.status.busy": "2025-03-25T20:23:58.071887Z",
     "iopub.status.idle": "2025-03-25T20:23:59.423368Z",
     "shell.execute_reply": "2025-03-25T20:23:59.422502Z"
    },
    "papermill": {
     "duration": 1.391832,
     "end_time": "2025-03-25T20:23:59.425166",
     "exception": false,
     "start_time": "2025-03-25T20:23:58.033334",
     "status": "completed"
    },
    "tags": []
   },
   "outputs": [
    {
     "data": {
      "image/png": "[encoded data removed]",
      "text/plain": [
       "<Figure size 1000x800 with 2 Axes>"
      ]
     },
     "metadata": {},
     "output_type": "display_data"
    }
   ],
   "source": [
    "history_dict = training_history.history\n",
    "\n",
    "acc = history_dict['categorical_accuracy']\n",
    "val_acc = history_dict['val_categorical_accuracy']\n",
    "loss = history_dict['loss']\n",
    "val_loss = history_dict['val_loss']\n",
    "\n",
    "epochs = range(1, len(acc) + 1)\n",
    "fig = plt.figure(figsize=(10, 8))\n",
    "fig.tight_layout()\n",
    "\n",
    "plt.subplot(2, 1, 1)\n",
    "# r is for \"solid red line\"\n",
    "plt.plot(epochs, loss, 'r', label='Training loss')\n",
    "# b is for \"solid blue line\"\n",
    "plt.plot(epochs, val_loss, 'b', label='Validation loss')\n",
    "plt.title(f'Training and validation loss ({dataset_name})')\n",
    "# plt.xlabel('Epochs')\n",
    "plt.ylabel('Loss')\n",
    "plt.legend()\n",
    "\n",
    "# Add value labels for loss\n",
    "for x, y in zip(epochs, loss):\n",
    "    plt.text(x, y, f\"{y:.2f}\", color='red', ha='center', va='bottom')\n",
    "for x, y in zip(epochs, val_loss):\n",
    "    plt.text(x, y, f\"{y:.2f}\", color='blue', ha='center', va='bottom')\n",
    "\n",
    "plt.subplot(2, 1, 2)\n",
    "plt.plot(epochs, acc, 'r', label='Training acc')\n",
    "plt.plot(epochs, val_acc, 'b', label='Validation acc')\n",
    "plt.title(f'Training and validation accuracy ({dataset_name})')\n",
    "plt.xlabel('Epochs')\n",
    "plt.ylabel('Accuracy')\n",
    "plt.legend(loc='lower right')\n",
    "\n",
    "# Add value labels for accuracy\n",
    "for x, y in zip(epochs, acc):\n",
    "    plt.text(x, y, f\"{y:.2f}\", color='red', ha='center', va='bottom')\n",
    "for x, y in zip(epochs, val_acc):\n",
    "    plt.text(x, y, f\"{y:.2f}\", color='blue', ha='center', va='bottom')\n",
    "\n",
    "figname = f\"{dataset_name}-{datetime.now().strftime('%y%m%d-%H%M%S')}.png\"\n",
    "plt.savefig(f\"/kaggle/working/{figname}\", dpi=300, bbox_inches='tight')\n",
    "plt.show()"
   ]
  },
  {
   "cell_type": "code",
   "execution_count": 14,
   "id": "91fa10dc",
   "metadata": {
    "execution": {
     "iopub.execute_input": "2025-03-25T20:23:59.505390Z",
     "iopub.status.busy": "2025-03-25T20:23:59.505148Z",
     "iopub.status.idle": "2025-03-25T20:23:59.508492Z",
     "shell.execute_reply": "2025-03-25T20:23:59.507864Z"
    },
    "papermill": {
     "duration": 0.044632,
     "end_time": "2025-03-25T20:23:59.509780",
     "exception": false,
     "start_time": "2025-03-25T20:23:59.465148",
     "status": "completed"
    },
    "tags": []
   },
   "outputs": [],
   "source": [
    "# Export model for inference\n",
    "if accuracy > 0.8:\n",
    "    saved_model_path = '/kaggle/output/{}_model'.format(dataset_name.replace('/', '_'))\n",
    "    best_model.save(saved_model_path, include_optimizer=False)"
   ]
  }
 ],
 "metadata": {
  "kaggle": {
   "accelerator": "gpu",
   "dataSources": [
    {
     "datasetId": 6904966,
     "sourceId": 11078677,
     "sourceType": "datasetVersion"
    },
    {
     "datasetId": 6945405,
     "sourceId": 11135644,
     "sourceType": "datasetVersion"
    },
    {
     "datasetId": 6945412,
     "sourceId": 11135653,
     "sourceType": "datasetVersion"
    },
    {
     "datasetId": 6950451,
     "sourceId": 11142261,
     "sourceType": "datasetVersion"
    },
    {
     "datasetId": 6967084,
     "sourceId": 11164723,
     "sourceType": "datasetVersion"
    },
    {
     "datasetId": 6967561,
     "sourceId": 11165388,
     "sourceType": "datasetVersion"
    }
   ],
   "dockerImageVersionId": 30918,
   "isGpuEnabled": true,
   "isInternetEnabled": true,
   "language": "python",
   "sourceType": "notebook"
  },
  "kernelspec": {
   "display_name": "Python 3",
   "language": "python",
   "name": "python3"
  },
  "language_info": {
   "codemirror_mode": {
    "name": "ipython",
    "version": 3
   },
   "file_extension": ".py",
   "mimetype": "text/x-python",
   "name": "python",
   "nbconvert_exporter": "python",
   "pygments_lexer": "ipython3",
   "version": "3.10.12"
  },
  "papermill": {
   "default_parameters": {},
   "duration": 2456.812927,
   "end_time": "2025-03-25T20:24:02.832720",
   "environment_variables": {},
   "exception": null,
   "input_path": "__notebook__.ipynb",
   "output_path": "__notebook__.ipynb",
   "parameters": {},
   "start_time": "2025-03-25T19:43:06.019793",
   "version": "2.6.0"
  }
 },
 "nbformat": 4,
 "nbformat_minor": 5
}
